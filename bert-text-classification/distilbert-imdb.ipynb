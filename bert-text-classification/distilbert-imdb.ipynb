{
 "cells": [
  {
   "cell_type": "markdown",
   "id": "ec3e1fc7",
   "metadata": {},
   "source": [
    "# Sentiment Classification of IMDB Reviews Using DistilBERT\n",
    "\n",
    "\n",
    "[![Open in Layer](https://development.layer.co/assets/badge.svg)](https://app.layer.ai/douglas_mcilwraith/bert-text-classification/) [![Open in Colab](https://colab.research.google.com/assets/colab-badge.svg)](https://colab.research.google.com/github/layerai/examples/blob/main/bert-text-classification/bert-text-classification.ipynb) [![Layer Examples Github](https://badgen.net/badge/icon/github?icon=github&label)](https://github.com/layerai/examples/tree/main/bert-text-classification)\n",
    "\n",
    "We use the DistilBERT [] to perform sentiment classification on the [IMDB sentiment dataset](https://www.kaggle.com/datasets/lakshmi25npathi/imdb-dataset-of-50k-movie-reviews?resource=download)\n"
   ]
  },
  {
   "cell_type": "code",
   "execution_count": 5,
   "id": "73d79879",
   "metadata": {},
   "outputs": [
    {
     "name": "stdout",
     "output_type": "stream",
     "text": [
      "Requirement already satisfied: layer in /Users/douglas.mcilwraith/.pyenv/versions/3.8.10/lib/python3.8/site-packages (0.10.2383531906)\n",
      "Requirement already satisfied: grpcio-tools==1.45.0 in /Users/douglas.mcilwraith/.pyenv/versions/3.8.10/lib/python3.8/site-packages (from layer) (1.45.0)\n",
      "Requirement already satisfied: polling>=0.3.1 in /Users/douglas.mcilwraith/.pyenv/versions/3.8.10/lib/python3.8/site-packages (from layer) (0.3.2)\n",
      "Requirement already satisfied: packaging<=21.0 in /Users/douglas.mcilwraith/.pyenv/versions/3.8.10/lib/python3.8/site-packages (from layer) (21.0)\n",
      "Requirement already satisfied: pyjwt<2.0.0,>=1.7.1 in /Users/douglas.mcilwraith/.pyenv/versions/3.8.10/lib/python3.8/site-packages (from layer) (1.7.1)\n",
      "Requirement already satisfied: yarl>=1.6.3 in /Users/douglas.mcilwraith/.pyenv/versions/3.8.10/lib/python3.8/site-packages (from layer) (1.7.2)\n",
      "Requirement already satisfied: jsonschema==3.1.1 in /Users/douglas.mcilwraith/.pyenv/versions/3.8.10/lib/python3.8/site-packages (from layer) (3.1.1)\n",
      "Requirement already satisfied: humanize>=3.11.0 in /Users/douglas.mcilwraith/.pyenv/versions/3.8.10/lib/python3.8/site-packages (from layer) (3.13.1)\n",
      "Requirement already satisfied: networkx>=2.5 in /Users/douglas.mcilwraith/.pyenv/versions/3.8.10/lib/python3.8/site-packages (from layer) (2.6.3)\n",
      "Requirement already satisfied: validate-email==1.3 in /Users/douglas.mcilwraith/.pyenv/versions/3.8.10/lib/python3.8/site-packages (from layer) (1.3)\n",
      "Requirement already satisfied: Jinja2>=2.11.3 in /Users/douglas.mcilwraith/.pyenv/versions/3.8.10/lib/python3.8/site-packages (from layer) (3.0.3)\n",
      "Requirement already satisfied: protobuf>=3.12.0 in /Users/douglas.mcilwraith/.pyenv/versions/3.8.10/lib/python3.8/site-packages (from layer) (3.19.1)\n",
      "Requirement already satisfied: cryptography>=3.4.7 in /Users/douglas.mcilwraith/.pyenv/versions/3.8.10/lib/python3.8/site-packages (from layer) (36.0.0)\n",
      "Requirement already satisfied: prompt_toolkit>=3.0.8 in /Users/douglas.mcilwraith/.pyenv/versions/3.8.10/lib/python3.8/site-packages (from layer) (3.0.23)\n",
      "Requirement already satisfied: pandas==1.3.5 in /Users/douglas.mcilwraith/.pyenv/versions/3.8.10/lib/python3.8/site-packages (from layer) (1.3.5)\n",
      "Requirement already satisfied: Pillow>=9.1.0 in /Users/douglas.mcilwraith/.pyenv/versions/3.8.10/lib/python3.8/site-packages (from layer) (9.1.0)\n",
      "Requirement already satisfied: pyarrow==7.0.0 in /Users/douglas.mcilwraith/.pyenv/versions/3.8.10/lib/python3.8/site-packages (from layer) (7.0.0)\n",
      "Requirement already satisfied: boto3>=1.16.24 in /Users/douglas.mcilwraith/.pyenv/versions/3.8.10/lib/python3.8/site-packages (from layer) (1.20.16)\n",
      "Requirement already satisfied: aiohttp<3.8.0,>=3.7.3 in /Users/douglas.mcilwraith/.pyenv/versions/3.8.10/lib/python3.8/site-packages (from layer) (3.7.4.post0)\n",
      "Requirement already satisfied: mlflow>=1.25.0 in /Users/douglas.mcilwraith/.pyenv/versions/3.8.10/lib/python3.8/site-packages (from layer) (1.25.1)\n",
      "Requirement already satisfied: wrapt>=1.13.3 in /Users/douglas.mcilwraith/.pyenv/versions/3.8.10/lib/python3.8/site-packages (from layer) (1.13.3)\n",
      "Requirement already satisfied: idna<3 in /Users/douglas.mcilwraith/.pyenv/versions/3.8.10/lib/python3.8/site-packages (from layer) (2.10)\n",
      "Requirement already satisfied: grpcio==1.45.0 in /Users/douglas.mcilwraith/.pyenv/versions/3.8.10/lib/python3.8/site-packages (from layer) (1.45.0)\n",
      "Requirement already satisfied: transformers in /Users/douglas.mcilwraith/.pyenv/versions/3.8.10/lib/python3.8/site-packages (from layer) (4.12.5)\n",
      "Requirement already satisfied: docker<5,>=4 in /Users/douglas.mcilwraith/.pyenv/versions/3.8.10/lib/python3.8/site-packages (from layer) (4.4.4)\n",
      "Requirement already satisfied: layer-api==0.9.360101 in /Users/douglas.mcilwraith/.pyenv/versions/3.8.10/lib/python3.8/site-packages (from layer) (0.9.360101)\n",
      "Requirement already satisfied: cloudpickle>=2.0.0 in /Users/douglas.mcilwraith/.pyenv/versions/3.8.10/lib/python3.8/site-packages (from layer) (2.0.0)\n",
      "Requirement already satisfied: rich>=11 in /Users/douglas.mcilwraith/.pyenv/versions/3.8.10/lib/python3.8/site-packages (from layer) (12.4.1)\n",
      "Requirement already satisfied: six>=1.5.2 in /Users/douglas.mcilwraith/.pyenv/versions/3.8.10/lib/python3.8/site-packages (from grpcio==1.45.0->layer) (1.16.0)\n",
      "Requirement already satisfied: setuptools in /Users/douglas.mcilwraith/.pyenv/versions/3.8.10/lib/python3.8/site-packages (from grpcio-tools==1.45.0->layer) (56.0.0)\n",
      "Requirement already satisfied: importlib-metadata in /Users/douglas.mcilwraith/.pyenv/versions/3.8.10/lib/python3.8/site-packages (from jsonschema==3.1.1->layer) (4.8.2)\n",
      "Requirement already satisfied: attrs>=17.4.0 in /Users/douglas.mcilwraith/.pyenv/versions/3.8.10/lib/python3.8/site-packages (from jsonschema==3.1.1->layer) (21.2.0)\n",
      "Requirement already satisfied: pyrsistent>=0.14.0 in /Users/douglas.mcilwraith/.pyenv/versions/3.8.10/lib/python3.8/site-packages (from jsonschema==3.1.1->layer) (0.18.0)\n",
      "Requirement already satisfied: numpy>=1.17.3 in /Users/douglas.mcilwraith/.pyenv/versions/3.8.10/lib/python3.8/site-packages (from pandas==1.3.5->layer) (1.18.5)\n",
      "Requirement already satisfied: pytz>=2017.3 in /Users/douglas.mcilwraith/.pyenv/versions/3.8.10/lib/python3.8/site-packages (from pandas==1.3.5->layer) (2021.3)\n",
      "Requirement already satisfied: python-dateutil>=2.7.3 in /Users/douglas.mcilwraith/.pyenv/versions/3.8.10/lib/python3.8/site-packages (from pandas==1.3.5->layer) (2.8.2)\n",
      "Requirement already satisfied: chardet<5.0,>=2.0 in /Users/douglas.mcilwraith/.pyenv/versions/3.8.10/lib/python3.8/site-packages (from aiohttp<3.8.0,>=3.7.3->layer) (4.0.0)\n",
      "Requirement already satisfied: multidict<7.0,>=4.5 in /Users/douglas.mcilwraith/.pyenv/versions/3.8.10/lib/python3.8/site-packages (from aiohttp<3.8.0,>=3.7.3->layer) (5.2.0)\n",
      "Requirement already satisfied: typing-extensions>=3.6.5 in /Users/douglas.mcilwraith/.pyenv/versions/3.8.10/lib/python3.8/site-packages (from aiohttp<3.8.0,>=3.7.3->layer) (4.2.0)\n",
      "Requirement already satisfied: async-timeout<4.0,>=3.0 in /Users/douglas.mcilwraith/.pyenv/versions/3.8.10/lib/python3.8/site-packages (from aiohttp<3.8.0,>=3.7.3->layer) (3.0.1)\n",
      "Requirement already satisfied: botocore<1.24.0,>=1.23.16 in /Users/douglas.mcilwraith/.pyenv/versions/3.8.10/lib/python3.8/site-packages (from boto3>=1.16.24->layer) (1.23.16)\n",
      "Requirement already satisfied: jmespath<1.0.0,>=0.7.1 in /Users/douglas.mcilwraith/.pyenv/versions/3.8.10/lib/python3.8/site-packages (from boto3>=1.16.24->layer) (0.10.0)\n",
      "Requirement already satisfied: s3transfer<0.6.0,>=0.5.0 in /Users/douglas.mcilwraith/.pyenv/versions/3.8.10/lib/python3.8/site-packages (from boto3>=1.16.24->layer) (0.5.0)\n",
      "Requirement already satisfied: cffi>=1.12 in /Users/douglas.mcilwraith/.pyenv/versions/3.8.10/lib/python3.8/site-packages (from cryptography>=3.4.7->layer) (1.15.0)\n",
      "Requirement already satisfied: websocket-client>=0.32.0 in /Users/douglas.mcilwraith/.pyenv/versions/3.8.10/lib/python3.8/site-packages (from docker<5,>=4->layer) (1.2.1)\n",
      "Requirement already satisfied: requests!=2.18.0,>=2.14.2 in /Users/douglas.mcilwraith/.pyenv/versions/3.8.10/lib/python3.8/site-packages (from docker<5,>=4->layer) (2.26.0)\n",
      "Requirement already satisfied: MarkupSafe>=2.0 in /Users/douglas.mcilwraith/.pyenv/versions/3.8.10/lib/python3.8/site-packages (from Jinja2>=2.11.3->layer) (2.0.1)\n",
      "Requirement already satisfied: click>=7.0 in /Users/douglas.mcilwraith/.pyenv/versions/3.8.10/lib/python3.8/site-packages (from mlflow>=1.25.0->layer) (8.0.3)\n",
      "Requirement already satisfied: databricks-cli>=0.8.7 in /Users/douglas.mcilwraith/.pyenv/versions/3.8.10/lib/python3.8/site-packages (from mlflow>=1.25.0->layer) (0.16.2)\n",
      "Requirement already satisfied: sqlalchemy in /Users/douglas.mcilwraith/.pyenv/versions/3.8.10/lib/python3.8/site-packages (from mlflow>=1.25.0->layer) (1.4.27)\n",
      "Requirement already satisfied: prometheus-flask-exporter in /Users/douglas.mcilwraith/.pyenv/versions/3.8.10/lib/python3.8/site-packages (from mlflow>=1.25.0->layer) (0.18.6)\n",
      "Requirement already satisfied: gitpython>=2.1.0 in /Users/douglas.mcilwraith/.pyenv/versions/3.8.10/lib/python3.8/site-packages (from mlflow>=1.25.0->layer) (3.1.14)\n",
      "Requirement already satisfied: pyyaml>=5.1 in /Users/douglas.mcilwraith/.pyenv/versions/3.8.10/lib/python3.8/site-packages (from mlflow>=1.25.0->layer) (6.0)\n",
      "Requirement already satisfied: gunicorn in /Users/douglas.mcilwraith/.pyenv/versions/3.8.10/lib/python3.8/site-packages (from mlflow>=1.25.0->layer) (20.1.0)\n",
      "Requirement already satisfied: scipy in /Users/douglas.mcilwraith/.pyenv/versions/3.8.10/lib/python3.8/site-packages (from mlflow>=1.25.0->layer) (1.8.0)\n",
      "Requirement already satisfied: sqlparse>=0.3.1 in /Users/douglas.mcilwraith/.pyenv/versions/3.8.10/lib/python3.8/site-packages (from mlflow>=1.25.0->layer) (0.4.2)\n",
      "Requirement already satisfied: entrypoints in /Users/douglas.mcilwraith/.pyenv/versions/3.8.10/lib/python3.8/site-packages (from mlflow>=1.25.0->layer) (0.3)\n"
     ]
    },
    {
     "name": "stdout",
     "output_type": "stream",
     "text": [
      "Requirement already satisfied: alembic in /Users/douglas.mcilwraith/.pyenv/versions/3.8.10/lib/python3.8/site-packages (from mlflow>=1.25.0->layer) (1.4.1)\n",
      "Requirement already satisfied: querystring-parser in /Users/douglas.mcilwraith/.pyenv/versions/3.8.10/lib/python3.8/site-packages (from mlflow>=1.25.0->layer) (1.2.4)\n",
      "Requirement already satisfied: Flask in /Users/douglas.mcilwraith/.pyenv/versions/3.8.10/lib/python3.8/site-packages (from mlflow>=1.25.0->layer) (2.0.2)\n",
      "Requirement already satisfied: pyparsing>=2.0.2 in /Users/douglas.mcilwraith/.pyenv/versions/3.8.10/lib/python3.8/site-packages (from packaging<=21.0->layer) (3.0.6)\n",
      "Requirement already satisfied: wcwidth in /Users/douglas.mcilwraith/.pyenv/versions/3.8.10/lib/python3.8/site-packages (from prompt_toolkit>=3.0.8->layer) (0.2.5)\n",
      "Requirement already satisfied: commonmark<0.10.0,>=0.9.0 in /Users/douglas.mcilwraith/.pyenv/versions/3.8.10/lib/python3.8/site-packages (from rich>=11->layer) (0.9.1)\n",
      "Requirement already satisfied: pygments<3.0.0,>=2.6.0 in /Users/douglas.mcilwraith/.pyenv/versions/3.8.10/lib/python3.8/site-packages (from rich>=11->layer) (2.10.0)\n",
      "Requirement already satisfied: tqdm>=4.27 in /Users/douglas.mcilwraith/.pyenv/versions/3.8.10/lib/python3.8/site-packages (from transformers->layer) (4.62.3)\n",
      "Requirement already satisfied: tokenizers<0.11,>=0.10.1 in /Users/douglas.mcilwraith/.pyenv/versions/3.8.10/lib/python3.8/site-packages (from transformers->layer) (0.10.3)\n",
      "Requirement already satisfied: regex!=2019.12.17 in /Users/douglas.mcilwraith/.pyenv/versions/3.8.10/lib/python3.8/site-packages (from transformers->layer) (2021.11.10)\n",
      "Requirement already satisfied: filelock in /Users/douglas.mcilwraith/.pyenv/versions/3.8.10/lib/python3.8/site-packages (from transformers->layer) (3.4.0)\n",
      "Requirement already satisfied: sacremoses in /Users/douglas.mcilwraith/.pyenv/versions/3.8.10/lib/python3.8/site-packages (from transformers->layer) (0.0.46)\n",
      "Requirement already satisfied: huggingface-hub<1.0,>=0.1.0 in /Users/douglas.mcilwraith/.pyenv/versions/3.8.10/lib/python3.8/site-packages (from transformers->layer) (0.1.2)\n",
      "Requirement already satisfied: urllib3<1.27,>=1.25.4 in /Users/douglas.mcilwraith/.pyenv/versions/3.8.10/lib/python3.8/site-packages (from botocore<1.24.0,>=1.23.16->boto3>=1.16.24->layer) (1.26.7)\n",
      "Requirement already satisfied: pycparser in /Users/douglas.mcilwraith/.pyenv/versions/3.8.10/lib/python3.8/site-packages (from cffi>=1.12->cryptography>=3.4.7->layer) (2.21)\n",
      "Requirement already satisfied: tabulate>=0.7.7 in /Users/douglas.mcilwraith/.pyenv/versions/3.8.10/lib/python3.8/site-packages (from databricks-cli>=0.8.7->mlflow>=1.25.0->layer) (0.8.9)\n",
      "Requirement already satisfied: gitdb<5,>=4.0.1 in /Users/douglas.mcilwraith/.pyenv/versions/3.8.10/lib/python3.8/site-packages (from gitpython>=2.1.0->mlflow>=1.25.0->layer) (4.0.9)\n",
      "Requirement already satisfied: zipp>=0.5 in /Users/douglas.mcilwraith/.pyenv/versions/3.8.10/lib/python3.8/site-packages (from importlib-metadata->jsonschema==3.1.1->layer) (3.6.0)\n",
      "Requirement already satisfied: certifi>=2017.4.17 in /Users/douglas.mcilwraith/.pyenv/versions/3.8.10/lib/python3.8/site-packages (from requests!=2.18.0,>=2.14.2->docker<5,>=4->layer) (2021.10.8)\n",
      "Requirement already satisfied: charset-normalizer~=2.0.0 in /Users/douglas.mcilwraith/.pyenv/versions/3.8.10/lib/python3.8/site-packages (from requests!=2.18.0,>=2.14.2->docker<5,>=4->layer) (2.0.7)\n",
      "Requirement already satisfied: Mako in /Users/douglas.mcilwraith/.pyenv/versions/3.8.10/lib/python3.8/site-packages (from alembic->mlflow>=1.25.0->layer) (1.1.6)\n",
      "Requirement already satisfied: python-editor>=0.3 in /Users/douglas.mcilwraith/.pyenv/versions/3.8.10/lib/python3.8/site-packages (from alembic->mlflow>=1.25.0->layer) (1.0.4)\n",
      "Requirement already satisfied: greenlet!=0.4.17 in /Users/douglas.mcilwraith/.pyenv/versions/3.8.10/lib/python3.8/site-packages (from sqlalchemy->mlflow>=1.25.0->layer) (1.1.2)\n",
      "Requirement already satisfied: Werkzeug>=2.0 in /Users/douglas.mcilwraith/.pyenv/versions/3.8.10/lib/python3.8/site-packages (from Flask->mlflow>=1.25.0->layer) (2.0.2)\n",
      "Requirement already satisfied: itsdangerous>=2.0 in /Users/douglas.mcilwraith/.pyenv/versions/3.8.10/lib/python3.8/site-packages (from Flask->mlflow>=1.25.0->layer) (2.0.1)\n",
      "Requirement already satisfied: prometheus-client in /Users/douglas.mcilwraith/.pyenv/versions/3.8.10/lib/python3.8/site-packages (from prometheus-flask-exporter->mlflow>=1.25.0->layer) (0.12.0)\n",
      "Requirement already satisfied: joblib in /Users/douglas.mcilwraith/.pyenv/versions/3.8.10/lib/python3.8/site-packages (from sacremoses->transformers->layer) (1.1.0)\n",
      "Requirement already satisfied: smmap<6,>=3.0.1 in /Users/douglas.mcilwraith/.pyenv/versions/3.8.10/lib/python3.8/site-packages (from gitdb<5,>=4.0.1->gitpython>=2.1.0->mlflow>=1.25.0->layer) (5.0.0)\n",
      "\u001b[33mWARNING: You are using pip version 22.0.3; however, version 22.1 is available.\n",
      "You should consider upgrading via the '/Users/douglas.mcilwraith/.pyenv/versions/3.8.10/bin/python3.8 -m pip install --upgrade pip' command.\u001b[0m\u001b[33m\n",
      "\u001b[0m"
     ]
    },
    {
     "data": {
      "text/plain": [
       "Your Layer project is here: https://app.layer.ai/douglas_mcilwraith/distilbert-imdb"
      ]
     },
     "execution_count": 5,
     "metadata": {},
     "output_type": "execute_result"
    }
   ],
   "source": [
    "!pip install layer -U\n",
    "\n",
    "import layer\n",
    "layer.login()\n",
    "\n",
    "from layer.decorators import model, dataset, fabric, pip_requirements\n",
    "layer.init(\"distilbert-imdb\")"
   ]
  },
  {
   "cell_type": "code",
   "execution_count": null,
   "id": "6ed1e053",
   "metadata": {},
   "outputs": [],
   "source": [
    "#Preprocess our training dataset and upload to layer\n",
    "@dataset(\"imdb-train\")\n",
    "@pip_requirements(packages=[\"datasets\"])\n",
    "def build():\n",
    "    from datasets import load_dataset\n",
    "    import pandas as pd\n",
    "\n",
    "    ds = load_dataset(\"imdb\")['train']\n",
    "    df = pd.DataFrame(ds)\n",
    "    return df\n",
    "\n",
    "layer.run([build])"
   ]
  },
  {
   "cell_type": "code",
   "execution_count": null,
   "id": "4090fb1d",
   "metadata": {},
   "outputs": [],
   "source": [
    "#Preprocess our test dataset and upload to layer\n",
    "@dataset(\"imdb-test\")\n",
    "@pip_requirements(packages=[\"datasets\"])\n",
    "def build():\n",
    "    from datasets import load_dataset\n",
    "    import pandas as pd\n",
    "\n",
    "    ds = load_dataset(\"imdb\")['test']\n",
    "    df = pd.DataFrame(ds)\n",
    "    return df\n",
    "\n",
    "layer.run([build])"
   ]
  },
  {
   "cell_type": "code",
   "execution_count": null,
   "id": "44625d91",
   "metadata": {},
   "outputs": [],
   "source": [
    "#Fine tune the DistilBERT model using 10% of the train data (randomly sampled)\n",
    "@fabric(\"f-gpu-small\")\n",
    "@model('bert-fine-tune')\n",
    "def train():\n",
    "    import numpy as np\n",
    "    import pandas as pd\n",
    "    import torch\n",
    "\n",
    "    from sklearn.metrics import accuracy_score, recall_score, precision_score, f1_score\n",
    "    from sklearn.model_selection import train_test_split\n",
    "    from transformers import TrainingArguments, Trainer\n",
    "    from transformers import DistilBertTokenizer, DistilBertForSequenceClassification\n",
    "    from transformers import EarlyStoppingCallback\n",
    "    \n",
    "\n",
    "    model_name = \"distilbert-base-uncased\"\n",
    "    tokenizer = DistilBertTokenizer.from_pretrained(model_name)\n",
    "    model = DistilBertForSequenceClassification.from_pretrained(model_name, num_labels=2)\n",
    "    data = layer.get_dataset(\"douglas_mcilwraith/distilbert-imdb/datasets/imdb-train:1.1\").to_pandas()\n",
    "    data = data.sample(frac=0.10, replace=False, random_state=2)\n",
    "\n",
    "    X = list(data[\"text\"])\n",
    "    y = list(data[\"label\"])\n",
    "    \n",
    "    X_train, X_val, y_train, y_val = train_test_split(X, y, test_size=0.2)\n",
    "    \n",
    "    X_train_tokenized = tokenizer(X_train, padding=True, truncation=True, max_length=512)\n",
    "    X_val_tokenized = tokenizer(X_val, padding=True, truncation=True, max_length=512)\n",
    "    \n",
    "    class MyDataset(torch.utils.data.Dataset):\n",
    "        def __init__(self, encodings, labels=None):\n",
    "            self.encodings = encodings\n",
    "            self.labels = labels\n",
    "\n",
    "        def __getitem__(self, idx):\n",
    "            item = {key: torch.tensor(val[idx]) for key, val in self.encodings.items()}\n",
    "            if self.labels:\n",
    "                item[\"labels\"] = torch.tensor(self.labels[idx])\n",
    "            return item\n",
    "\n",
    "        def __len__(self):\n",
    "            return len(self.encodings[\"input_ids\"])\n",
    "    \n",
    "    train_dataset = MyDataset(X_train_tokenized, y_train)\n",
    "    val_dataset = MyDataset(X_val_tokenized, y_val)\n",
    "    \n",
    "    \n",
    "    def calc_metrics(p):\n",
    "        pred = p[0]\n",
    "        labels = p[1]\n",
    "        pred = np.argmax(pred, axis=1)\n",
    "        \n",
    "        a = accuracy_score(y_pred=pred, y_true=labels)\n",
    "        r = recall_score(y_pred=pred, y_true=labels)\n",
    "        p = precision_score(y_pred=pred, y_true=labels,)\n",
    "        f = f1_score(y_pred=pred, y_true=labels)\n",
    "        \n",
    "        metrics = {\"accuracy\": a,\"precision\": p, \"recall\": r, \"f1\": f}\n",
    "        \n",
    "        #log the metrics from the latest evaluation to the UI\n",
    "        layer.log(metrics)\n",
    "        return metrics\n",
    "    \n",
    "    args = TrainingArguments(\n",
    "        output_dir=\"out\",\n",
    "        evaluation_strategy=\"steps\",\n",
    "        eval_steps=500,\n",
    "        per_device_train_batch_size=8,\n",
    "        per_device_eval_batch_size=8,\n",
    "        num_train_epochs=50,\n",
    "        load_best_model_at_end=True,\n",
    "    )\n",
    "    trainer = Trainer(\n",
    "        model=model,\n",
    "        args=args,\n",
    "        train_dataset=train_dataset,\n",
    "        eval_dataset=val_dataset,\n",
    "        compute_metrics=calc_metrics,\n",
    "        callbacks=[EarlyStoppingCallback(early_stopping_patience=2)],\n",
    "    )\n",
    "\n",
    "    trainer.train()\n",
    "    \n",
    "    return model\n",
    "\n",
    "layer.run([train],debug=True)"
   ]
  },
  {
   "cell_type": "code",
   "execution_count": null,
   "id": "e713f1df",
   "metadata": {},
   "outputs": [
    {
     "data": {
      "application/vnd.jupyter.widget-view+json": {
       "model_id": "1034ae78f43d41dca844892e39cebab9",
       "version_major": 2,
       "version_minor": 0
      },
      "text/plain": [
       "Output()"
      ]
     },
     "metadata": {},
     "output_type": "display_data"
    },
    {
     "data": {
      "text/html": [
       "<pre style=\"white-space:pre;overflow-x:auto;line-height:normal;font-family:Menlo,'DejaVu Sans Mono',consolas,'Courier New',monospace\"><span style=\"color: #808000; text-decoration-color: #808000\">15:56:50 </span><span style=\"color: #008000; text-decoration-color: #008000; font-weight: bold\">distilbert-evaluation</span>: Starting setup of dependencies...\n",
       "</pre>\n"
      ],
      "text/plain": [
       "\u001b[33m15:56:50 \u001b[0m\u001b[1;32mdistilbert-evaluation\u001b[0m: Starting setup of dependencies...\n"
      ]
     },
     "metadata": {},
     "output_type": "display_data"
    },
    {
     "data": {
      "text/html": [
       "<pre style=\"white-space:pre;overflow-x:auto;line-height:normal;font-family:Menlo,'DejaVu Sans Mono',consolas,'Courier New',monospace\"><span style=\"color: #808000; text-decoration-color: #808000\">15:56:50 </span><span style=\"color: #008000; text-decoration-color: #008000; font-weight: bold\">distilbert-evaluation</span>: Using selector: EpollSelector\n",
       "</pre>\n"
      ],
      "text/plain": [
       "\u001b[33m15:56:50 \u001b[0m\u001b[1;32mdistilbert-evaluation\u001b[0m: Using selector: EpollSelector\n"
      ]
     },
     "metadata": {},
     "output_type": "display_data"
    },
    {
     "data": {
      "text/html": [
       "<pre style=\"white-space:pre;overflow-x:auto;line-height:normal;font-family:Menlo,'DejaVu Sans Mono',consolas,'Courier New',monospace\"><span style=\"color: #808000; text-decoration-color: #808000\">15:56:50 </span><span style=\"color: #008000; text-decoration-color: #008000; font-weight: bold\">distilbert-evaluation</span>: Successfully logged into https://app.layer.ai\n",
       "</pre>\n"
      ],
      "text/plain": [
       "\u001b[33m15:56:50 \u001b[0m\u001b[1;32mdistilbert-evaluation\u001b[0m: Successfully logged into https://app.layer.ai\n"
      ]
     },
     "metadata": {},
     "output_type": "display_data"
    },
    {
     "data": {
      "text/html": [
       "<pre style=\"white-space:pre;overflow-x:auto;line-height:normal;font-family:Menlo,'DejaVu Sans Mono',consolas,'Courier New',monospace\"><span style=\"color: #808000; text-decoration-color: #808000\">15:56:50 </span><span style=\"color: #008000; text-decoration-color: #008000; font-weight: bold\">distilbert-evaluation</span>: Using selector: EpollSelector\n",
       "</pre>\n"
      ],
      "text/plain": [
       "\u001b[33m15:56:50 \u001b[0m\u001b[1;32mdistilbert-evaluation\u001b[0m: Using selector: EpollSelector\n"
      ]
     },
     "metadata": {},
     "output_type": "display_data"
    },
    {
     "data": {
      "text/html": [
       "<pre style=\"white-space:pre;overflow-x:auto;line-height:normal;font-family:Menlo,'DejaVu Sans Mono',consolas,'Courier New',monospace\"><span style=\"color: #808000; text-decoration-color: #808000\">15:56:50 </span><span style=\"color: #008000; text-decoration-color: #008000; font-weight: bold\">distilbert-evaluation</span>: Downloading execution artifacts model-training--layer20220407\n",
       "15233796120000001d/93bceff2-c8d2-484c-99cb-8bc5c8b6962a/4f816ae2-93a4-4aef-b63d-20fce70e7149/\n",
       "distilbert-evaluation.tgz to ~/source\n",
       "</pre>\n"
      ],
      "text/plain": [
       "\u001b[33m15:56:50 \u001b[0m\u001b[1;32mdistilbert-evaluation\u001b[0m: Downloading execution artifacts model-training--layer20220407\n",
       "15233796120000001d/93bceff2-c8d2-484c-99cb-8bc5c8b6962a/4f816ae2-93a4-4aef-b63d-20fce70e7149/\n",
       "distilbert-evaluation.tgz to ~/source\n"
      ]
     },
     "metadata": {},
     "output_type": "display_data"
    },
    {
     "data": {
      "text/html": [
       "<pre style=\"white-space:pre;overflow-x:auto;line-height:normal;font-family:Menlo,'DejaVu Sans Mono',consolas,'Courier New',monospace\"><span style=\"color: #808000; text-decoration-color: #808000\">15:56:50 </span><span style=\"color: #008000; text-decoration-color: #008000; font-weight: bold\">distilbert-evaluation</span>: Creating directory ~/source\n",
       "</pre>\n"
      ],
      "text/plain": [
       "\u001b[33m15:56:50 \u001b[0m\u001b[1;32mdistilbert-evaluation\u001b[0m: Creating directory ~/source\n"
      ]
     },
     "metadata": {},
     "output_type": "display_data"
    },
    {
     "data": {
      "text/html": [
       "<pre style=\"white-space:pre;overflow-x:auto;line-height:normal;font-family:Menlo,'DejaVu Sans Mono',consolas,'Courier New',monospace\"><span style=\"color: #808000; text-decoration-color: #808000\">15:56:50 </span><span style=\"color: #008000; text-decoration-color: #008000; font-weight: bold\">distilbert-evaluation</span>: Place __init__.py in ~/source\n",
       "</pre>\n"
      ],
      "text/plain": [
       "\u001b[33m15:56:50 \u001b[0m\u001b[1;32mdistilbert-evaluation\u001b[0m: Place __init__.py in ~/source\n"
      ]
     },
     "metadata": {},
     "output_type": "display_data"
    },
    {
     "data": {
      "text/html": [
       "<pre style=\"white-space:pre;overflow-x:auto;line-height:normal;font-family:Menlo,'DejaVu Sans Mono',consolas,'Courier New',monospace\"><span style=\"color: #808000; text-decoration-color: #808000\">15:56:50 </span><span style=\"color: #008000; text-decoration-color: #008000; font-weight: bold\">distilbert-evaluation</span>: Download binary(93bceff2-c8d2-484c-99cb-8bc5c8b6962a/4f816ae2\n",
       "-93a4-4aef-b63d-20fce70e7149/distilbert-evaluation.tgz) to temp directory\n",
       "</pre>\n"
      ],
      "text/plain": [
       "\u001b[33m15:56:50 \u001b[0m\u001b[1;32mdistilbert-evaluation\u001b[0m: Download binary(93bceff2-c8d2-484c-99cb-8bc5c8b6962a/4f816ae2\n",
       "-93a4-4aef-b63d-20fce70e7149/distilbert-evaluation.tgz) to temp directory\n"
      ]
     },
     "metadata": {},
     "output_type": "display_data"
    },
    {
     "data": {
      "text/html": [
       "<pre style=\"white-space:pre;overflow-x:auto;line-height:normal;font-family:Menlo,'DejaVu Sans Mono',consolas,'Courier New',monospace\"><span style=\"color: #808000; text-decoration-color: #808000\">15:56:51 </span><span style=\"color: #008000; text-decoration-color: #008000; font-weight: bold\">distilbert-evaluation</span>: Binary archive distilbert-evaluation.tgz downloaded and \n",
       "extracted to ~/source successfully\n",
       "</pre>\n"
      ],
      "text/plain": [
       "\u001b[33m15:56:51 \u001b[0m\u001b[1;32mdistilbert-evaluation\u001b[0m: Binary archive distilbert-evaluation.tgz downloaded and \n",
       "extracted to ~/source successfully\n"
      ]
     },
     "metadata": {},
     "output_type": "display_data"
    },
    {
     "data": {
      "text/html": [
       "<pre style=\"white-space:pre;overflow-x:auto;line-height:normal;font-family:Menlo,'DejaVu Sans Mono',consolas,'Courier New',monospace\"><span style=\"color: #808000; text-decoration-color: #808000\">15:56:51 </span><span style=\"color: #008000; text-decoration-color: #008000; font-weight: bold\">distilbert-evaluation</span>: Execution artifacts model-training--layer20220407152337961200\n",
       "00001d/93bceff2-c8d2-484c-99cb-8bc5c8b6962a/4f816ae2-93a4-4aef-b63d-20fce70e7149/distilbert-e\n",
       "valuation.tgz downloaded successfully to ~/source\n",
       "</pre>\n"
      ],
      "text/plain": [
       "\u001b[33m15:56:51 \u001b[0m\u001b[1;32mdistilbert-evaluation\u001b[0m: Execution artifacts model-training--layer20220407152337961200\n",
       "00001d/93bceff2-c8d2-484c-99cb-8bc5c8b6962a/4f816ae2-93a4-4aef-b63d-20fce70e7149/distilbert-e\n",
       "valuation.tgz downloaded successfully to ~/source\n"
      ]
     },
     "metadata": {},
     "output_type": "display_data"
    },
    {
     "data": {
      "text/html": [
       "<pre style=\"white-space:pre;overflow-x:auto;line-height:normal;font-family:Menlo,'DejaVu Sans Mono',consolas,'Courier New',monospace\"><span style=\"color: #808000; text-decoration-color: #808000\">15:56:51 </span><span style=\"color: #008000; text-decoration-color: #008000; font-weight: bold\">distilbert-evaluation</span>: Not installing any dependencies, requirements file or \n",
       "packages were not defined. Use @pip_requirements to decorate your function if it uses any \n",
       "libraries.\n",
       "</pre>\n"
      ],
      "text/plain": [
       "\u001b[33m15:56:51 \u001b[0m\u001b[1;32mdistilbert-evaluation\u001b[0m: Not installing any dependencies, requirements file or \n",
       "packages were not defined. Use @pip_requirements to decorate your function if it uses any \n",
       "libraries.\n"
      ]
     },
     "metadata": {},
     "output_type": "display_data"
    },
    {
     "data": {
      "text/html": [
       "<pre style=\"white-space:pre;overflow-x:auto;line-height:normal;font-family:Menlo,'DejaVu Sans Mono',consolas,'Courier New',monospace\"><span style=\"color: #808000; text-decoration-color: #808000\">15:56:52 </span><span style=\"color: #008000; text-decoration-color: #008000; font-weight: bold\">distilbert-evaluation</span>: Starting job.\n",
       "</pre>\n"
      ],
      "text/plain": [
       "\u001b[33m15:56:52 \u001b[0m\u001b[1;32mdistilbert-evaluation\u001b[0m: Starting job.\n"
      ]
     },
     "metadata": {},
     "output_type": "display_data"
    },
    {
     "data": {
      "text/html": [
       "<pre style=\"white-space:pre;overflow-x:auto;line-height:normal;font-family:Menlo,'DejaVu Sans Mono',consolas,'Courier New',monospace\"><span style=\"color: #808000; text-decoration-color: #808000\">15:56:52 </span><span style=\"color: #008000; text-decoration-color: #008000; font-weight: bold\">distilbert-evaluation</span>: Using selector: EpollSelector\n",
       "</pre>\n"
      ],
      "text/plain": [
       "\u001b[33m15:56:52 \u001b[0m\u001b[1;32mdistilbert-evaluation\u001b[0m: Using selector: EpollSelector\n"
      ]
     },
     "metadata": {},
     "output_type": "display_data"
    },
    {
     "data": {
      "text/html": [
       "<pre style=\"white-space:pre;overflow-x:auto;line-height:normal;font-family:Menlo,'DejaVu Sans Mono',consolas,'Courier New',monospace\"><span style=\"color: #808000; text-decoration-color: #808000\">15:56:52 </span><span style=\"color: #008000; text-decoration-color: #008000; font-weight: bold\">distilbert-evaluation</span>: Using selector: EpollSelector\n",
       "</pre>\n"
      ],
      "text/plain": [
       "\u001b[33m15:56:52 \u001b[0m\u001b[1;32mdistilbert-evaluation\u001b[0m: Using selector: EpollSelector\n"
      ]
     },
     "metadata": {},
     "output_type": "display_data"
    },
    {
     "data": {
      "text/html": [
       "<pre style=\"white-space:pre;overflow-x:auto;line-height:normal;font-family:Menlo,'DejaVu Sans Mono',consolas,'Courier New',monospace\"><span style=\"color: #808000; text-decoration-color: #808000\">15:56:52 </span><span style=\"color: #008000; text-decoration-color: #008000; font-weight: bold\">distilbert-evaluation</span>: Using selector: EpollSelector\n",
       "</pre>\n"
      ],
      "text/plain": [
       "\u001b[33m15:56:52 \u001b[0m\u001b[1;32mdistilbert-evaluation\u001b[0m: Using selector: EpollSelector\n"
      ]
     },
     "metadata": {},
     "output_type": "display_data"
    },
    {
     "data": {
      "text/html": [
       "<pre style=\"white-space:pre;overflow-x:auto;line-height:normal;font-family:Menlo,'DejaVu Sans Mono',consolas,'Courier New',monospace\"><span style=\"color: #808000; text-decoration-color: #808000\">15:56:53 </span><span style=\"color: #008000; text-decoration-color: #008000; font-weight: bold\">distilbert-evaluation</span>: Using selector: EpollSelector\n",
       "</pre>\n"
      ],
      "text/plain": [
       "\u001b[33m15:56:53 \u001b[0m\u001b[1;32mdistilbert-evaluation\u001b[0m: Using selector: EpollSelector\n"
      ]
     },
     "metadata": {},
     "output_type": "display_data"
    },
    {
     "data": {
      "text/html": [
       "<pre style=\"white-space:pre;overflow-x:auto;line-height:normal;font-family:Menlo,'DejaVu Sans Mono',consolas,'Courier New',monospace\"><span style=\"color: #808000; text-decoration-color: #808000\">15:56:53 </span><span style=\"color: #008000; text-decoration-color: #008000; font-weight: bold\">distilbert-evaluation</span>: Importing user code(distilbert-evaluation.pkl) from ~/source\n",
       "</pre>\n"
      ],
      "text/plain": [
       "\u001b[33m15:56:53 \u001b[0m\u001b[1;32mdistilbert-evaluation\u001b[0m: Importing user code(distilbert-evaluation.pkl) from ~/source\n"
      ]
     },
     "metadata": {},
     "output_type": "display_data"
    },
    {
     "data": {
      "text/html": [
       "<pre style=\"white-space:pre;overflow-x:auto;line-height:normal;font-family:Menlo,'DejaVu Sans Mono',consolas,'Courier New',monospace\"><span style=\"color: #808000; text-decoration-color: #808000\">15:56:53 </span><span style=\"color: #008000; text-decoration-color: #008000; font-weight: bold\">distilbert-evaluation</span>: train_model_func function imported successfully\n",
       "</pre>\n"
      ],
      "text/plain": [
       "\u001b[33m15:56:53 \u001b[0m\u001b[1;32mdistilbert-evaluation\u001b[0m: train_model_func function imported successfully\n"
      ]
     },
     "metadata": {},
     "output_type": "display_data"
    },
    {
     "data": {
      "text/html": [
       "<pre style=\"white-space:pre;overflow-x:auto;line-height:normal;font-family:Menlo,'DejaVu Sans Mono',consolas,'Courier New',monospace\"><span style=\"color: #808000; text-decoration-color: #808000\">15:56:54 </span><span style=\"color: #008000; text-decoration-color: #008000; font-weight: bold\">distilbert-evaluation</span>: Executing the train_model_func\n",
       "</pre>\n"
      ],
      "text/plain": [
       "\u001b[33m15:56:54 \u001b[0m\u001b[1;32mdistilbert-evaluation\u001b[0m: Executing the train_model_func\n"
      ]
     },
     "metadata": {},
     "output_type": "display_data"
    },
    {
     "data": {
      "text/html": [
       "<pre style=\"white-space:pre;overflow-x:auto;line-height:normal;font-family:Menlo,'DejaVu Sans Mono',consolas,'Courier New',monospace\"><span style=\"color: #808000; text-decoration-color: #808000\">15:56:54 </span><span style=\"color: #008000; text-decoration-color: #008000; font-weight: bold\">distilbert-evaluation</span>: Downloading resources\n",
       "</pre>\n"
      ],
      "text/plain": [
       "\u001b[33m15:56:54 \u001b[0m\u001b[1;32mdistilbert-evaluation\u001b[0m: Downloading resources\n"
      ]
     },
     "metadata": {},
     "output_type": "display_data"
    },
    {
     "data": {
      "text/html": [
       "<pre style=\"white-space:pre;overflow-x:auto;line-height:normal;font-family:Menlo,'DejaVu Sans Mono',consolas,'Courier New',monospace\"><span style=\"color: #808000; text-decoration-color: #808000\">15:56:54 </span><span style=\"color: #008000; text-decoration-color: #008000; font-weight: bold\">distilbert-evaluation</span>: Using selector: EpollSelector\n",
       "</pre>\n"
      ],
      "text/plain": [
       "\u001b[33m15:56:54 \u001b[0m\u001b[1;32mdistilbert-evaluation\u001b[0m: Using selector: EpollSelector\n"
      ]
     },
     "metadata": {},
     "output_type": "display_data"
    },
    {
     "data": {
      "text/html": [
       "<pre style=\"white-space:pre;overflow-x:auto;line-height:normal;font-family:Menlo,'DejaVu Sans Mono',consolas,'Courier New',monospace\"><span style=\"color: #808000; text-decoration-color: #808000\">15:56:56 </span><span style=\"color: #008000; text-decoration-color: #008000; font-weight: bold\">distilbert-evaluation</span>: Falling back to TensorFlow client; we recommended you install\n",
       "the Cloud TPU client directly with pip install cloud-tpu-client.\n",
       "</pre>\n"
      ],
      "text/plain": [
       "\u001b[33m15:56:56 \u001b[0m\u001b[1;32mdistilbert-evaluation\u001b[0m: Falling back to TensorFlow client; we recommended you install\n",
       "the Cloud TPU client directly with pip install cloud-tpu-client.\n"
      ]
     },
     "metadata": {},
     "output_type": "display_data"
    },
    {
     "data": {
      "text/html": [
       "<pre style=\"white-space:pre;overflow-x:auto;line-height:normal;font-family:Menlo,'DejaVu Sans Mono',consolas,'Courier New',monospace\"><span style=\"color: #808000; text-decoration-color: #808000\">15:56:56 </span><span style=\"color: #008000; text-decoration-color: #008000; font-weight: bold\">distilbert-evaluation</span>: Creating converter from 7 to 5\n",
       "</pre>\n"
      ],
      "text/plain": [
       "\u001b[33m15:56:56 \u001b[0m\u001b[1;32mdistilbert-evaluation\u001b[0m: Creating converter from 7 to 5\n"
      ]
     },
     "metadata": {},
     "output_type": "display_data"
    },
    {
     "data": {
      "text/html": [
       "<pre style=\"white-space:pre;overflow-x:auto;line-height:normal;font-family:Menlo,'DejaVu Sans Mono',consolas,'Courier New',monospace\"><span style=\"color: #808000; text-decoration-color: #808000\">15:56:56 </span><span style=\"color: #008000; text-decoration-color: #008000; font-weight: bold\">distilbert-evaluation</span>: Creating converter from 5 to 7\n",
       "</pre>\n"
      ],
      "text/plain": [
       "\u001b[33m15:56:56 \u001b[0m\u001b[1;32mdistilbert-evaluation\u001b[0m: Creating converter from 5 to 7\n"
      ]
     },
     "metadata": {},
     "output_type": "display_data"
    },
    {
     "data": {
      "text/html": [
       "<pre style=\"white-space:pre;overflow-x:auto;line-height:normal;font-family:Menlo,'DejaVu Sans Mono',consolas,'Courier New',monospace\"><span style=\"color: #808000; text-decoration-color: #808000\">15:56:56 </span><span style=\"color: #008000; text-decoration-color: #008000; font-weight: bold\">distilbert-evaluation</span>: Creating converter from 7 to 5\n",
       "</pre>\n"
      ],
      "text/plain": [
       "\u001b[33m15:56:56 \u001b[0m\u001b[1;32mdistilbert-evaluation\u001b[0m: Creating converter from 7 to 5\n"
      ]
     },
     "metadata": {},
     "output_type": "display_data"
    },
    {
     "data": {
      "text/html": [
       "<pre style=\"white-space:pre;overflow-x:auto;line-height:normal;font-family:Menlo,'DejaVu Sans Mono',consolas,'Courier New',monospace\"><span style=\"color: #808000; text-decoration-color: #808000\">15:56:56 </span><span style=\"color: #008000; text-decoration-color: #008000; font-weight: bold\">distilbert-evaluation</span>: Creating converter from 5 to 7\n",
       "</pre>\n"
      ],
      "text/plain": [
       "\u001b[33m15:56:56 \u001b[0m\u001b[1;32mdistilbert-evaluation\u001b[0m: Creating converter from 5 to 7\n"
      ]
     },
     "metadata": {},
     "output_type": "display_data"
    },
    {
     "data": {
      "text/html": [
       "<pre style=\"white-space:pre;overflow-x:auto;line-height:normal;font-family:Menlo,'DejaVu Sans Mono',consolas,'Courier New',monospace\"><span style=\"color: #808000; text-decoration-color: #808000\">15:56:58 </span><span style=\"color: #008000; text-decoration-color: #008000; font-weight: bold\">distilbert-evaluation</span>: Attempting to acquire lock 140567132730032 on /root/.cache/hu\n",
       "ggingface/transformers/0e1bbfda7f63a99bb52e3915dcf10c3c92122b827d92eb2d34ce94ee79ba486c.d789d\n",
       "64ebfe299b0e416afc4a169632f903f693095b4629a7ea271d5a0cf2c99.lock\n",
       "</pre>\n"
      ],
      "text/plain": [
       "\u001b[33m15:56:58 \u001b[0m\u001b[1;32mdistilbert-evaluation\u001b[0m: Attempting to acquire lock 140567132730032 on /root/.cache/hu\n",
       "ggingface/transformers/0e1bbfda7f63a99bb52e3915dcf10c3c92122b827d92eb2d34ce94ee79ba486c.d789d\n",
       "64ebfe299b0e416afc4a169632f903f693095b4629a7ea271d5a0cf2c99.lock\n"
      ]
     },
     "metadata": {},
     "output_type": "display_data"
    },
    {
     "data": {
      "text/html": [
       "<pre style=\"white-space:pre;overflow-x:auto;line-height:normal;font-family:Menlo,'DejaVu Sans Mono',consolas,'Courier New',monospace\"><span style=\"color: #808000; text-decoration-color: #808000\">15:56:58 </span><span style=\"color: #008000; text-decoration-color: #008000; font-weight: bold\">distilbert-evaluation</span>: Lock 140567132730032 acquired on /root/.cache/huggingface/tra\n",
       "nsformers/0e1bbfda7f63a99bb52e3915dcf10c3c92122b827d92eb2d34ce94ee79ba486c.d789d64ebfe299b0e4\n",
       "16afc4a169632f903f693095b4629a7ea271d5a0cf2c99.lock\n",
       "</pre>\n"
      ],
      "text/plain": [
       "\u001b[33m15:56:58 \u001b[0m\u001b[1;32mdistilbert-evaluation\u001b[0m: Lock 140567132730032 acquired on /root/.cache/huggingface/tra\n",
       "nsformers/0e1bbfda7f63a99bb52e3915dcf10c3c92122b827d92eb2d34ce94ee79ba486c.d789d64ebfe299b0e4\n",
       "16afc4a169632f903f693095b4629a7ea271d5a0cf2c99.lock\n"
      ]
     },
     "metadata": {},
     "output_type": "display_data"
    },
    {
     "data": {
      "text/html": [
       "<pre style=\"white-space:pre;overflow-x:auto;line-height:normal;font-family:Menlo,'DejaVu Sans Mono',consolas,'Courier New',monospace\"><span style=\"color: #808000; text-decoration-color: #808000\">15:56:58 </span><span style=\"color: #008000; text-decoration-color: #008000; font-weight: bold\">distilbert-evaluation</span>: Attempting to release lock 140567132730032 on /root/.cache/hu\n",
       "ggingface/transformers/0e1bbfda7f63a99bb52e3915dcf10c3c92122b827d92eb2d34ce94ee79ba486c.d789d\n",
       "64ebfe299b0e416afc4a169632f903f693095b4629a7ea271d5a0cf2c99.lock\n",
       "</pre>\n"
      ],
      "text/plain": [
       "\u001b[33m15:56:58 \u001b[0m\u001b[1;32mdistilbert-evaluation\u001b[0m: Attempting to release lock 140567132730032 on /root/.cache/hu\n",
       "ggingface/transformers/0e1bbfda7f63a99bb52e3915dcf10c3c92122b827d92eb2d34ce94ee79ba486c.d789d\n",
       "64ebfe299b0e416afc4a169632f903f693095b4629a7ea271d5a0cf2c99.lock\n"
      ]
     },
     "metadata": {},
     "output_type": "display_data"
    },
    {
     "data": {
      "text/html": [
       "<pre style=\"white-space:pre;overflow-x:auto;line-height:normal;font-family:Menlo,'DejaVu Sans Mono',consolas,'Courier New',monospace\"><span style=\"color: #808000; text-decoration-color: #808000\">15:56:58 </span><span style=\"color: #008000; text-decoration-color: #008000; font-weight: bold\">distilbert-evaluation</span>: Lock 140567132730032 released on /root/.cache/huggingface/tra\n",
       "nsformers/0e1bbfda7f63a99bb52e3915dcf10c3c92122b827d92eb2d34ce94ee79ba486c.d789d64ebfe299b0e4\n",
       "16afc4a169632f903f693095b4629a7ea271d5a0cf2c99.lock\n",
       "</pre>\n"
      ],
      "text/plain": [
       "\u001b[33m15:56:58 \u001b[0m\u001b[1;32mdistilbert-evaluation\u001b[0m: Lock 140567132730032 released on /root/.cache/huggingface/tra\n",
       "nsformers/0e1bbfda7f63a99bb52e3915dcf10c3c92122b827d92eb2d34ce94ee79ba486c.d789d64ebfe299b0e4\n",
       "16afc4a169632f903f693095b4629a7ea271d5a0cf2c99.lock\n"
      ]
     },
     "metadata": {},
     "output_type": "display_data"
    },
    {
     "data": {
      "text/html": [
       "<pre style=\"white-space:pre;overflow-x:auto;line-height:normal;font-family:Menlo,'DejaVu Sans Mono',consolas,'Courier New',monospace\"><span style=\"color: #808000; text-decoration-color: #808000\">15:56:59 </span><span style=\"color: #008000; text-decoration-color: #008000; font-weight: bold\">distilbert-evaluation</span>: Attempting to acquire lock 140567132730032 on /root/.cache/hu\n",
       "ggingface/transformers/8c8624b8ac8aa99c60c912161f8332de003484428c47906d7ff7eb7f73eecdbb.20430\n",
       "bd8e10ef77a7d2977accefe796051e01bc2fc4aa146bc862997a1a15e79.lock\n",
       "</pre>\n"
      ],
      "text/plain": [
       "\u001b[33m15:56:59 \u001b[0m\u001b[1;32mdistilbert-evaluation\u001b[0m: Attempting to acquire lock 140567132730032 on /root/.cache/hu\n",
       "ggingface/transformers/8c8624b8ac8aa99c60c912161f8332de003484428c47906d7ff7eb7f73eecdbb.20430\n",
       "bd8e10ef77a7d2977accefe796051e01bc2fc4aa146bc862997a1a15e79.lock\n"
      ]
     },
     "metadata": {},
     "output_type": "display_data"
    },
    {
     "data": {
      "text/html": [
       "<pre style=\"white-space:pre;overflow-x:auto;line-height:normal;font-family:Menlo,'DejaVu Sans Mono',consolas,'Courier New',monospace\"><span style=\"color: #808000; text-decoration-color: #808000\">15:56:59 </span><span style=\"color: #008000; text-decoration-color: #008000; font-weight: bold\">distilbert-evaluation</span>: Lock 140567132730032 acquired on /root/.cache/huggingface/tra\n",
       "nsformers/8c8624b8ac8aa99c60c912161f8332de003484428c47906d7ff7eb7f73eecdbb.20430bd8e10ef77a7d\n",
       "2977accefe796051e01bc2fc4aa146bc862997a1a15e79.lock\n",
       "</pre>\n"
      ],
      "text/plain": [
       "\u001b[33m15:56:59 \u001b[0m\u001b[1;32mdistilbert-evaluation\u001b[0m: Lock 140567132730032 acquired on /root/.cache/huggingface/tra\n",
       "nsformers/8c8624b8ac8aa99c60c912161f8332de003484428c47906d7ff7eb7f73eecdbb.20430bd8e10ef77a7d\n",
       "2977accefe796051e01bc2fc4aa146bc862997a1a15e79.lock\n"
      ]
     },
     "metadata": {},
     "output_type": "display_data"
    },
    {
     "data": {
      "text/html": [
       "<pre style=\"white-space:pre;overflow-x:auto;line-height:normal;font-family:Menlo,'DejaVu Sans Mono',consolas,'Courier New',monospace\">Downloading: 100%|██████████| 226k/226k [00:00&lt;00:00, 712kB/s]\n",
       "</pre>\n"
      ],
      "text/plain": [
       "Downloading: 100%|██████████| 226k/226k [00:00<00:00, 712kB/s]\n"
      ]
     },
     "metadata": {},
     "output_type": "display_data"
    },
    {
     "data": {
      "text/html": [
       "<pre style=\"white-space:pre;overflow-x:auto;line-height:normal;font-family:Menlo,'DejaVu Sans Mono',consolas,'Courier New',monospace\"><span style=\"color: #808000; text-decoration-color: #808000\">15:56:59 </span><span style=\"color: #008000; text-decoration-color: #008000; font-weight: bold\">distilbert-evaluation</span>: Attempting to release lock 140567132730032 on /root/.cache/hu\n",
       "ggingface/transformers/8c8624b8ac8aa99c60c912161f8332de003484428c47906d7ff7eb7f73eecdbb.20430\n",
       "bd8e10ef77a7d2977accefe796051e01bc2fc4aa146bc862997a1a15e79.lock\n",
       "</pre>\n"
      ],
      "text/plain": [
       "\u001b[33m15:56:59 \u001b[0m\u001b[1;32mdistilbert-evaluation\u001b[0m: Attempting to release lock 140567132730032 on /root/.cache/hu\n",
       "ggingface/transformers/8c8624b8ac8aa99c60c912161f8332de003484428c47906d7ff7eb7f73eecdbb.20430\n",
       "bd8e10ef77a7d2977accefe796051e01bc2fc4aa146bc862997a1a15e79.lock\n"
      ]
     },
     "metadata": {},
     "output_type": "display_data"
    },
    {
     "data": {
      "text/html": [
       "<pre style=\"white-space:pre;overflow-x:auto;line-height:normal;font-family:Menlo,'DejaVu Sans Mono',consolas,'Courier New',monospace\"><span style=\"color: #808000; text-decoration-color: #808000\">15:56:59 </span><span style=\"color: #008000; text-decoration-color: #008000; font-weight: bold\">distilbert-evaluation</span>: Lock 140567132730032 released on /root/.cache/huggingface/tra\n",
       "nsformers/8c8624b8ac8aa99c60c912161f8332de003484428c47906d7ff7eb7f73eecdbb.20430bd8e10ef77a7d\n",
       "2977accefe796051e01bc2fc4aa146bc862997a1a15e79.lock\n",
       "</pre>\n"
      ],
      "text/plain": [
       "\u001b[33m15:56:59 \u001b[0m\u001b[1;32mdistilbert-evaluation\u001b[0m: Lock 140567132730032 released on /root/.cache/huggingface/tra\n",
       "nsformers/8c8624b8ac8aa99c60c912161f8332de003484428c47906d7ff7eb7f73eecdbb.20430bd8e10ef77a7d\n",
       "2977accefe796051e01bc2fc4aa146bc862997a1a15e79.lock\n"
      ]
     },
     "metadata": {},
     "output_type": "display_data"
    },
    {
     "data": {
      "text/html": [
       "<pre style=\"white-space:pre;overflow-x:auto;line-height:normal;font-family:Menlo,'DejaVu Sans Mono',consolas,'Courier New',monospace\"><span style=\"color: #808000; text-decoration-color: #808000\">15:57:00 </span><span style=\"color: #008000; text-decoration-color: #008000; font-weight: bold\">distilbert-evaluation</span>: Attempting to acquire lock 140567132729792 on /root/.cache/hu\n",
       "ggingface/transformers/23454919702d26495337f3da04d1655c7ee010d5ec9d77bdb9e399e00302c0a1.91b88\n",
       "5ab15d631bf9cee9dc9d25ece0afd932f2f5130eba28f2055b2220c0333.lock\n",
       "</pre>\n"
      ],
      "text/plain": [
       "\u001b[33m15:57:00 \u001b[0m\u001b[1;32mdistilbert-evaluation\u001b[0m: Attempting to acquire lock 140567132729792 on /root/.cache/hu\n",
       "ggingface/transformers/23454919702d26495337f3da04d1655c7ee010d5ec9d77bdb9e399e00302c0a1.91b88\n",
       "5ab15d631bf9cee9dc9d25ece0afd932f2f5130eba28f2055b2220c0333.lock\n"
      ]
     },
     "metadata": {},
     "output_type": "display_data"
    },
    {
     "data": {
      "text/html": [
       "<pre style=\"white-space:pre;overflow-x:auto;line-height:normal;font-family:Menlo,'DejaVu Sans Mono',consolas,'Courier New',monospace\"><span style=\"color: #808000; text-decoration-color: #808000\">15:57:00 </span><span style=\"color: #008000; text-decoration-color: #008000; font-weight: bold\">distilbert-evaluation</span>: Lock 140567132729792 acquired on /root/.cache/huggingface/tra\n",
       "nsformers/23454919702d26495337f3da04d1655c7ee010d5ec9d77bdb9e399e00302c0a1.91b885ab15d631bf9c\n",
       "ee9dc9d25ece0afd932f2f5130eba28f2055b2220c0333.lock\n",
       "</pre>\n"
      ],
      "text/plain": [
       "\u001b[33m15:57:00 \u001b[0m\u001b[1;32mdistilbert-evaluation\u001b[0m: Lock 140567132729792 acquired on /root/.cache/huggingface/tra\n",
       "nsformers/23454919702d26495337f3da04d1655c7ee010d5ec9d77bdb9e399e00302c0a1.91b885ab15d631bf9c\n",
       "ee9dc9d25ece0afd932f2f5130eba28f2055b2220c0333.lock\n"
      ]
     },
     "metadata": {},
     "output_type": "display_data"
    },
    {
     "data": {
      "text/html": [
       "<pre style=\"white-space:pre;overflow-x:auto;line-height:normal;font-family:Menlo,'DejaVu Sans Mono',consolas,'Courier New',monospace\">Downloading: 100%|██████████| 28.0/28.0 [00:00&lt;00:00, 18.5kB/s]\n",
       "</pre>\n"
      ],
      "text/plain": [
       "Downloading: 100%|██████████| 28.0/28.0 [00:00<00:00, 18.5kB/s]\n"
      ]
     },
     "metadata": {},
     "output_type": "display_data"
    },
    {
     "data": {
      "text/html": [
       "<pre style=\"white-space:pre;overflow-x:auto;line-height:normal;font-family:Menlo,'DejaVu Sans Mono',consolas,'Courier New',monospace\"><span style=\"color: #808000; text-decoration-color: #808000\">15:57:00 </span><span style=\"color: #008000; text-decoration-color: #008000; font-weight: bold\">distilbert-evaluation</span>: Attempting to release lock 140567132729792 on /root/.cache/hu\n",
       "ggingface/transformers/23454919702d26495337f3da04d1655c7ee010d5ec9d77bdb9e399e00302c0a1.91b88\n",
       "5ab15d631bf9cee9dc9d25ece0afd932f2f5130eba28f2055b2220c0333.lock\n",
       "</pre>\n"
      ],
      "text/plain": [
       "\u001b[33m15:57:00 \u001b[0m\u001b[1;32mdistilbert-evaluation\u001b[0m: Attempting to release lock 140567132729792 on /root/.cache/hu\n",
       "ggingface/transformers/23454919702d26495337f3da04d1655c7ee010d5ec9d77bdb9e399e00302c0a1.91b88\n",
       "5ab15d631bf9cee9dc9d25ece0afd932f2f5130eba28f2055b2220c0333.lock\n"
      ]
     },
     "metadata": {},
     "output_type": "display_data"
    },
    {
     "data": {
      "text/html": [
       "<pre style=\"white-space:pre;overflow-x:auto;line-height:normal;font-family:Menlo,'DejaVu Sans Mono',consolas,'Courier New',monospace\"><span style=\"color: #808000; text-decoration-color: #808000\">15:57:00 </span><span style=\"color: #008000; text-decoration-color: #008000; font-weight: bold\">distilbert-evaluation</span>: Lock 140567132729792 released on /root/.cache/huggingface/tra\n",
       "nsformers/23454919702d26495337f3da04d1655c7ee010d5ec9d77bdb9e399e00302c0a1.91b885ab15d631bf9c\n",
       "ee9dc9d25ece0afd932f2f5130eba28f2055b2220c0333.lock\n",
       "</pre>\n"
      ],
      "text/plain": [
       "\u001b[33m15:57:00 \u001b[0m\u001b[1;32mdistilbert-evaluation\u001b[0m: Lock 140567132729792 released on /root/.cache/huggingface/tra\n",
       "nsformers/23454919702d26495337f3da04d1655c7ee010d5ec9d77bdb9e399e00302c0a1.91b885ab15d631bf9c\n",
       "ee9dc9d25ece0afd932f2f5130eba28f2055b2220c0333.lock\n"
      ]
     },
     "metadata": {},
     "output_type": "display_data"
    },
    {
     "data": {
      "text/html": [
       "<pre style=\"white-space:pre;overflow-x:auto;line-height:normal;font-family:Menlo,'DejaVu Sans Mono',consolas,'Courier New',monospace\"><span style=\"color: #808000; text-decoration-color: #808000\">15:57:00 </span><span style=\"color: #008000; text-decoration-color: #008000; font-weight: bold\">distilbert-evaluation</span>: Using selector: EpollSelector\n",
       "</pre>\n"
      ],
      "text/plain": [
       "\u001b[33m15:57:00 \u001b[0m\u001b[1;32mdistilbert-evaluation\u001b[0m: Using selector: EpollSelector\n"
      ]
     },
     "metadata": {},
     "output_type": "display_data"
    },
    {
     "data": {
      "text/html": [
       "<pre style=\"white-space:pre;overflow-x:auto;line-height:normal;font-family:Menlo,'DejaVu Sans Mono',consolas,'Courier New',monospace\"><span style=\"color: #808000; text-decoration-color: #808000\">15:57:01 </span><span style=\"color: #008000; text-decoration-color: #008000; font-weight: bold\">distilbert-evaluation</span>: Using selector: EpollSelector\n",
       "</pre>\n"
      ],
      "text/plain": [
       "\u001b[33m15:57:01 \u001b[0m\u001b[1;32mdistilbert-evaluation\u001b[0m: Using selector: EpollSelector\n"
      ]
     },
     "metadata": {},
     "output_type": "display_data"
    },
    {
     "data": {
      "text/html": [
       "<pre style=\"white-space:pre;overflow-x:auto;line-height:normal;font-family:Menlo,'DejaVu Sans Mono',consolas,'Courier New',monospace\"><span style=\"color: #808000; text-decoration-color: #808000\">15:57:02 </span><span style=\"color: #008000; text-decoration-color: #008000; font-weight: bold\">distilbert-evaluation</span>: Model definition: ModelDefinition{model_name:douglas_mcilwrai\n",
       "thdistilbertimdbmodelsbertfinetune51model_train_id:ec0bfcad-949a-435b-ac65-a5a212387421PROTO_\n",
       "FLAVOR:13s3_path:bucket: \"model-catalog--layer20220407152331648300000019\"_key: \n",
       "\"93bceff2-c8d2-484c-99cb-8bc5c8b6962a/ec0bfcad-949a-435b-ac65-a5a212387421/\"_}\n",
       "</pre>\n"
      ],
      "text/plain": [
       "\u001b[33m15:57:02 \u001b[0m\u001b[1;32mdistilbert-evaluation\u001b[0m: Model definition: ModelDefinition{model_name:douglas_mcilwrai\n",
       "thdistilbertimdbmodelsbertfinetune51model_train_id:ec0bfcad-949a-435b-ac65-a5a212387421PROTO_\n",
       "FLAVOR:13s3_path:bucket: \"model-catalog--layer20220407152331648300000019\"_key: \n",
       "\"93bceff2-c8d2-484c-99cb-8bc5c8b6962a/ec0bfcad-949a-435b-ac65-a5a212387421/\"_}\n"
      ]
     },
     "metadata": {},
     "output_type": "display_data"
    },
    {
     "data": {
      "text/html": [
       "<pre style=\"white-space:pre;overflow-x:auto;line-height:normal;font-family:Menlo,'DejaVu Sans Mono',consolas,'Courier New',monospace\"><span style=\"color: #808000; text-decoration-color: #808000\">15:57:02 </span><span style=\"color: #008000; text-decoration-color: #008000; font-weight: bold\">distilbert-evaluation</span>: User requested to load model \n",
       "douglas_mcilwraithdistilbertimdbmodelsbertfinetune51 \n",
       "</pre>\n"
      ],
      "text/plain": [
       "\u001b[33m15:57:02 \u001b[0m\u001b[1;32mdistilbert-evaluation\u001b[0m: User requested to load model \n",
       "douglas_mcilwraithdistilbertimdbmodelsbertfinetune51 \n"
      ]
     },
     "metadata": {},
     "output_type": "display_data"
    },
    {
     "data": {
      "text/html": [
       "<pre style=\"white-space:pre;overflow-x:auto;line-height:normal;font-family:Menlo,'DejaVu Sans Mono',consolas,'Courier New',monospace\"><span style=\"color: #808000; text-decoration-color: #808000\">15:57:02 </span><span style=\"color: #008000; text-decoration-color: #008000; font-weight: bold\">distilbert-evaluation</span>: Loading model \n",
       "douglas_mcilwraithdistilbertimdbmodelsbertfinetune51\n",
       "</pre>\n"
      ],
      "text/plain": [
       "\u001b[33m15:57:02 \u001b[0m\u001b[1;32mdistilbert-evaluation\u001b[0m: Loading model \n",
       "douglas_mcilwraithdistilbertimdbmodelsbertfinetune51\n"
      ]
     },
     "metadata": {},
     "output_type": "display_data"
    },
    {
     "data": {
      "text/html": [
       "<pre style=\"white-space:pre;overflow-x:auto;line-height:normal;font-family:Menlo,'DejaVu Sans Mono',consolas,'Courier New',monospace\">Downloading: 100%|██████████| 483/483 [00:00&lt;00:00, 314kB/s]\n",
       "</pre>\n"
      ],
      "text/plain": [
       "Downloading: 100%|██████████| 483/483 [00:00<00:00, 314kB/s]\n"
      ]
     },
     "metadata": {},
     "output_type": "display_data"
    },
    {
     "data": {
      "text/html": [
       "<pre style=\"white-space:pre;overflow-x:auto;line-height:normal;font-family:Menlo,'DejaVu Sans Mono',consolas,'Courier New',monospace\"><span style=\"color: #808000; text-decoration-color: #808000\">15:57:23 </span><span style=\"color: #008000; text-decoration-color: #008000; font-weight: bold\">distilbert-evaluation</span>: ***** Running Prediction *****\n",
       "</pre>\n"
      ],
      "text/plain": [
       "\u001b[33m15:57:23 \u001b[0m\u001b[1;32mdistilbert-evaluation\u001b[0m: ***** Running Prediction *****\n"
      ]
     },
     "metadata": {},
     "output_type": "display_data"
    },
    {
     "data": {
      "text/html": [
       "<pre style=\"white-space:pre;overflow-x:auto;line-height:normal;font-family:Menlo,'DejaVu Sans Mono',consolas,'Courier New',monospace\"><span style=\"color: #808000; text-decoration-color: #808000\">15:57:23 </span><span style=\"color: #008000; text-decoration-color: #008000; font-weight: bold\">distilbert-evaluation</span>:   Num examples = 2500\n",
       "</pre>\n"
      ],
      "text/plain": [
       "\u001b[33m15:57:23 \u001b[0m\u001b[1;32mdistilbert-evaluation\u001b[0m:   Num examples = 2500\n"
      ]
     },
     "metadata": {},
     "output_type": "display_data"
    },
    {
     "data": {
      "text/html": [
       "<pre style=\"white-space:pre;overflow-x:auto;line-height:normal;font-family:Menlo,'DejaVu Sans Mono',consolas,'Courier New',monospace\"><span style=\"color: #808000; text-decoration-color: #808000\">15:57:23 </span><span style=\"color: #008000; text-decoration-color: #008000; font-weight: bold\">distilbert-evaluation</span>:   Batch size = 8\n",
       "</pre>\n"
      ],
      "text/plain": [
       "\u001b[33m15:57:23 \u001b[0m\u001b[1;32mdistilbert-evaluation\u001b[0m:   Batch size = 8\n"
      ]
     },
     "metadata": {},
     "output_type": "display_data"
    },
    {
     "data": {
      "text/html": [
       "<pre style=\"white-space:pre;overflow-x:auto;line-height:normal;font-family:Menlo,'DejaVu Sans Mono',consolas,'Courier New',monospace\"> 88%|████████▊ | 277/313 [01:\n",
       "</pre>\n"
      ],
      "text/plain": [
       " 88%|████████▊ | 277/313 [01:\n"
      ]
     },
     "metadata": {},
     "output_type": "display_data"
    },
    {
     "data": {
      "text/html": [
       "<pre style=\"white-space:pre;overflow-x:auto;line-height:normal;font-family:Menlo,'DejaVu Sans Mono',consolas,'Courier New',monospace\">100%|██████████| 313/313 [01:16&lt;00:00,  \n",
       "4.74it/s]/usr/local/lib/python3.8/dist-packages/sklearn/metrics/_classification.py:1318: \n",
       "UndefinedMetricWarning: Recall is ill-defined and being set to 0.0 due to no true samples. \n",
       "Use `zero_division` parameter to control this behavior.\n",
       "</pre>\n"
      ],
      "text/plain": [
       "100%|██████████| 313/313 [01:16<00:00,  \n",
       "4.74it/s]/usr/local/lib/python3.8/dist-packages/sklearn/metrics/_classification.py:1318: \n",
       "UndefinedMetricWarning: Recall is ill-defined and being set to 0.0 due to no true samples. \n",
       "Use `zero_division` parameter to control this behavior.\n"
      ]
     },
     "metadata": {},
     "output_type": "display_data"
    },
    {
     "data": {
      "text/html": [
       "<pre style=\"white-space:pre;overflow-x:auto;line-height:normal;font-family:Menlo,'DejaVu Sans Mono',consolas,'Courier New',monospace\"><span style=\"color: #808000; text-decoration-color: #808000\">15:58:52 </span><span style=\"color: #008000; text-decoration-color: #008000; font-weight: bold\">distilbert-evaluation</span>:   _warn_prf(average, modifier, msg_start, len(result))\n",
       "</pre>\n"
      ],
      "text/plain": [
       "\u001b[33m15:58:52 \u001b[0m\u001b[1;32mdistilbert-evaluation\u001b[0m:   _warn_prf(average, modifier, msg_start, len(result))\n"
      ]
     },
     "metadata": {},
     "output_type": "display_data"
    },
    {
     "data": {
      "text/html": [
       "<pre style=\"white-space:pre;overflow-x:auto;line-height:normal;font-family:Menlo,'DejaVu Sans Mono',consolas,'Courier New',monospace\"><span style=\"color: #808000; text-decoration-color: #808000\">15:58:52 </span><span style=\"color: #008000; text-decoration-color: #008000; font-weight: bold\">distilbert-evaluation</span>: ***** Running Prediction *****\n",
       "</pre>\n"
      ],
      "text/plain": [
       "\u001b[33m15:58:52 \u001b[0m\u001b[1;32mdistilbert-evaluation\u001b[0m: ***** Running Prediction *****\n"
      ]
     },
     "metadata": {},
     "output_type": "display_data"
    },
    {
     "data": {
      "text/html": [
       "<pre style=\"white-space:pre;overflow-x:auto;line-height:normal;font-family:Menlo,'DejaVu Sans Mono',consolas,'Courier New',monospace\"><span style=\"color: #808000; text-decoration-color: #808000\">15:58:52 </span><span style=\"color: #008000; text-decoration-color: #008000; font-weight: bold\">distilbert-evaluation</span>:   Num examples = 2500\n",
       "</pre>\n"
      ],
      "text/plain": [
       "\u001b[33m15:58:52 \u001b[0m\u001b[1;32mdistilbert-evaluation\u001b[0m:   Num examples = 2500\n"
      ]
     },
     "metadata": {},
     "output_type": "display_data"
    },
    {
     "data": {
      "text/html": [
       "<pre style=\"white-space:pre;overflow-x:auto;line-height:normal;font-family:Menlo,'DejaVu Sans Mono',consolas,'Courier New',monospace\"><span style=\"color: #808000; text-decoration-color: #808000\">15:58:52 </span><span style=\"color: #008000; text-decoration-color: #008000; font-weight: bold\">distilbert-evaluation</span>:   Batch size = 8\n",
       "</pre>\n"
      ],
      "text/plain": [
       "\u001b[33m15:58:52 \u001b[0m\u001b[1;32mdistilbert-evaluation\u001b[0m:   Batch size = 8\n"
      ]
     },
     "metadata": {},
     "output_type": "display_data"
    },
    {
     "data": {
      "text/html": [
       "<pre style=\"white-space:pre;overflow-x:auto;line-height:normal;font-family:Menlo,'DejaVu Sans Mono',consolas,'Courier New',monospace\">626it [02:46,  \n",
       "4.72it/s]/usr/local/lib/python3.8/dist-packages/sklearn/metrics/_classification.py:1318: \n",
       "UndefinedMetricWarning: Recall is ill-defined and being set to 0.0 due to no true samples. \n",
       "Use `zero_division` parameter to control this behavior.\n",
       "</pre>\n"
      ],
      "text/plain": [
       "626it [02:46,  \n",
       "4.72it/s]/usr/local/lib/python3.8/dist-packages/sklearn/metrics/_classification.py:1318: \n",
       "UndefinedMetricWarning: Recall is ill-defined and being set to 0.0 due to no true samples. \n",
       "Use `zero_division` parameter to control this behavior.\n"
      ]
     },
     "metadata": {},
     "output_type": "display_data"
    },
    {
     "data": {
      "text/html": [
       "<pre style=\"white-space:pre;overflow-x:auto;line-height:normal;font-family:Menlo,'DejaVu Sans Mono',consolas,'Courier New',monospace\"><span style=\"color: #808000; text-decoration-color: #808000\">16:00:23 </span><span style=\"color: #008000; text-decoration-color: #008000; font-weight: bold\">distilbert-evaluation</span>:   _warn_prf(average, modifier, msg_start, len(result))\n",
       "</pre>\n"
      ],
      "text/plain": [
       "\u001b[33m16:00:23 \u001b[0m\u001b[1;32mdistilbert-evaluation\u001b[0m:   _warn_prf(average, modifier, msg_start, len(result))\n"
      ]
     },
     "metadata": {},
     "output_type": "display_data"
    },
    {
     "data": {
      "text/html": [
       "<pre style=\"white-space:pre;overflow-x:auto;line-height:normal;font-family:Menlo,'DejaVu Sans Mono',consolas,'Courier New',monospace\"><span style=\"color: #808000; text-decoration-color: #808000\">16:00:23 </span><span style=\"color: #008000; text-decoration-color: #008000; font-weight: bold\">distilbert-evaluation</span>: ***** Running Prediction *****\n",
       "</pre>\n"
      ],
      "text/plain": [
       "\u001b[33m16:00:23 \u001b[0m\u001b[1;32mdistilbert-evaluation\u001b[0m: ***** Running Prediction *****\n"
      ]
     },
     "metadata": {},
     "output_type": "display_data"
    },
    {
     "data": {
      "text/html": [
       "<pre style=\"white-space:pre;overflow-x:auto;line-height:normal;font-family:Menlo,'DejaVu Sans Mono',consolas,'Courier New',monospace\"><span style=\"color: #808000; text-decoration-color: #808000\">16:00:23 </span><span style=\"color: #008000; text-decoration-color: #008000; font-weight: bold\">distilbert-evaluation</span>:   Num examples = 2500\n",
       "</pre>\n"
      ],
      "text/plain": [
       "\u001b[33m16:00:23 \u001b[0m\u001b[1;32mdistilbert-evaluation\u001b[0m:   Num examples = 2500\n"
      ]
     },
     "metadata": {},
     "output_type": "display_data"
    },
    {
     "data": {
      "text/html": [
       "<pre style=\"white-space:pre;overflow-x:auto;line-height:normal;font-family:Menlo,'DejaVu Sans Mono',consolas,'Courier New',monospace\"><span style=\"color: #808000; text-decoration-color: #808000\">16:00:23 </span><span style=\"color: #008000; text-decoration-color: #008000; font-weight: bold\">distilbert-evaluation</span>:   Batch size = 8\n",
       "</pre>\n"
      ],
      "text/plain": [
       "\u001b[33m16:00:23 \u001b[0m\u001b[1;32mdistilbert-evaluation\u001b[0m:   Batch size = 8\n"
      ]
     },
     "metadata": {},
     "output_type": "display_data"
    },
    {
     "data": {
      "text/html": [
       "<pre style=\"white-space:pre;overflow-x:auto;line-height:normal;font-family:Menlo,'DejaVu Sans Mono',consolas,'Courier New',monospace\">939it [04:17,  \n",
       "4.74it/s]/usr/local/lib/python3.8/dist-packages/sklearn/metrics/_classification.py:1318: \n",
       "UndefinedMetricWarning: Recall is ill-defined and being set to 0.0 due to no true samples. \n",
       "Use `zero_division` parameter to control this behavior.\n",
       "</pre>\n"
      ],
      "text/plain": [
       "939it [04:17,  \n",
       "4.74it/s]/usr/local/lib/python3.8/dist-packages/sklearn/metrics/_classification.py:1318: \n",
       "UndefinedMetricWarning: Recall is ill-defined and being set to 0.0 due to no true samples. \n",
       "Use `zero_division` parameter to control this behavior.\n"
      ]
     },
     "metadata": {},
     "output_type": "display_data"
    },
    {
     "data": {
      "text/html": [
       "<pre style=\"white-space:pre;overflow-x:auto;line-height:normal;font-family:Menlo,'DejaVu Sans Mono',consolas,'Courier New',monospace\"><span style=\"color: #808000; text-decoration-color: #808000\">16:01:54 </span><span style=\"color: #008000; text-decoration-color: #008000; font-weight: bold\">distilbert-evaluation</span>:   _warn_prf(average, modifier, msg_start, len(result))\n",
       "</pre>\n"
      ],
      "text/plain": [
       "\u001b[33m16:01:54 \u001b[0m\u001b[1;32mdistilbert-evaluation\u001b[0m:   _warn_prf(average, modifier, msg_start, len(result))\n"
      ]
     },
     "metadata": {},
     "output_type": "display_data"
    },
    {
     "data": {
      "text/html": [
       "<pre style=\"white-space:pre;overflow-x:auto;line-height:normal;font-family:Menlo,'DejaVu Sans Mono',consolas,'Courier New',monospace\"><span style=\"color: #808000; text-decoration-color: #808000\">16:01:54 </span><span style=\"color: #008000; text-decoration-color: #008000; font-weight: bold\">distilbert-evaluation</span>: ***** Running Prediction *****\n",
       "</pre>\n"
      ],
      "text/plain": [
       "\u001b[33m16:01:54 \u001b[0m\u001b[1;32mdistilbert-evaluation\u001b[0m: ***** Running Prediction *****\n"
      ]
     },
     "metadata": {},
     "output_type": "display_data"
    },
    {
     "data": {
      "text/html": [
       "<pre style=\"white-space:pre;overflow-x:auto;line-height:normal;font-family:Menlo,'DejaVu Sans Mono',consolas,'Courier New',monospace\"><span style=\"color: #808000; text-decoration-color: #808000\">16:01:54 </span><span style=\"color: #008000; text-decoration-color: #008000; font-weight: bold\">distilbert-evaluation</span>:   Num examples = 2500\n",
       "</pre>\n"
      ],
      "text/plain": [
       "\u001b[33m16:01:54 \u001b[0m\u001b[1;32mdistilbert-evaluation\u001b[0m:   Num examples = 2500\n"
      ]
     },
     "metadata": {},
     "output_type": "display_data"
    },
    {
     "data": {
      "text/html": [
       "<pre style=\"white-space:pre;overflow-x:auto;line-height:normal;font-family:Menlo,'DejaVu Sans Mono',consolas,'Courier New',monospace\"><span style=\"color: #808000; text-decoration-color: #808000\">16:01:54 </span><span style=\"color: #008000; text-decoration-color: #008000; font-weight: bold\">distilbert-evaluation</span>:   Batch size = 8\n",
       "</pre>\n"
      ],
      "text/plain": [
       "\u001b[33m16:01:54 \u001b[0m\u001b[1;32mdistilbert-evaluation\u001b[0m:   Batch size = 8\n"
      ]
     },
     "metadata": {},
     "output_type": "display_data"
    },
    {
     "data": {
      "text/html": [
       "<pre style=\"white-space:pre;overflow-x:auto;line-height:normal;font-family:Menlo,'DejaVu Sans Mono',consolas,'Courier New',monospace\">1252it [05:48,  \n",
       "4.73it/s]/usr/local/lib/python3.8/dist-packages/sklearn/metrics/_classification.py:1318: \n",
       "UndefinedMetricWarning: Recall is ill-defined and being set to 0.0 due to no true samples. \n",
       "Use `zero_division` parameter to control this behavior.\n",
       "</pre>\n"
      ],
      "text/plain": [
       "1252it [05:48,  \n",
       "4.73it/s]/usr/local/lib/python3.8/dist-packages/sklearn/metrics/_classification.py:1318: \n",
       "UndefinedMetricWarning: Recall is ill-defined and being set to 0.0 due to no true samples. \n",
       "Use `zero_division` parameter to control this behavior.\n"
      ]
     },
     "metadata": {},
     "output_type": "display_data"
    },
    {
     "data": {
      "text/html": [
       "<pre style=\"white-space:pre;overflow-x:auto;line-height:normal;font-family:Menlo,'DejaVu Sans Mono',consolas,'Courier New',monospace\"><span style=\"color: #808000; text-decoration-color: #808000\">16:03:24 </span><span style=\"color: #008000; text-decoration-color: #008000; font-weight: bold\">distilbert-evaluation</span>:   _warn_prf(average, modifier, msg_start, len(result))\n",
       "</pre>\n"
      ],
      "text/plain": [
       "\u001b[33m16:03:24 \u001b[0m\u001b[1;32mdistilbert-evaluation\u001b[0m:   _warn_prf(average, modifier, msg_start, len(result))\n"
      ]
     },
     "metadata": {},
     "output_type": "display_data"
    },
    {
     "data": {
      "text/html": [
       "<pre style=\"white-space:pre;overflow-x:auto;line-height:normal;font-family:Menlo,'DejaVu Sans Mono',consolas,'Courier New',monospace\"><span style=\"color: #808000; text-decoration-color: #808000\">16:03:24 </span><span style=\"color: #008000; text-decoration-color: #008000; font-weight: bold\">distilbert-evaluation</span>: ***** Running Prediction *****\n",
       "</pre>\n"
      ],
      "text/plain": [
       "\u001b[33m16:03:24 \u001b[0m\u001b[1;32mdistilbert-evaluation\u001b[0m: ***** Running Prediction *****\n"
      ]
     },
     "metadata": {},
     "output_type": "display_data"
    },
    {
     "data": {
      "text/html": [
       "<pre style=\"white-space:pre;overflow-x:auto;line-height:normal;font-family:Menlo,'DejaVu Sans Mono',consolas,'Courier New',monospace\"><span style=\"color: #808000; text-decoration-color: #808000\">16:03:24 </span><span style=\"color: #008000; text-decoration-color: #008000; font-weight: bold\">distilbert-evaluation</span>:   Num examples = 2500\n",
       "</pre>\n"
      ],
      "text/plain": [
       "\u001b[33m16:03:24 \u001b[0m\u001b[1;32mdistilbert-evaluation\u001b[0m:   Num examples = 2500\n"
      ]
     },
     "metadata": {},
     "output_type": "display_data"
    },
    {
     "data": {
      "text/html": [
       "<pre style=\"white-space:pre;overflow-x:auto;line-height:normal;font-family:Menlo,'DejaVu Sans Mono',consolas,'Courier New',monospace\"><span style=\"color: #808000; text-decoration-color: #808000\">16:03:24 </span><span style=\"color: #008000; text-decoration-color: #008000; font-weight: bold\">distilbert-evaluation</span>:   Batch size = 8\n",
       "</pre>\n"
      ],
      "text/plain": [
       "\u001b[33m16:03:24 \u001b[0m\u001b[1;32mdistilbert-evaluation\u001b[0m:   Batch size = 8\n"
      ]
     },
     "metadata": {},
     "output_type": "display_data"
    },
    {
     "data": {
      "text/html": [
       "<pre style=\"white-space:pre;overflow-x:auto;line-height:normal;font-family:Menlo,'DejaVu Sans Mono',consolas,'Courier New',monospace\">1565it [07:18,  \n",
       "4.72it/s]/usr/local/lib/python3.8/dist-packages/sklearn/metrics/_classification.py:1318: \n",
       "UndefinedMetricWarning: Recall is ill-defined and being set to 0.0 due to no true samples. \n",
       "Use `zero_division` parameter to control this behavior.\n",
       "</pre>\n"
      ],
      "text/plain": [
       "1565it [07:18,  \n",
       "4.72it/s]/usr/local/lib/python3.8/dist-packages/sklearn/metrics/_classification.py:1318: \n",
       "UndefinedMetricWarning: Recall is ill-defined and being set to 0.0 due to no true samples. \n",
       "Use `zero_division` parameter to control this behavior.\n"
      ]
     },
     "metadata": {},
     "output_type": "display_data"
    },
    {
     "data": {
      "text/html": [
       "<pre style=\"white-space:pre;overflow-x:auto;line-height:normal;font-family:Menlo,'DejaVu Sans Mono',consolas,'Courier New',monospace\"><span style=\"color: #808000; text-decoration-color: #808000\">16:04:55 </span><span style=\"color: #008000; text-decoration-color: #008000; font-weight: bold\">distilbert-evaluation</span>:   _warn_prf(average, modifier, msg_start, len(result))\n",
       "</pre>\n"
      ],
      "text/plain": [
       "\u001b[33m16:04:55 \u001b[0m\u001b[1;32mdistilbert-evaluation\u001b[0m:   _warn_prf(average, modifier, msg_start, len(result))\n"
      ]
     },
     "metadata": {},
     "output_type": "display_data"
    },
    {
     "data": {
      "text/html": [
       "<pre style=\"white-space:pre;overflow-x:auto;line-height:normal;font-family:Menlo,'DejaVu Sans Mono',consolas,'Courier New',monospace\"><span style=\"color: #808000; text-decoration-color: #808000\">16:04:55 </span><span style=\"color: #008000; text-decoration-color: #008000; font-weight: bold\">distilbert-evaluation</span>: ***** Running Prediction *****\n",
       "</pre>\n"
      ],
      "text/plain": [
       "\u001b[33m16:04:55 \u001b[0m\u001b[1;32mdistilbert-evaluation\u001b[0m: ***** Running Prediction *****\n"
      ]
     },
     "metadata": {},
     "output_type": "display_data"
    },
    {
     "data": {
      "text/html": [
       "<pre style=\"white-space:pre;overflow-x:auto;line-height:normal;font-family:Menlo,'DejaVu Sans Mono',consolas,'Courier New',monospace\"><span style=\"color: #808000; text-decoration-color: #808000\">16:04:55 </span><span style=\"color: #008000; text-decoration-color: #008000; font-weight: bold\">distilbert-evaluation</span>:   Num examples = 2500\n",
       "</pre>\n"
      ],
      "text/plain": [
       "\u001b[33m16:04:55 \u001b[0m\u001b[1;32mdistilbert-evaluation\u001b[0m:   Num examples = 2500\n"
      ]
     },
     "metadata": {},
     "output_type": "display_data"
    },
    {
     "data": {
      "text/html": [
       "<pre style=\"white-space:pre;overflow-x:auto;line-height:normal;font-family:Menlo,'DejaVu Sans Mono',consolas,'Courier New',monospace\"><span style=\"color: #808000; text-decoration-color: #808000\">16:04:55 </span><span style=\"color: #008000; text-decoration-color: #008000; font-weight: bold\">distilbert-evaluation</span>:   Batch size = 8\n",
       "</pre>\n"
      ],
      "text/plain": [
       "\u001b[33m16:04:55 \u001b[0m\u001b[1;32mdistilbert-evaluation\u001b[0m:   Batch size = 8\n"
      ]
     },
     "metadata": {},
     "output_type": "display_data"
    },
    {
     "data": {
      "text/html": [
       "<pre style=\"white-space:pre;overflow-x:auto;line-height:normal;font-family:Menlo,'DejaVu Sans Mono',consolas,'Courier New',monospace\">1878it [08:49,  4.72it/s]{\"written_at\": \"2022-05-25T16:06:25.698Z\", \"written_ts\": \n",
       "1653494785698507000, \"msg\": \"***** Running Prediction *****\", \"type\": \"log\", \"logger\": \n",
       "\"transformers.trainer\", \"thread\": \"MainThread\", \"level\": \"INFO\", \"module\": \"trainer\", \n",
       "\"line_no\": 2590, \"contextMap\": {\"requestId\": \"0a1b87a7-5139-4e3d-b0b9-e10f1a104fa1\"}}\n",
       "</pre>\n"
      ],
      "text/plain": [
       "1878it [08:49,  4.72it/s]{\"written_at\": \"2022-05-25T16:06:25.698Z\", \"written_ts\": \n",
       "1653494785698507000, \"msg\": \"***** Running Prediction *****\", \"type\": \"log\", \"logger\": \n",
       "\"transformers.trainer\", \"thread\": \"MainThread\", \"level\": \"INFO\", \"module\": \"trainer\", \n",
       "\"line_no\": 2590, \"contextMap\": {\"requestId\": \"0a1b87a7-5139-4e3d-b0b9-e10f1a104fa1\"}}\n"
      ]
     },
     "metadata": {},
     "output_type": "display_data"
    },
    {
     "data": {
      "text/html": [
       "<pre style=\"white-space:pre;overflow-x:auto;line-height:normal;font-family:Menlo,'DejaVu Sans Mono',consolas,'Courier New',monospace\"><span style=\"color: #808000; text-decoration-color: #808000\">16:06:25 </span><span style=\"color: #008000; text-decoration-color: #008000; font-weight: bold\">distilbert-evaluation</span>:   Num examples = 2500\n",
       "</pre>\n"
      ],
      "text/plain": [
       "\u001b[33m16:06:25 \u001b[0m\u001b[1;32mdistilbert-evaluation\u001b[0m:   Num examples = 2500\n"
      ]
     },
     "metadata": {},
     "output_type": "display_data"
    },
    {
     "data": {
      "text/html": [
       "<pre style=\"white-space:pre;overflow-x:auto;line-height:normal;font-family:Menlo,'DejaVu Sans Mono',consolas,'Courier New',monospace\"><span style=\"color: #808000; text-decoration-color: #808000\">16:06:25 </span><span style=\"color: #008000; text-decoration-color: #008000; font-weight: bold\">distilbert-evaluation</span>:   Batch size = 8\n",
       "</pre>\n"
      ],
      "text/plain": [
       "\u001b[33m16:06:25 \u001b[0m\u001b[1;32mdistilbert-evaluation\u001b[0m:   Batch size = 8\n"
      ]
     },
     "metadata": {},
     "output_type": "display_data"
    }
   ],
   "source": [
    "#Evaluate every 10% of the test data against the fine tuned model.\n",
    "@fabric(\"f-gpu-small\")\n",
    "@model(\"distilbert-evaluation\")\n",
    "def build():\n",
    "    import numpy as np\n",
    "    import pandas as pd\n",
    "    from sklearn.metrics import accuracy_score, recall_score, precision_score, f1_score\n",
    "    from sklearn.model_selection import train_test_split\n",
    "    import torch\n",
    "    from transformers import TrainingArguments, Trainer\n",
    "    from transformers import DistilBertTokenizer, DistilBertForSequenceClassification\n",
    "    from transformers import EarlyStoppingCallback\n",
    "\n",
    "    #We need to use the same tokenizer as we did during training\n",
    "    \n",
    "    #We need to use the same tokenizer as we did during training\n",
    "    model_name = \"distilbert-base-uncased\"\n",
    "    tokenizer = DistilBertTokenizer.from_pretrained(model_name)\n",
    "\n",
    "    df = layer.get_dataset(\"douglas_mcilwraith/distilbert-imdb/datasets/imdb-test:1.1\").to_pandas()\n",
    "    my_model = layer.get_model(\"douglas_mcilwraith/distilbert-imdb/models/bert-fine-tune:5.1\").get_train()\n",
    "    trainer = Trainer(my_model)\n",
    "    \n",
    "    s = np.array_split(df,10)\n",
    "    list_results = []\n",
    "\n",
    "    for d in s:\n",
    "        X = list(d[\"text\"])\n",
    "        y = list(d[\"label\"])\n",
    "\n",
    "        df_tokenized = tokenizer(X, padding=True, truncation=True, max_length=512)\n",
    "\n",
    "        class MyDataset(torch.utils.data.Dataset):\n",
    "            def __init__(self, encodings, labels=None):\n",
    "                self.encodings = encodings\n",
    "                self.labels = labels\n",
    "\n",
    "            def __getitem__(self, idx):\n",
    "                item = {key: torch.tensor(val[idx]) for key, val in self.encodings.items()}\n",
    "                if self.labels:\n",
    "                    item[\"labels\"] = torch.tensor(self.labels[idx])\n",
    "                return item\n",
    "\n",
    "            def __len__(self):\n",
    "                return len(self.encodings[\"input_ids\"])\n",
    "\n",
    "        test_dataset = MyDataset(df_tokenized, y)\n",
    "        p, _, _ = trainer.predict(test_dataset)\n",
    "\n",
    "        pred = np.argmax(p, axis=1)\n",
    "        labels = test_dataset.labels\n",
    "\n",
    "        a = accuracy_score(y_pred=pred, y_true=labels)\n",
    "        r = recall_score(y_pred=pred, y_true=labels)\n",
    "        p = precision_score(y_pred=pred, y_true=labels,)\n",
    "        f = f1_score(y_pred=pred, y_true=labels)\n",
    "\n",
    "        results = [a, r, p, f]\n",
    "        list_results.append(results)\n",
    "\n",
    "    results_df = pd.DataFrame(data=list_results, columns=['Accuracy', 'Precision', 'Recall',\"F1\"])\n",
    "    layer.log({\"results\" : results_df})\n",
    "    \n",
    "    return my_model\n",
    "\n",
    "layer.run([build],debug=True)"
   ]
  },
  {
   "cell_type": "code",
   "execution_count": 21,
   "id": "e75a6711",
   "metadata": {},
   "outputs": [
    {
     "data": {
      "application/vnd.jupyter.widget-view+json": {
       "model_id": "5d66811cd2094ad489e34fec4d7641cb",
       "version_major": 2,
       "version_minor": 0
      },
      "text/plain": [
       "Output()"
      ]
     },
     "metadata": {},
     "output_type": "display_data"
    },
    {
     "data": {
      "text/html": [
       "<pre style=\"white-space:pre;overflow-x:auto;line-height:normal;font-family:Menlo,'DejaVu Sans Mono',consolas,'Courier New',monospace\"></pre>\n"
      ],
      "text/plain": []
     },
     "metadata": {},
     "output_type": "display_data"
    },
    {
     "data": {
      "text/html": [
       "<pre style=\"white-space:pre;overflow-x:auto;line-height:normal;font-family:Menlo,'DejaVu Sans Mono',consolas,'Courier New',monospace\">\n",
       "</pre>\n"
      ],
      "text/plain": [
       "\n"
      ]
     },
     "metadata": {},
     "output_type": "display_data"
    }
   ],
   "source": [
    "import numpy as np\n",
    "import pandas as pd\n",
    "from sklearn.metrics import accuracy_score, recall_score, precision_score, f1_score\n",
    "from sklearn.model_selection import train_test_split\n",
    "import torch\n",
    "from transformers import TrainingArguments, Trainer\n",
    "from transformers import DistilBertTokenizer, DistilBertForSequenceClassification\n",
    "from transformers import EarlyStoppingCallback\n",
    "\n",
    "#We need to use the same tokenizer as we did during training\n",
    "model_name = \"distilbert-base-uncased\"\n",
    "tokenizer = DistilBertTokenizer.from_pretrained(model_name)\n",
    "\n",
    "df = layer.get_dataset(\"douglas_mcilwraith/distilbert-imdb/datasets/imdb-test:1.1\").to_pandas()\n",
    "df = df.sample(frac=0.10, replace=False, random_state=2)\n",
    "\n",
    "my_model = layer.get_model(\"douglas_mcilwraith/distilbert-imdb/models/bert-fine-tune:5.1\").get_train()\n",
    "trainer = Trainer(my_model)\n",
    "s = np.array_split(df,10)\n",
    "list_results = []\n",
    "\n",
    "\n",
    "for d in s:\n",
    "    X = list(d[\"text\"])\n",
    "    y = list(d[\"label\"])\n",
    "\n",
    "    df_tokenized = tokenizer(X, padding=True, truncation=True, max_length=512)\n",
    "\n",
    "    class MyDataset(torch.utils.data.Dataset):\n",
    "        def __init__(self, encodings, labels=None):\n",
    "            self.encodings = encodings\n",
    "            self.labels = labels\n",
    "\n",
    "        def __getitem__(self, idx):\n",
    "            item = {key: torch.tensor(val[idx]) for key, val in self.encodings.items()}\n",
    "            if self.labels:\n",
    "                item[\"labels\"] = torch.tensor(self.labels[idx])\n",
    "            return item\n",
    "\n",
    "        def __len__(self):\n",
    "            return len(self.encodings[\"input_ids\"])\n",
    "\n",
    "    test_dataset = MyDataset(df_tokenized, y)\n",
    "    p, _, _ = trainer.predict(test_dataset)\n",
    "\n",
    "    pred = np.argmax(p, axis=1)\n",
    "    labels = test_dataset.labels\n",
    "\n",
    "    a = accuracy_score(y_pred=pred, y_true=labels)\n",
    "    r = recall_score(y_pred=pred, y_true=labels)\n",
    "    p = precision_score(y_pred=pred, y_true=labels,)\n",
    "    f = f1_score(y_pred=pred, y_true=labels)\n",
    "\n",
    "    results = [a, r, p, f]\n",
    "    list_results.append(results)\n",
    "\n",
    "results_df = pd.DataFrame(data=list_results, columns=['Accuracy', 'Precision', 'Recall',\"F1\"])\n",
    "layer.log({\"results\" : results_df})"
   ]
  }
 ],
 "metadata": {
  "kernelspec": {
   "display_name": "Python 3 (ipykernel)",
   "language": "python",
   "name": "python3"
  },
  "language_info": {
   "codemirror_mode": {
    "name": "ipython",
    "version": 3
   },
   "file_extension": ".py",
   "mimetype": "text/x-python",
   "name": "python",
   "nbconvert_exporter": "python",
   "pygments_lexer": "ipython3",
   "version": "3.8.10"
  }
 },
 "nbformat": 4,
 "nbformat_minor": 5
}
