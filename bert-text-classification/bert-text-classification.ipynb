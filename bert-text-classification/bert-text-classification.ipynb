{
 "cells": [
  {
   "cell_type": "markdown",
   "id": "340f8461",
   "metadata": {},
   "source": [
    "# Text Classification with BERT\n",
    "\n",
    "\n",
    "[![Open in Layer](https://development.layer.co/assets/badge.svg)](https://app.layer.ai/douglas_mcilwraith/bert-text-classification/) [![Open in Colab](https://colab.research.google.com/assets/colab-badge.svg)](https://colab.research.google.com/github/layerai/examples/blob/main/bert-text-classification/bert-text-classification.ipynb) [![Layer Examples Github](https://badgen.net/badge/icon/github?icon=github&label)](https://github.com/layerai/examples/tree/main/bert-text-classification)\n",
    "\n",
    "We use the BERT classifier from Google [] to perform text classification\n"
   ]
  },
  {
   "cell_type": "code",
   "execution_count": 1,
   "id": "2d74b020",
   "metadata": {},
   "outputs": [
    {
     "name": "stdout",
     "output_type": "stream",
     "text": [
      "Requirement already satisfied: layer in /Users/douglas.mcilwraith/.pyenv/versions/3.8.10/lib/python3.8/site-packages (0.9.357941)\n",
      "Collecting layer\n",
      "  Downloading layer-0.9.358276-py3-none-any.whl (122 kB)\n",
      "\u001b[2K     \u001b[90m━━━━━━━━━━━━━━━━━━━━━━━━━━━━━━━━━━━━━\u001b[0m \u001b[32m122.7/122.7 KB\u001b[0m \u001b[31m743.2 kB/s\u001b[0m eta \u001b[36m0:00:00\u001b[0ma \u001b[36m0:00:01\u001b[0m\n",
      "\u001b[?25hRequirement already satisfied: protobuf>=3.12.0 in /Users/douglas.mcilwraith/.pyenv/versions/3.8.10/lib/python3.8/site-packages (from layer) (3.19.1)\n",
      "Requirement already satisfied: yarl>=1.6.3 in /Users/douglas.mcilwraith/.pyenv/versions/3.8.10/lib/python3.8/site-packages (from layer) (1.7.2)\n",
      "Requirement already satisfied: typing-extensions<4.0.0 in /Users/douglas.mcilwraith/.pyenv/versions/3.8.10/lib/python3.8/site-packages (from layer) (3.10.0.2)\n",
      "Requirement already satisfied: polling>=0.3.1 in /Users/douglas.mcilwraith/.pyenv/versions/3.8.10/lib/python3.8/site-packages (from layer) (0.3.2)\n",
      "Requirement already satisfied: aiohttp<3.8.0,>=3.7.3 in /Users/douglas.mcilwraith/.pyenv/versions/3.8.10/lib/python3.8/site-packages (from layer) (3.7.4.post0)\n",
      "Requirement already satisfied: cloudpickle>=2.0.0 in /Users/douglas.mcilwraith/.pyenv/versions/3.8.10/lib/python3.8/site-packages (from layer) (2.0.0)\n",
      "Requirement already satisfied: cryptography>=3.4.7 in /Users/douglas.mcilwraith/.pyenv/versions/3.8.10/lib/python3.8/site-packages (from layer) (36.0.0)\n",
      "Requirement already satisfied: packaging<=21.0 in /Users/douglas.mcilwraith/.pyenv/versions/3.8.10/lib/python3.8/site-packages (from layer) (21.0)\n",
      "Requirement already satisfied: wrapt>=1.13.3 in /Users/douglas.mcilwraith/.pyenv/versions/3.8.10/lib/python3.8/site-packages (from layer) (1.13.3)\n",
      "Requirement already satisfied: transformers in /Users/douglas.mcilwraith/.pyenv/versions/3.8.10/lib/python3.8/site-packages (from layer) (4.12.5)\n",
      "Requirement already satisfied: jsonschema==3.1.1 in /Users/douglas.mcilwraith/.pyenv/versions/3.8.10/lib/python3.8/site-packages (from layer) (3.1.1)\n",
      "Requirement already satisfied: idna<3 in /Users/douglas.mcilwraith/.pyenv/versions/3.8.10/lib/python3.8/site-packages (from layer) (2.10)\n",
      "Requirement already satisfied: validate-email==1.3 in /Users/douglas.mcilwraith/.pyenv/versions/3.8.10/lib/python3.8/site-packages (from layer) (1.3)\n",
      "Collecting layer-api==0.9.358132\n",
      "  Downloading layer_api-0.9.358132-py3-none-any.whl (191 kB)\n",
      "\u001b[2K     \u001b[90m━━━━━━━━━━━━━━━━━━━━━━━━━━━━━━━━━━━━━━━\u001b[0m \u001b[32m191.2/191.2 KB\u001b[0m \u001b[31m1.5 MB/s\u001b[0m eta \u001b[36m0:00:00\u001b[0ma \u001b[36m0:00:01\u001b[0m\n",
      "\u001b[?25hRequirement already satisfied: boto3>=1.16.24 in /Users/douglas.mcilwraith/.pyenv/versions/3.8.10/lib/python3.8/site-packages (from layer) (1.20.16)\n",
      "Requirement already satisfied: Pillow>=7.1.2 in /Users/douglas.mcilwraith/.pyenv/versions/3.8.10/lib/python3.8/site-packages (from layer) (9.1.0)\n",
      "Requirement already satisfied: rich~=10.12.0 in /Users/douglas.mcilwraith/.pyenv/versions/3.8.10/lib/python3.8/site-packages (from layer) (10.12.0)\n",
      "Requirement already satisfied: humanize>=3.11.0 in /Users/douglas.mcilwraith/.pyenv/versions/3.8.10/lib/python3.8/site-packages (from layer) (3.13.1)\n",
      "Requirement already satisfied: grpcio-tools==1.45.0 in /Users/douglas.mcilwraith/.pyenv/versions/3.8.10/lib/python3.8/site-packages (from layer) (1.45.0)\n",
      "Requirement already satisfied: grpcio==1.45.0 in /Users/douglas.mcilwraith/.pyenv/versions/3.8.10/lib/python3.8/site-packages (from layer) (1.45.0)\n",
      "Requirement already satisfied: prompt-toolkit>=3.0.8 in /Users/douglas.mcilwraith/.pyenv/versions/3.8.10/lib/python3.8/site-packages (from layer) (3.0.23)\n",
      "Requirement already satisfied: networkx>=2.5 in /Users/douglas.mcilwraith/.pyenv/versions/3.8.10/lib/python3.8/site-packages (from layer) (2.6.3)\n",
      "Requirement already satisfied: Jinja2>=2.11.3 in /Users/douglas.mcilwraith/.pyenv/versions/3.8.10/lib/python3.8/site-packages (from layer) (3.0.3)\n",
      "Requirement already satisfied: pyarrow==7.0.0 in /Users/douglas.mcilwraith/.pyenv/versions/3.8.10/lib/python3.8/site-packages (from layer) (7.0.0)\n",
      "Requirement already satisfied: pyjwt<2.0.0,>=1.7.1 in /Users/douglas.mcilwraith/.pyenv/versions/3.8.10/lib/python3.8/site-packages (from layer) (1.7.1)\n",
      "Requirement already satisfied: mlflow>=1.25.0 in /Users/douglas.mcilwraith/.pyenv/versions/3.8.10/lib/python3.8/site-packages (from layer) (1.25.1)\n",
      "Requirement already satisfied: pandas>=1.1.2 in /Users/douglas.mcilwraith/.pyenv/versions/3.8.10/lib/python3.8/site-packages (from layer) (1.3.4)\n",
      "Requirement already satisfied: six>=1.5.2 in /Users/douglas.mcilwraith/.pyenv/versions/3.8.10/lib/python3.8/site-packages (from grpcio==1.45.0->layer) (1.16.0)\n",
      "Requirement already satisfied: setuptools in /Users/douglas.mcilwraith/.pyenv/versions/3.8.10/lib/python3.8/site-packages (from grpcio-tools==1.45.0->layer) (56.0.0)\n",
      "Requirement already satisfied: importlib-metadata in /Users/douglas.mcilwraith/.pyenv/versions/3.8.10/lib/python3.8/site-packages (from jsonschema==3.1.1->layer) (4.8.2)\n",
      "Requirement already satisfied: attrs>=17.4.0 in /Users/douglas.mcilwraith/.pyenv/versions/3.8.10/lib/python3.8/site-packages (from jsonschema==3.1.1->layer) (21.2.0)\n",
      "Requirement already satisfied: pyrsistent>=0.14.0 in /Users/douglas.mcilwraith/.pyenv/versions/3.8.10/lib/python3.8/site-packages (from jsonschema==3.1.1->layer) (0.18.0)\n",
      "Requirement already satisfied: numpy>=1.16.6 in /Users/douglas.mcilwraith/.pyenv/versions/3.8.10/lib/python3.8/site-packages (from pyarrow==7.0.0->layer) (1.18.5)\n",
      "Requirement already satisfied: chardet<5.0,>=2.0 in /Users/douglas.mcilwraith/.pyenv/versions/3.8.10/lib/python3.8/site-packages (from aiohttp<3.8.0,>=3.7.3->layer) (4.0.0)\n",
      "Requirement already satisfied: async-timeout<4.0,>=3.0 in /Users/douglas.mcilwraith/.pyenv/versions/3.8.10/lib/python3.8/site-packages (from aiohttp<3.8.0,>=3.7.3->layer) (3.0.1)\n",
      "Requirement already satisfied: multidict<7.0,>=4.5 in /Users/douglas.mcilwraith/.pyenv/versions/3.8.10/lib/python3.8/site-packages (from aiohttp<3.8.0,>=3.7.3->layer) (5.2.0)\n",
      "Requirement already satisfied: s3transfer<0.6.0,>=0.5.0 in /Users/douglas.mcilwraith/.pyenv/versions/3.8.10/lib/python3.8/site-packages (from boto3>=1.16.24->layer) (0.5.0)\n",
      "Requirement already satisfied: jmespath<1.0.0,>=0.7.1 in /Users/douglas.mcilwraith/.pyenv/versions/3.8.10/lib/python3.8/site-packages (from boto3>=1.16.24->layer) (0.10.0)\n",
      "Requirement already satisfied: botocore<1.24.0,>=1.23.16 in /Users/douglas.mcilwraith/.pyenv/versions/3.8.10/lib/python3.8/site-packages (from boto3>=1.16.24->layer) (1.23.16)\n",
      "Requirement already satisfied: cffi>=1.12 in /Users/douglas.mcilwraith/.pyenv/versions/3.8.10/lib/python3.8/site-packages (from cryptography>=3.4.7->layer) (1.15.0)\n",
      "Requirement already satisfied: MarkupSafe>=2.0 in /Users/douglas.mcilwraith/.pyenv/versions/3.8.10/lib/python3.8/site-packages (from Jinja2>=2.11.3->layer) (2.0.1)\n",
      "Requirement already satisfied: databricks-cli>=0.8.7 in /Users/douglas.mcilwraith/.pyenv/versions/3.8.10/lib/python3.8/site-packages (from mlflow>=1.25.0->layer) (0.16.2)\n",
      "Requirement already satisfied: pytz in /Users/douglas.mcilwraith/.pyenv/versions/3.8.10/lib/python3.8/site-packages (from mlflow>=1.25.0->layer) (2021.3)\n",
      "Requirement already satisfied: scipy in /Users/douglas.mcilwraith/.pyenv/versions/3.8.10/lib/python3.8/site-packages (from mlflow>=1.25.0->layer) (1.8.0)\n",
      "Requirement already satisfied: gitpython>=2.1.0 in /Users/douglas.mcilwraith/.pyenv/versions/3.8.10/lib/python3.8/site-packages (from mlflow>=1.25.0->layer) (3.1.14)\n",
      "Requirement already satisfied: Flask in /Users/douglas.mcilwraith/.pyenv/versions/3.8.10/lib/python3.8/site-packages (from mlflow>=1.25.0->layer) (2.0.2)\n",
      "Requirement already satisfied: docker>=4.0.0 in /Users/douglas.mcilwraith/.pyenv/versions/3.8.10/lib/python3.8/site-packages (from mlflow>=1.25.0->layer) (5.0.3)\n",
      "Requirement already satisfied: requests>=2.17.3 in /Users/douglas.mcilwraith/.pyenv/versions/3.8.10/lib/python3.8/site-packages (from mlflow>=1.25.0->layer) (2.26.0)\n",
      "Requirement already satisfied: click>=7.0 in /Users/douglas.mcilwraith/.pyenv/versions/3.8.10/lib/python3.8/site-packages (from mlflow>=1.25.0->layer) (8.0.3)\n",
      "Requirement already satisfied: gunicorn in /Users/douglas.mcilwraith/.pyenv/versions/3.8.10/lib/python3.8/site-packages (from mlflow>=1.25.0->layer) (20.1.0)\n",
      "Requirement already satisfied: prometheus-flask-exporter in /Users/douglas.mcilwraith/.pyenv/versions/3.8.10/lib/python3.8/site-packages (from mlflow>=1.25.0->layer) (0.18.6)\n",
      "Requirement already satisfied: sqlparse>=0.3.1 in /Users/douglas.mcilwraith/.pyenv/versions/3.8.10/lib/python3.8/site-packages (from mlflow>=1.25.0->layer) (0.4.2)\n",
      "Requirement already satisfied: sqlalchemy in /Users/douglas.mcilwraith/.pyenv/versions/3.8.10/lib/python3.8/site-packages (from mlflow>=1.25.0->layer) (1.4.27)\n",
      "Requirement already satisfied: querystring-parser in /Users/douglas.mcilwraith/.pyenv/versions/3.8.10/lib/python3.8/site-packages (from mlflow>=1.25.0->layer) (1.2.4)\n",
      "Requirement already satisfied: entrypoints in /Users/douglas.mcilwraith/.pyenv/versions/3.8.10/lib/python3.8/site-packages (from mlflow>=1.25.0->layer) (0.3)\n",
      "Requirement already satisfied: alembic in /Users/douglas.mcilwraith/.pyenv/versions/3.8.10/lib/python3.8/site-packages (from mlflow>=1.25.0->layer) (1.4.1)\n",
      "Requirement already satisfied: pyyaml>=5.1 in /Users/douglas.mcilwraith/.pyenv/versions/3.8.10/lib/python3.8/site-packages (from mlflow>=1.25.0->layer) (6.0)\n"
     ]
    },
    {
     "name": "stdout",
     "output_type": "stream",
     "text": [
      "Requirement already satisfied: pyparsing>=2.0.2 in /Users/douglas.mcilwraith/.pyenv/versions/3.8.10/lib/python3.8/site-packages (from packaging<=21.0->layer) (3.0.6)\n",
      "Requirement already satisfied: python-dateutil>=2.7.3 in /Users/douglas.mcilwraith/.pyenv/versions/3.8.10/lib/python3.8/site-packages (from pandas>=1.1.2->layer) (2.8.2)\n",
      "Requirement already satisfied: wcwidth in /Users/douglas.mcilwraith/.pyenv/versions/3.8.10/lib/python3.8/site-packages (from prompt-toolkit>=3.0.8->layer) (0.2.5)\n",
      "Requirement already satisfied: commonmark<0.10.0,>=0.9.0 in /Users/douglas.mcilwraith/.pyenv/versions/3.8.10/lib/python3.8/site-packages (from rich~=10.12.0->layer) (0.9.1)\n",
      "Requirement already satisfied: pygments<3.0.0,>=2.6.0 in /Users/douglas.mcilwraith/.pyenv/versions/3.8.10/lib/python3.8/site-packages (from rich~=10.12.0->layer) (2.10.0)\n",
      "Requirement already satisfied: colorama<0.5.0,>=0.4.0 in /Users/douglas.mcilwraith/.pyenv/versions/3.8.10/lib/python3.8/site-packages (from rich~=10.12.0->layer) (0.4.4)\n",
      "Requirement already satisfied: tokenizers<0.11,>=0.10.1 in /Users/douglas.mcilwraith/.pyenv/versions/3.8.10/lib/python3.8/site-packages (from transformers->layer) (0.10.3)\n",
      "Requirement already satisfied: filelock in /Users/douglas.mcilwraith/.pyenv/versions/3.8.10/lib/python3.8/site-packages (from transformers->layer) (3.4.0)\n",
      "Requirement already satisfied: huggingface-hub<1.0,>=0.1.0 in /Users/douglas.mcilwraith/.pyenv/versions/3.8.10/lib/python3.8/site-packages (from transformers->layer) (0.1.2)\n",
      "Requirement already satisfied: tqdm>=4.27 in /Users/douglas.mcilwraith/.pyenv/versions/3.8.10/lib/python3.8/site-packages (from transformers->layer) (4.62.3)\n",
      "Requirement already satisfied: regex!=2019.12.17 in /Users/douglas.mcilwraith/.pyenv/versions/3.8.10/lib/python3.8/site-packages (from transformers->layer) (2021.11.10)\n",
      "Requirement already satisfied: sacremoses in /Users/douglas.mcilwraith/.pyenv/versions/3.8.10/lib/python3.8/site-packages (from transformers->layer) (0.0.46)\n",
      "Requirement already satisfied: urllib3<1.27,>=1.25.4 in /Users/douglas.mcilwraith/.pyenv/versions/3.8.10/lib/python3.8/site-packages (from botocore<1.24.0,>=1.23.16->boto3>=1.16.24->layer) (1.26.7)\n",
      "Requirement already satisfied: pycparser in /Users/douglas.mcilwraith/.pyenv/versions/3.8.10/lib/python3.8/site-packages (from cffi>=1.12->cryptography>=3.4.7->layer) (2.21)\n",
      "Requirement already satisfied: tabulate>=0.7.7 in /Users/douglas.mcilwraith/.pyenv/versions/3.8.10/lib/python3.8/site-packages (from databricks-cli>=0.8.7->mlflow>=1.25.0->layer) (0.8.9)\n",
      "Requirement already satisfied: websocket-client>=0.32.0 in /Users/douglas.mcilwraith/.pyenv/versions/3.8.10/lib/python3.8/site-packages (from docker>=4.0.0->mlflow>=1.25.0->layer) (1.2.1)\n",
      "Requirement already satisfied: gitdb<5,>=4.0.1 in /Users/douglas.mcilwraith/.pyenv/versions/3.8.10/lib/python3.8/site-packages (from gitpython>=2.1.0->mlflow>=1.25.0->layer) (4.0.9)\n",
      "Requirement already satisfied: zipp>=0.5 in /Users/douglas.mcilwraith/.pyenv/versions/3.8.10/lib/python3.8/site-packages (from importlib-metadata->jsonschema==3.1.1->layer) (3.6.0)\n",
      "Requirement already satisfied: certifi>=2017.4.17 in /Users/douglas.mcilwraith/.pyenv/versions/3.8.10/lib/python3.8/site-packages (from requests>=2.17.3->mlflow>=1.25.0->layer) (2021.10.8)\n",
      "Requirement already satisfied: charset-normalizer~=2.0.0 in /Users/douglas.mcilwraith/.pyenv/versions/3.8.10/lib/python3.8/site-packages (from requests>=2.17.3->mlflow>=1.25.0->layer) (2.0.7)\n",
      "Requirement already satisfied: python-editor>=0.3 in /Users/douglas.mcilwraith/.pyenv/versions/3.8.10/lib/python3.8/site-packages (from alembic->mlflow>=1.25.0->layer) (1.0.4)\n",
      "Requirement already satisfied: Mako in /Users/douglas.mcilwraith/.pyenv/versions/3.8.10/lib/python3.8/site-packages (from alembic->mlflow>=1.25.0->layer) (1.1.6)\n",
      "Requirement already satisfied: greenlet!=0.4.17 in /Users/douglas.mcilwraith/.pyenv/versions/3.8.10/lib/python3.8/site-packages (from sqlalchemy->mlflow>=1.25.0->layer) (1.1.2)\n",
      "Requirement already satisfied: itsdangerous>=2.0 in /Users/douglas.mcilwraith/.pyenv/versions/3.8.10/lib/python3.8/site-packages (from Flask->mlflow>=1.25.0->layer) (2.0.1)\n",
      "Requirement already satisfied: Werkzeug>=2.0 in /Users/douglas.mcilwraith/.pyenv/versions/3.8.10/lib/python3.8/site-packages (from Flask->mlflow>=1.25.0->layer) (2.0.2)\n",
      "Requirement already satisfied: prometheus-client in /Users/douglas.mcilwraith/.pyenv/versions/3.8.10/lib/python3.8/site-packages (from prometheus-flask-exporter->mlflow>=1.25.0->layer) (0.12.0)\n",
      "Requirement already satisfied: joblib in /Users/douglas.mcilwraith/.pyenv/versions/3.8.10/lib/python3.8/site-packages (from sacremoses->transformers->layer) (1.1.0)\n",
      "Requirement already satisfied: smmap<6,>=3.0.1 in /Users/douglas.mcilwraith/.pyenv/versions/3.8.10/lib/python3.8/site-packages (from gitdb<5,>=4.0.1->gitpython>=2.1.0->mlflow>=1.25.0->layer) (5.0.0)\n",
      "Installing collected packages: layer-api, layer\n",
      "  Attempting uninstall: layer\n",
      "    Found existing installation: layer 0.9.357941\n",
      "    Uninstalling layer-0.9.357941:\n",
      "      Successfully uninstalled layer-0.9.357941\n",
      "Successfully installed layer-0.9.358276 layer-api-0.9.358132\n",
      "\u001b[33mWARNING: You are using pip version 22.0.3; however, version 22.1 is available.\n",
      "You should consider upgrading via the '/Users/douglas.mcilwraith/.pyenv/versions/3.8.10/bin/python3.8 -m pip install --upgrade pip' command.\u001b[0m\u001b[33m\n",
      "\u001b[0m"
     ]
    }
   ],
   "source": [
    "!pip install layer -U"
   ]
  },
  {
   "cell_type": "code",
   "execution_count": 2,
   "id": "6ae1e082",
   "metadata": {},
   "outputs": [],
   "source": [
    "import layer\n",
    "layer.login()"
   ]
  },
  {
   "cell_type": "code",
   "execution_count": 5,
   "id": "569abd76",
   "metadata": {},
   "outputs": [
    {
     "data": {
      "text/plain": [
       "Project(name='bert-text-classification', raw_datasets=[], derived_datasets=[], models=[], path=PosixPath('.'), project_files_hash='', readme='', account=Account(id=UUID('93bceff2-c8d2-484c-99cb-8bc5c8b6962a'), name='douglas_mcilwraith'), _id=UUID('42b0e101-96cb-41ff-ab96-3ad64c023ea0'), functions=[])"
      ]
     },
     "execution_count": 5,
     "metadata": {},
     "output_type": "execute_result"
    }
   ],
   "source": [
    "layer.init(\"bert-text-classification\")"
   ]
  },
  {
   "cell_type": "code",
   "execution_count": null,
   "id": "20d48be5",
   "metadata": {},
   "outputs": [],
   "source": []
  }
 ],
 "metadata": {
  "kernelspec": {
   "display_name": "Python 3 (ipykernel)",
   "language": "python",
   "name": "python3"
  },
  "language_info": {
   "codemirror_mode": {
    "name": "ipython",
    "version": 3
   },
   "file_extension": ".py",
   "mimetype": "text/x-python",
   "name": "python",
   "nbconvert_exporter": "python",
   "pygments_lexer": "ipython3",
   "version": "3.8.10"
  }
 },
 "nbformat": 4,
 "nbformat_minor": 5
}
