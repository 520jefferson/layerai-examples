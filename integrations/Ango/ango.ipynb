{
 "cells": [
  {
   "cell_type": "markdown",
   "metadata": {},
   "source": [
    "# Face classification with Ango and Layer"
   ]
  },
  {
   "cell_type": "markdown",
   "metadata": {},
   "source": [
    "## Install Ango"
   ]
  },
  {
   "cell_type": "code",
   "execution_count": null,
   "metadata": {
    "id": "_t-rRu6r7Mgj",
    "outputId": "b9b243eb-5e1f-4b60-a9fa-25d2abc093fb"
   },
   "outputs": [],
   "source": [
    "!pip install ango -qqq"
   ]
  },
  {
   "cell_type": "markdown",
   "metadata": {},
   "source": [
    "## Install Layer"
   ]
  },
  {
   "cell_type": "code",
   "execution_count": 2,
   "metadata": {},
   "outputs": [],
   "source": [
    "!pip install --upgrade layer -qqq"
   ]
  },
  {
   "cell_type": "markdown",
   "metadata": {},
   "source": [
    "## Fetch [data from Ango Hub](https://ango.ai/open-dataset/)"
   ]
  },
  {
   "cell_type": "code",
   "execution_count": null,
   "metadata": {
    "id": "F6pl0oyT64al"
   },
   "outputs": [],
   "source": [
    "from ango.sdk import SDK\n",
    "import os \n",
    "import urllib.request\n",
    "\n",
    "class Ango:\n",
    "    def __init__(self, api_key, project_id=None) -> None:\n",
    "        self.sdk = SDK(api_key=api_key)\n",
    "        if project_id:\n",
    "            self.project_id = project_id\n",
    "    \n",
    "    def setProject(self,project_id):\n",
    "        self.project_id = project_id\n",
    "    \n",
    "    '''\n",
    "    Gets annotations for assets within a project, streams page by page.\n",
    "    params:\n",
    "    items_per_page : The number of annotations fetched per page.\n",
    "    annotation_status : The current stage of annotation (\"Completed\" OR \"Todo\") leave blank to fetch all\n",
    "\n",
    "    returns:\n",
    "    A List of annotations\n",
    "    '''\n",
    "    def getAnnotations(self, items_per_page = 100, annotation_status = None):\n",
    "        remaining_tasks = 1\n",
    "        page = 1\n",
    "        tasks = []\n",
    "        while (remaining_tasks > 0):\n",
    "            response =  self.sdk.get_tasks(self.project_id, page=page, limit=items_per_page, status= annotation_status)\n",
    "            tasks.extend(response['data']['tasks'])\n",
    "            remaining_tasks =  response[\"data\"][\"total\"] - len(tasks)\n",
    "            page += 1\n",
    "        return tasks\n",
    "\n",
    "    def get_name_from_url(self, imgUrl):\n",
    "      return imgUrl.split('/')[-1]\n",
    "\n",
    "    def fetchImages(self,images, folder_path=\"downloaded_images/\"):\n",
    "      dirname = os.path.dirname(__file__)\n",
    "      if (not os.path.exists(folder_path)):\n",
    "          os.mkdir(os.path.join(dirname, folder_path))\n",
    "      for imgUrl in images:\n",
    "        img_name = self.get_name_from_url(imgUrl)\n",
    "        image_path = os.path.join(dirname, folder_path, img_name)\n",
    "        if os.path.isfile(image_path):\n",
    "          continue\n",
    "        else:\n",
    "          urllib.request.urlretrieve(imgUrl, image_path)\n",
    "      print(\"All images downloaded\")\n",
    "\n",
    "    def fetchExportLink(self):\n",
    "      return self.sdk.export(self.project_id)['data']['exportPath']\n",
    "      "
   ]
  },
  {
   "cell_type": "code",
   "execution_count": null,
   "metadata": {
    "id": "-yp1jFSu7ESQ",
    "outputId": "3a434efd-6dcd-4fca-dd69-f4396b9f160c"
   },
   "outputs": [],
   "source": [
    "\n",
    "#Run this block after the two credentials have been added.\n",
    "#You may save the annotations in JSON, or use them programatically. \n",
    "#Note: This takes some time for larger annotations.\n",
    "ango = Ango(api_key=\"YOUR_API_KEY\",project_id=\"YOUR_PROJECT_ID\") #Face Classification\n",
    "annotations = ango.getAnnotations(annotation_status=\"Completed\")\n",
    "print(len(annotations))\n"
   ]
  },
  {
   "cell_type": "code",
   "execution_count": null,
   "metadata": {
    "id": "sKJGwI6Pq9kA",
    "outputId": "0d42c0ae-1441-4c3b-dfa2-6c94a7fcde31"
   },
   "outputs": [],
   "source": [
    "link = ango.fetchExportLink()\n",
    "print(link)"
   ]
  },
  {
   "cell_type": "markdown",
   "metadata": {
    "id": "4-yLINx_ch6t"
   },
   "source": [
    "### Save the data as a Pandas DataFrame"
   ]
  },
  {
   "cell_type": "code",
   "execution_count": null,
   "metadata": {
    "id": "DYU3qE-Rcmq3"
   },
   "outputs": [],
   "source": [
    "import pandas as pd\n",
    "import io\n",
    "import base64\n",
    "\n",
    "def get_answer(schemaId, task):\n",
    "  return next((answer[\"answer\"] for answer in task['answer']['classifications'] if answer['schemaId'] == schemaId), None)\n",
    "\n",
    "def build():\n",
    "  from PIL import Image\n",
    "  import requests\n",
    "\n",
    "  data = []\n",
    "  for task in annotations[:2500]:\n",
    "    img_url = task[\"asset\"][\"data\"]\n",
    "    img = Image.open(requests.get(img_url, stream=True).raw)\n",
    "    img_byte_arr = io.BytesIO()\n",
    "    img.save(img_byte_arr, format=img.format)\n",
    "    image_as_string = base64.b64encode(img_byte_arr.getvalue())\n",
    "    img_str = image_as_string.decode(\"utf-8\")\n",
    "\n",
    "    data.append([\n",
    "      img_str,\n",
    "      get_answer(\"7d4d70ea16e8e5d7ce8e721\", task), # Sex\n",
    "      get_answer(\"76e4a3dbf96926edadd5203\", task), # Age\n",
    "      get_answer(\"05e865541776c186f3e4003\", task), # Hair Color\n",
    "      get_answer(\"ff5e7ac66607ebe73810601\", task), # Beard Color\n",
    "      get_answer(\"1f5411a7bbcdba28fe30677\", task), # Mustache Color\n",
    "      get_answer(\"d0d75fc06feaa006e5c0106\", task), # Eye Color\n",
    "      get_answer(\"ec5e7cd3838fc4d5c7c6298\", task), # Glasses\n",
    "    ])\n",
    "    # answers = task['answer']['classifications']\n",
    "    # answer = next((answer for answer in task['answer']['classifications'] if answer['schemaId'] == \"7d4d70ea16e8e5d7ce8e721\"), None)\n",
    "    # print(answer)\n",
    "    task['answer']['classifications']\n",
    "  \n",
    "  return pd.DataFrame(data,columns=[\"image\", \"sex\", \"age\",\"hair_color\",\"beard_color\",\"mustache_color\",\"eye_color\",\"glasses\"])\n",
    "\n",
    "df = build()\n",
    "df.head(1)"
   ]
  },
  {
   "cell_type": "code",
   "execution_count": 4,
   "metadata": {
    "tags": []
   },
   "outputs": [
    {
     "data": {
      "text/html": [
       "<div>\n",
       "<style scoped>\n",
       "    .dataframe tbody tr th:only-of-type {\n",
       "        vertical-align: middle;\n",
       "    }\n",
       "\n",
       "    .dataframe tbody tr th {\n",
       "        vertical-align: top;\n",
       "    }\n",
       "\n",
       "    .dataframe thead th {\n",
       "        text-align: right;\n",
       "    }\n",
       "</style>\n",
       "<table border=\"1\" class=\"dataframe\">\n",
       "  <thead>\n",
       "    <tr style=\"text-align: right;\">\n",
       "      <th></th>\n",
       "      <th>image</th>\n",
       "      <th>sex</th>\n",
       "      <th>age</th>\n",
       "      <th>hair_color</th>\n",
       "      <th>beard_color</th>\n",
       "      <th>mustache_color</th>\n",
       "      <th>eye_color</th>\n",
       "      <th>glasses</th>\n",
       "    </tr>\n",
       "  </thead>\n",
       "  <tbody>\n",
       "    <tr>\n",
       "      <th>0</th>\n",
       "      <td>iVBORw0KGgoAAAANSUhEUgAABAAAAAQACAIAAADwf7zUAA...</td>\n",
       "      <td>944d236620a51952c5e5571</td>\n",
       "      <td>ce831ed469ea6e878be9513</td>\n",
       "      <td>fc277c228c78e2205589549</td>\n",
       "      <td>34c35efb4914475c2ff3057</td>\n",
       "      <td>38f72fe7c936801c4f57923</td>\n",
       "      <td>97f0074a4016d00ba6ad145</td>\n",
       "      <td>d71a761292c505e31420704</td>\n",
       "    </tr>\n",
       "    <tr>\n",
       "      <th>1</th>\n",
       "      <td>iVBORw0KGgoAAAANSUhEUgAABAAAAAQACAIAAADwf7zUAA...</td>\n",
       "      <td>193cda8ce1e759a6707f873</td>\n",
       "      <td>ce831ed469ea6e878be9513</td>\n",
       "      <td>fc277c228c78e2205589549</td>\n",
       "      <td>6919425e2396b9b40f6f485</td>\n",
       "      <td>b411a018af74c13ecf90737</td>\n",
       "      <td>840281fa1c0e97d6e2f5869</td>\n",
       "      <td>d71a761292c505e31420704</td>\n",
       "    </tr>\n",
       "    <tr>\n",
       "      <th>2</th>\n",
       "      <td>iVBORw0KGgoAAAANSUhEUgAABAAAAAQACAIAAADwf7zUAA...</td>\n",
       "      <td>944d236620a51952c5e5571</td>\n",
       "      <td>ce831ed469ea6e878be9513</td>\n",
       "      <td>a5d5d80e66f9f205071a314</td>\n",
       "      <td>34c35efb4914475c2ff3057</td>\n",
       "      <td>38f72fe7c936801c4f57923</td>\n",
       "      <td>840281fa1c0e97d6e2f5869</td>\n",
       "      <td>d71a761292c505e31420704</td>\n",
       "    </tr>\n",
       "    <tr>\n",
       "      <th>3</th>\n",
       "      <td>iVBORw0KGgoAAAANSUhEUgAABAAAAAQACAIAAADwf7zUAA...</td>\n",
       "      <td>944d236620a51952c5e5571</td>\n",
       "      <td>ce831ed469ea6e878be9513</td>\n",
       "      <td>fc277c228c78e2205589549</td>\n",
       "      <td>34c35efb4914475c2ff3057</td>\n",
       "      <td>38f72fe7c936801c4f57923</td>\n",
       "      <td>840281fa1c0e97d6e2f5869</td>\n",
       "      <td>d71a761292c505e31420704</td>\n",
       "    </tr>\n",
       "    <tr>\n",
       "      <th>4</th>\n",
       "      <td>iVBORw0KGgoAAAANSUhEUgAABAAAAAQACAIAAADwf7zUAA...</td>\n",
       "      <td>193cda8ce1e759a6707f873</td>\n",
       "      <td>af9c38362173fccfd7c3015</td>\n",
       "      <td>a5d5d80e66f9f205071a314</td>\n",
       "      <td>34c35efb4914475c2ff3057</td>\n",
       "      <td>38f72fe7c936801c4f57923</td>\n",
       "      <td>840281fa1c0e97d6e2f5869</td>\n",
       "      <td>d71a761292c505e31420704</td>\n",
       "    </tr>\n",
       "  </tbody>\n",
       "</table>\n",
       "</div>"
      ],
      "text/plain": [
       "                                               image                      sex  \\\n",
       "0  iVBORw0KGgoAAAANSUhEUgAABAAAAAQACAIAAADwf7zUAA...  944d236620a51952c5e5571   \n",
       "1  iVBORw0KGgoAAAANSUhEUgAABAAAAAQACAIAAADwf7zUAA...  193cda8ce1e759a6707f873   \n",
       "2  iVBORw0KGgoAAAANSUhEUgAABAAAAAQACAIAAADwf7zUAA...  944d236620a51952c5e5571   \n",
       "3  iVBORw0KGgoAAAANSUhEUgAABAAAAAQACAIAAADwf7zUAA...  944d236620a51952c5e5571   \n",
       "4  iVBORw0KGgoAAAANSUhEUgAABAAAAAQACAIAAADwf7zUAA...  193cda8ce1e759a6707f873   \n",
       "\n",
       "                       age               hair_color              beard_color  \\\n",
       "0  ce831ed469ea6e878be9513  fc277c228c78e2205589549  34c35efb4914475c2ff3057   \n",
       "1  ce831ed469ea6e878be9513  fc277c228c78e2205589549  6919425e2396b9b40f6f485   \n",
       "2  ce831ed469ea6e878be9513  a5d5d80e66f9f205071a314  34c35efb4914475c2ff3057   \n",
       "3  ce831ed469ea6e878be9513  fc277c228c78e2205589549  34c35efb4914475c2ff3057   \n",
       "4  af9c38362173fccfd7c3015  a5d5d80e66f9f205071a314  34c35efb4914475c2ff3057   \n",
       "\n",
       "            mustache_color                eye_color                  glasses  \n",
       "0  38f72fe7c936801c4f57923  97f0074a4016d00ba6ad145  d71a761292c505e31420704  \n",
       "1  b411a018af74c13ecf90737  840281fa1c0e97d6e2f5869  d71a761292c505e31420704  \n",
       "2  38f72fe7c936801c4f57923  840281fa1c0e97d6e2f5869  d71a761292c505e31420704  \n",
       "3  38f72fe7c936801c4f57923  840281fa1c0e97d6e2f5869  d71a761292c505e31420704  \n",
       "4  38f72fe7c936801c4f57923  840281fa1c0e97d6e2f5869  d71a761292c505e31420704  "
      ]
     },
     "execution_count": 4,
     "metadata": {},
     "output_type": "execute_result"
    }
   ],
   "source": [
    "df.head()"
   ]
  },
  {
   "cell_type": "code",
   "execution_count": 5,
   "metadata": {
    "tags": []
   },
   "outputs": [
    {
     "data": {
      "text/plain": [
       "array(['944d236620a51952c5e5571', '193cda8ce1e759a6707f873',\n",
       "       '77fd6146bfcfd5bfccba368'], dtype=object)"
      ]
     },
     "execution_count": 5,
     "metadata": {},
     "output_type": "execute_result"
    }
   ],
   "source": [
    "df['sex'].unique()"
   ]
  },
  {
   "cell_type": "code",
   "execution_count": 12,
   "metadata": {
    "tags": []
   },
   "outputs": [],
   "source": [
    "gender = df[['image','sex']]"
   ]
  },
  {
   "cell_type": "code",
   "execution_count": 13,
   "metadata": {
    "tags": []
   },
   "outputs": [
    {
     "data": {
      "text/html": [
       "<div>\n",
       "<style scoped>\n",
       "    .dataframe tbody tr th:only-of-type {\n",
       "        vertical-align: middle;\n",
       "    }\n",
       "\n",
       "    .dataframe tbody tr th {\n",
       "        vertical-align: top;\n",
       "    }\n",
       "\n",
       "    .dataframe thead th {\n",
       "        text-align: right;\n",
       "    }\n",
       "</style>\n",
       "<table border=\"1\" class=\"dataframe\">\n",
       "  <thead>\n",
       "    <tr style=\"text-align: right;\">\n",
       "      <th></th>\n",
       "      <th>image</th>\n",
       "      <th>sex</th>\n",
       "    </tr>\n",
       "  </thead>\n",
       "  <tbody>\n",
       "    <tr>\n",
       "      <th>0</th>\n",
       "      <td>iVBORw0KGgoAAAANSUhEUgAABAAAAAQACAIAAADwf7zUAA...</td>\n",
       "      <td>944d236620a51952c5e5571</td>\n",
       "    </tr>\n",
       "    <tr>\n",
       "      <th>1</th>\n",
       "      <td>iVBORw0KGgoAAAANSUhEUgAABAAAAAQACAIAAADwf7zUAA...</td>\n",
       "      <td>193cda8ce1e759a6707f873</td>\n",
       "    </tr>\n",
       "    <tr>\n",
       "      <th>2</th>\n",
       "      <td>iVBORw0KGgoAAAANSUhEUgAABAAAAAQACAIAAADwf7zUAA...</td>\n",
       "      <td>944d236620a51952c5e5571</td>\n",
       "    </tr>\n",
       "    <tr>\n",
       "      <th>3</th>\n",
       "      <td>iVBORw0KGgoAAAANSUhEUgAABAAAAAQACAIAAADwf7zUAA...</td>\n",
       "      <td>944d236620a51952c5e5571</td>\n",
       "    </tr>\n",
       "    <tr>\n",
       "      <th>4</th>\n",
       "      <td>iVBORw0KGgoAAAANSUhEUgAABAAAAAQACAIAAADwf7zUAA...</td>\n",
       "      <td>193cda8ce1e759a6707f873</td>\n",
       "    </tr>\n",
       "  </tbody>\n",
       "</table>\n",
       "</div>"
      ],
      "text/plain": [
       "                                               image                      sex\n",
       "0  iVBORw0KGgoAAAANSUhEUgAABAAAAAQACAIAAADwf7zUAA...  944d236620a51952c5e5571\n",
       "1  iVBORw0KGgoAAAANSUhEUgAABAAAAAQACAIAAADwf7zUAA...  193cda8ce1e759a6707f873\n",
       "2  iVBORw0KGgoAAAANSUhEUgAABAAAAAQACAIAAADwf7zUAA...  944d236620a51952c5e5571\n",
       "3  iVBORw0KGgoAAAANSUhEUgAABAAAAAQACAIAAADwf7zUAA...  944d236620a51952c5e5571\n",
       "4  iVBORw0KGgoAAAANSUhEUgAABAAAAAQACAIAAADwf7zUAA...  193cda8ce1e759a6707f873"
      ]
     },
     "execution_count": 13,
     "metadata": {},
     "output_type": "execute_result"
    }
   ],
   "source": [
    "gender.head()"
   ]
  },
  {
   "cell_type": "markdown",
   "metadata": {},
   "source": [
    "## Label encode the gender column \n",
    "We'll build a model to predict the gender of a person."
   ]
  },
  {
   "cell_type": "code",
   "execution_count": 14,
   "metadata": {
    "tags": []
   },
   "outputs": [],
   "source": [
    "# creating instance of labelencoder\n",
    "from sklearn.preprocessing import LabelEncoder\n",
    "labelencoder = LabelEncoder()\n",
    "gender = gender.assign(sex = labelencoder.fit_transform(gender[\"sex\"]))"
   ]
  },
  {
   "cell_type": "code",
   "execution_count": 15,
   "metadata": {
    "tags": []
   },
   "outputs": [
    {
     "data": {
      "text/html": [
       "<div>\n",
       "<style scoped>\n",
       "    .dataframe tbody tr th:only-of-type {\n",
       "        vertical-align: middle;\n",
       "    }\n",
       "\n",
       "    .dataframe tbody tr th {\n",
       "        vertical-align: top;\n",
       "    }\n",
       "\n",
       "    .dataframe thead th {\n",
       "        text-align: right;\n",
       "    }\n",
       "</style>\n",
       "<table border=\"1\" class=\"dataframe\">\n",
       "  <thead>\n",
       "    <tr style=\"text-align: right;\">\n",
       "      <th></th>\n",
       "      <th>image</th>\n",
       "      <th>sex</th>\n",
       "    </tr>\n",
       "  </thead>\n",
       "  <tbody>\n",
       "    <tr>\n",
       "      <th>0</th>\n",
       "      <td>iVBORw0KGgoAAAANSUhEUgAABAAAAAQACAIAAADwf7zUAA...</td>\n",
       "      <td>2</td>\n",
       "    </tr>\n",
       "    <tr>\n",
       "      <th>1</th>\n",
       "      <td>iVBORw0KGgoAAAANSUhEUgAABAAAAAQACAIAAADwf7zUAA...</td>\n",
       "      <td>0</td>\n",
       "    </tr>\n",
       "    <tr>\n",
       "      <th>2</th>\n",
       "      <td>iVBORw0KGgoAAAANSUhEUgAABAAAAAQACAIAAADwf7zUAA...</td>\n",
       "      <td>2</td>\n",
       "    </tr>\n",
       "    <tr>\n",
       "      <th>3</th>\n",
       "      <td>iVBORw0KGgoAAAANSUhEUgAABAAAAAQACAIAAADwf7zUAA...</td>\n",
       "      <td>2</td>\n",
       "    </tr>\n",
       "    <tr>\n",
       "      <th>4</th>\n",
       "      <td>iVBORw0KGgoAAAANSUhEUgAABAAAAAQACAIAAADwf7zUAA...</td>\n",
       "      <td>0</td>\n",
       "    </tr>\n",
       "  </tbody>\n",
       "</table>\n",
       "</div>"
      ],
      "text/plain": [
       "                                               image  sex\n",
       "0  iVBORw0KGgoAAAANSUhEUgAABAAAAAQACAIAAADwf7zUAA...    2\n",
       "1  iVBORw0KGgoAAAANSUhEUgAABAAAAAQACAIAAADwf7zUAA...    0\n",
       "2  iVBORw0KGgoAAAANSUhEUgAABAAAAAQACAIAAADwf7zUAA...    2\n",
       "3  iVBORw0KGgoAAAANSUhEUgAABAAAAAQACAIAAADwf7zUAA...    2\n",
       "4  iVBORw0KGgoAAAANSUhEUgAABAAAAAQACAIAAADwf7zUAA...    0"
      ]
     },
     "execution_count": 15,
     "metadata": {},
     "output_type": "execute_result"
    }
   ],
   "source": [
    "gender.head()"
   ]
  },
  {
   "cell_type": "code",
   "execution_count": 16,
   "metadata": {
    "tags": []
   },
   "outputs": [
    {
     "data": {
      "text/plain": [
       "array([2, 0, 1])"
      ]
     },
     "execution_count": 16,
     "metadata": {},
     "output_type": "execute_result"
    }
   ],
   "source": [
    "gender['sex'].unique()"
   ]
  },
  {
   "cell_type": "markdown",
   "metadata": {},
   "source": [
    "### Split the data into a training and testing set"
   ]
  },
  {
   "cell_type": "code",
   "execution_count": 17,
   "metadata": {
    "tags": []
   },
   "outputs": [],
   "source": [
    "from sklearn.model_selection import train_test_split\n",
    "X = gender[['image']]\n",
    "y = gender[['sex']]\n",
    "X_train, X_test, y_train, y_test = train_test_split( X, y, test_size=0.20, random_state=42)"
   ]
  },
  {
   "cell_type": "markdown",
   "metadata": {},
   "source": [
    "### Process the image data"
   ]
  },
  {
   "cell_type": "code",
   "execution_count": 18,
   "metadata": {
    "tags": []
   },
   "outputs": [],
   "source": [
    "from PIL import Image\n",
    "import io\n",
    "import base64\n",
    "from tensorflow.keras.preprocessing.image import img_to_array\n",
    "\n",
    "def load_process_images(image):\n",
    "    image_decoded = base64.b64decode(image)\n",
    "    image = Image.open(io.BytesIO(image_decoded)).resize([224, 224])\n",
    "    image = img_to_array(image)\n",
    "    return image"
   ]
  },
  {
   "cell_type": "code",
   "execution_count": 19,
   "metadata": {
    "tags": []
   },
   "outputs": [],
   "source": [
    "import numpy as np\n",
    "X_train = np.stack(X_train['image'].map(load_process_images))\n",
    "X_test = np.stack(X_test['image'].map(load_process_images))"
   ]
  },
  {
   "cell_type": "markdown",
   "metadata": {},
   "source": [
    "## Log in to Layer"
   ]
  },
  {
   "cell_type": "code",
   "execution_count": null,
   "metadata": {},
   "outputs": [],
   "source": [
    "import layer\n",
    "layer.login()"
   ]
  },
  {
   "cell_type": "markdown",
   "metadata": {},
   "source": [
    "### Initialize a Layer project"
   ]
  },
  {
   "cell_type": "code",
   "execution_count": null,
   "metadata": {
    "tags": [],
    "pycharm": {
     "is_executing": true
    }
   },
   "outputs": [],
   "source": [
    "from layer.decorators import model, fabric\n",
    "layer.init(\"ango-face-classification\")"
   ]
  },
  {
   "cell_type": "markdown",
   "metadata": {},
   "source": [
    "### Define the model training function"
   ]
  },
  {
   "cell_type": "code",
   "execution_count": 94,
   "metadata": {
    "tags": []
   },
   "outputs": [],
   "source": [
    "@fabric(\"f-gpu-small\")\n",
    "@model(\"face-classification\")\n",
    "def train():\n",
    "  import tensorflow as tf\n",
    "  from tensorflow import keras\n",
    "  from tensorflow.keras import Sequential\n",
    "  from tensorflow.keras.layers import Dense,Conv2D,MaxPooling2D,Flatten,Dropout\n",
    "  from tensorflow.keras.preprocessing.image import ImageDataGenerator\n",
    "  from tensorflow.keras.callbacks import EarlyStopping\n",
    "  import matplotlib.pyplot as plt \n",
    "  from PIL import Image\n",
    "  import numpy as np\n",
    "  import pandas as pd\n",
    "  for image in range(4):\n",
    "    PIL_image = Image.fromarray(np.uint8(X_test[image])).convert('RGB')\n",
    "    layer.log({f\"Sample face-{image}\": PIL_image})\n",
    "    \n",
    "  train_datagen = ImageDataGenerator(rescale=1./255, shear_range=0.2,zoom_range=0.2, horizontal_flip=True,width_shift_range=0.1,height_shift_range=0.1)\n",
    "  train_datagen.fit(X_train)\n",
    "  training_data = train_datagen.flow(X_train, y_train, batch_size=32)\n",
    "  validation_gen = ImageDataGenerator(rescale=1./255)\n",
    "  image_size = (200, 200)\n",
    "  testing_data = validation_gen.flow(X_test, y_test, batch_size=32)\n",
    "  model = Sequential([\n",
    "    Conv2D(filters=32,kernel_size=(3,3),  input_shape = (224, 224, 3),activation='relu'),\n",
    "    MaxPooling2D(pool_size=(2,2)),\n",
    "\n",
    "    Conv2D(filters=32,kernel_size=(3,3), activation='relu'),\n",
    "    MaxPooling2D(pool_size=(2,2)),\n",
    "    Dropout(0.25),\n",
    "\n",
    "    Conv2D(filters=64,kernel_size=(3,3), activation='relu'),\n",
    "    MaxPooling2D(pool_size=(2,2)),\n",
    "    Dropout(0.25),\n",
    "\n",
    "    Flatten(),\n",
    "    Dense(128, activation='relu'),\n",
    "    Dropout(0.25),\n",
    "    Dense(3, activation='softmax')])\n",
    "  model.compile(optimizer='adam', loss=keras.losses.SparseCategoricalCrossentropy(), metrics=[keras.metrics.CategoricalAccuracy()])\n",
    "  callback = EarlyStopping(monitor='loss', patience=3)\n",
    "  epochs=2\n",
    "  history = model.fit(training_data,validation_data=testing_data, epochs=epochs,callbacks=[callback])\n",
    "  metrics_df = pd.DataFrame(history.history)\n",
    "  layer.log({\"metrics DataFrame\": metrics_df})\n",
    "  loss, accuracy = model.evaluate(testing_data)\n",
    "  layer.log({\"Testing loss\": loss})\n",
    "  layer.log({\"Testing accuracy\": accuracy})\n",
    "  print('Accuracy on test dataset:', accuracy)\n",
    "  metrics_df[[\"loss\",\"val_loss\"]].plot()\n",
    "  layer.log({\"Loss plot\": plt.gcf()})\n",
    "  training_loss, training_accuracy = model.evaluate(training_data)\n",
    "  layer.log({\"Training loss\": loss})\n",
    "  layer.log({\"Training accuracy\": accuracy})\n",
    "  metrics_df[[\"categorical_accuracy\",\"val_categorical_accuracy\"]].plot()\n",
    "  layer.log({\"Accuracy plot\": plt.gcf()})\n",
    "  return model"
   ]
  },
  {
   "cell_type": "markdown",
   "metadata": {},
   "source": [
    "### Model training"
   ]
  },
  {
   "cell_type": "code",
   "execution_count": 50,
   "metadata": {
    "tags": []
   },
   "outputs": [],
   "source": [
    "# Train the model on your local infra\n",
    "train()"
   ]
  },
  {
   "cell_type": "code",
   "execution_count": null,
   "metadata": {
    "pycharm": {
     "is_executing": true
    }
   },
   "outputs": [],
   "source": [
    "# Run the project on Layer Infra using remote GPUs\n",
    "layer.run([train])"
   ]
  },
  {
   "cell_type": "markdown",
   "metadata": {},
   "source": [
    "### Fetch trained model"
   ]
  },
  {
   "cell_type": "code",
   "execution_count": 71,
   "metadata": {
    "tags": []
   },
   "outputs": [
    {
     "data": {
      "text/html": [
       "<pre style=\"white-space:pre;overflow-x:auto;line-height:normal;font-family:Menlo,'DejaVu Sans Mono',consolas,'Courier New',monospace\"><span style=\"color: #008000; text-decoration-color: #008000\">⠦</span>  face-classification  <span style=\"color: #157f3d; text-decoration-color: #157f3d\">━━━━━━━━━━</span> <span style=\"color: #157f3d; text-decoration-color: #157f3d\">LOADED</span> <span style=\"color: #000000; text-decoration-color: #000000\">[</span><span style=\"color: #9b9b9f; text-decoration-color: #9b9b9f\">0:00:00</span><span style=\"color: #000000; text-decoration-color: #000000\">]</span> \n",
       "</pre>\n"
      ],
      "text/plain": [
       "\u001B[32m⠦\u001B[0m  face-classification  \u001B[38;2;21;127;61m━━━━━━━━━━\u001B[0m \u001B[38;2;21;127;61mLOADED\u001B[0m \u001B[39m[\u001B[0m\u001B[38;2;155;155;159m0:00:00\u001B[0m\u001B[39m]\u001B[0m \n"
      ]
     },
     "metadata": {},
     "output_type": "display_data"
    }
   ],
   "source": [
    "my_model = layer.get_model('layer/ango-face-classification/models/face-classification').get_train()"
   ]
  },
  {
   "cell_type": "markdown",
   "metadata": {},
   "source": [
    "### Run predictions on the model"
   ]
  },
  {
   "cell_type": "code",
   "execution_count": null,
   "metadata": {},
   "outputs": [],
   "source": [
    "import numpy as np\n",
    "from keras.preprocessing import image"
   ]
  },
  {
   "cell_type": "code",
   "execution_count": 72,
   "metadata": {
    "tags": []
   },
   "outputs": [],
   "source": [
    "test_image = X_test[0]"
   ]
  },
  {
   "cell_type": "code",
   "execution_count": 73,
   "metadata": {
    "tags": []
   },
   "outputs": [
    {
     "name": "stderr",
     "output_type": "stream",
     "text": [
      "2022-05-16 11:31:17.768274: I tensorflow/core/grappler/optimizers/custom_graph_optimizer_registry.cc:113] Plugin optimizer for device_type GPU is enabled.\n"
     ]
    }
   ],
   "source": [
    "test_image_array = np.expand_dims(test_image, axis=0)\n",
    "prediction = my_model.predict(test_image_array)"
   ]
  },
  {
   "cell_type": "code",
   "execution_count": 74,
   "metadata": {
    "tags": []
   },
   "outputs": [
    {
     "data": {
      "text/plain": [
       "array([[9.748167e-22, 0.000000e+00, 1.000000e+00]], dtype=float32)"
      ]
     },
     "execution_count": 74,
     "metadata": {},
     "output_type": "execute_result"
    }
   ],
   "source": [
    "prediction"
   ]
  },
  {
   "cell_type": "code",
   "execution_count": 75,
   "metadata": {
    "tags": []
   },
   "outputs": [
    {
     "data": {
      "text/plain": [
       "'2 with a 57.61 percent confidence.'"
      ]
     },
     "execution_count": 75,
     "metadata": {},
     "output_type": "execute_result"
    }
   ],
   "source": [
    "import tensorflow as tf\n",
    "scores = tf.nn.softmax(prediction[0])\n",
    "scores = scores.numpy()\n",
    "class_names = [0,1,2]\n",
    "f\"{class_names[np.argmax(scores)]} with a { (100 * np.max(scores)).round(2) } percent confidence.\" "
   ]
  },
  {
   "cell_type": "code",
   "execution_count": 76,
   "metadata": {
    "tags": []
   },
   "outputs": [
    {
     "data": {
      "text/plain": [
       "numpy.ndarray"
      ]
     },
     "execution_count": 76,
     "metadata": {},
     "output_type": "execute_result"
    }
   ],
   "source": [
    "type(X_test[0])"
   ]
  },
  {
   "cell_type": "code",
   "execution_count": 77,
   "metadata": {
    "tags": []
   },
   "outputs": [],
   "source": [
    "from PIL import Image\n",
    "import numpy as np\n",
    "PIL_image = Image.fromarray(np.uint8(X_test[0])).convert('RGB')"
   ]
  },
  {
   "cell_type": "code",
   "execution_count": 78,
   "metadata": {
    "tags": []
   },
   "outputs": [
    {
     "data": {
      "image/png": "[encoded data removed]",
      "text/plain": [
       "<PIL.Image.Image image mode=RGB size=224x224>"
      ]
     },
     "execution_count": 78,
     "metadata": {},
     "output_type": "execute_result"
    }
   ],
   "source": [
    "PIL_image"
   ]
  },
  {
   "cell_type": "code",
   "execution_count": null,
   "metadata": {
    "pycharm": {
     "is_executing": true
    }
   },
   "outputs": [],
   "source": [
    "!wget --no-check-certificate \\\n",
    "   https://storage.googleapis.com/ango-covid-dataset/ffhq-dataset/batch2/48312.png \\\n",
    "    -O 48312.png"
   ]
  },
  {
   "cell_type": "code",
   "execution_count": 80,
   "metadata": {},
   "outputs": [],
   "source": [
    "test_image = image.load_img('48312.png', target_size=(224, 224))"
   ]
  },
  {
   "cell_type": "code",
   "execution_count": 81,
   "metadata": {},
   "outputs": [],
   "source": [
    "test_image = image.img_to_array(test_image)"
   ]
  },
  {
   "cell_type": "code",
   "execution_count": 82,
   "metadata": {},
   "outputs": [],
   "source": [
    "test_image = test_image / 255.0"
   ]
  },
  {
   "cell_type": "code",
   "execution_count": 83,
   "metadata": {},
   "outputs": [],
   "source": [
    "test_image = np.expand_dims(test_image, axis=0)"
   ]
  },
  {
   "cell_type": "code",
   "execution_count": 84,
   "metadata": {},
   "outputs": [],
   "source": [
    "prediction = my_model.predict(test_image)"
   ]
  },
  {
   "cell_type": "code",
   "execution_count": 87,
   "metadata": {},
   "outputs": [
    {
     "data": {
      "text/plain": [
       "array([0.994645  , 0.00109425, 0.00426078], dtype=float32)"
      ]
     },
     "execution_count": 87,
     "metadata": {},
     "output_type": "execute_result"
    }
   ],
   "source": [
    "prediction[0]"
   ]
  },
  {
   "cell_type": "code",
   "execution_count": 86,
   "metadata": {},
   "outputs": [
    {
     "data": {
      "text/plain": [
       "'0 with a 57.42 percent confidence.'"
      ]
     },
     "execution_count": 86,
     "metadata": {},
     "output_type": "execute_result"
    }
   ],
   "source": [
    "import tensorflow as tf\n",
    "scores = tf.nn.softmax(prediction[0])\n",
    "scores = scores.numpy()\n",
    "class_names = [0,1,2]\n",
    "f\"{class_names[np.argmax(scores)]} with a { (100 * np.max(scores)).round(2) } percent confidence.\" "
   ]
  },
  {
   "cell_type": "code",
   "execution_count": 89,
   "metadata": {},
   "outputs": [
    {
     "data": {
      "text/plain": [
       "['193cda8ce1e759a6707f873',\n",
       " '77fd6146bfcfd5bfccba368',\n",
       " '944d236620a51952c5e5571']"
      ]
     },
     "execution_count": 89,
     "metadata": {},
     "output_type": "execute_result"
    }
   ],
   "source": [
    "list(labelencoder.inverse_transform([0,1,2]))"
   ]
  },
  {
   "cell_type": "markdown",
   "metadata": {},
   "source": [
    "## Next steps\n",
    "To learn more about using layer, you can: \n",
    "- Join our [Slack Community ](https://bit.ly/layercommunityslack)\n",
    "- Visit [Layer Examples Repo](https://github.com/layerai/examples) for more examples\n",
    "- Browse [Trending Layer Projects](https://layer.ai) on our mainpage\n",
    "- Check out [Layer Documentation](https://docs.app.layer.ai) to learn more"
   ]
  }
 ],
 "metadata": {
  "kernelspec": {
   "display_name": "Python 3 (ipykernel)",
   "language": "python",
   "name": "python3"
  },
  "language_info": {
   "codemirror_mode": {
    "name": "ipython",
    "version": 3
   },
   "file_extension": ".py",
   "mimetype": "text/x-python",
   "name": "python",
   "nbconvert_exporter": "python",
   "pygments_lexer": "ipython3",
   "version": "3.8.13"
  }
 },
 "nbformat": 4,
 "nbformat_minor": 4
}