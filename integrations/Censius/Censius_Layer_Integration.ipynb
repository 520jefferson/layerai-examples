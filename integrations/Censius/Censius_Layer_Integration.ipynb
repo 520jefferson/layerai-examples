{
 "nbformat": 4,
 "nbformat_minor": 0,
 "metadata": {
  "colab": {
   "name": "Censius_Layer_Integration.ipynb",
   "provenance": [],
   "collapsed_sections": []
  },
  "kernelspec": {
   "name": "python3",
   "display_name": "Python 3"
  },
  "language_info": {
   "name": "python"
  },
  "widgets": {
   "application/vnd.jupyter.widget-state+json": {
    "d4394b1de1b3463ba3c02c0ac6c7bfcd": {
     "model_module": "@jupyter-widgets/output",
     "model_name": "OutputModel",
     "model_module_version": "1.0.0",
     "state": {
      "_dom_classes": [],
      "_model_module": "@jupyter-widgets/output",
      "_model_module_version": "1.0.0",
      "_model_name": "OutputModel",
      "_view_count": null,
      "_view_module": "@jupyter-widgets/output",
      "_view_module_version": "1.0.0",
      "_view_name": "OutputView",
      "layout": "IPY_MODEL_f5758aadea484a0daa9cc434ba318873",
      "msg_id": "",
      "outputs": [
       {
        "output_type": "display_data",
        "data": {
         "text/plain": "✅  passengers           \u001B[38;2;21;127;61m━━━━━━━━━━\u001B[0m \u001B[38;2;21;127;61mDONE\u001B[0m \u001B[39m[\u001B[0m\u001B[38;2;155;155;159m0:03:13\u001B[0m\u001B[39m]\u001B[0m                               \n    \u001B[4;38;2;161;161;169m↳ \u001B[0m\u001B]8;id=580367;https://app.layer.ai/layer/titanic_censius_integ/datasets/passengers?v=1.2\u001B\\\u001B[4;38;2;161;161;169mhttps://app.layer.ai/layer/titanic_censius_integ/datasets/passengers?v=1.2\u001B[0m\u001B]8;;\u001B\\ \n",
         "text/html": "<pre style=\"white-space:pre;overflow-x:auto;line-height:normal;font-family:Menlo,'DejaVu Sans Mono',consolas,'Courier New',monospace\">✅  passengers           <span style=\"color: #157f3d; text-decoration-color: #157f3d\">━━━━━━━━━━</span> <span style=\"color: #157f3d; text-decoration-color: #157f3d\">DONE</span> <span style=\"color: #000000; text-decoration-color: #000000\">[</span><span style=\"color: #9b9b9f; text-decoration-color: #9b9b9f\">0:03:13</span><span style=\"color: #000000; text-decoration-color: #000000\">]</span>                               \n    <span style=\"color: #a1a1a9; text-decoration-color: #a1a1a9; text-decoration: underline\">↳ </span><a href=\"https://app.layer.ai/layer/titanic_censius_integ/datasets/passengers?v=1.2\"><span style=\"color: #a1a1a9; text-decoration-color: #a1a1a9; text-decoration: underline\">https://app.layer.ai/layer/titanic_censius_integ/datasets/passengers?v=1.2</span></a> \n</pre>\n"
        },
        "metadata": {}
       }
      ]
     }
    },
    "f5758aadea484a0daa9cc434ba318873": {
     "model_module": "@jupyter-widgets/base",
     "model_name": "LayoutModel",
     "model_module_version": "1.2.0",
     "state": {
      "_model_module": "@jupyter-widgets/base",
      "_model_module_version": "1.2.0",
      "_model_name": "LayoutModel",
      "_view_count": null,
      "_view_module": "@jupyter-widgets/base",
      "_view_module_version": "1.2.0",
      "_view_name": "LayoutView",
      "align_content": null,
      "align_items": null,
      "align_self": null,
      "border": null,
      "bottom": null,
      "display": null,
      "flex": null,
      "flex_flow": null,
      "grid_area": null,
      "grid_auto_columns": null,
      "grid_auto_flow": null,
      "grid_auto_rows": null,
      "grid_column": null,
      "grid_gap": null,
      "grid_row": null,
      "grid_template_areas": null,
      "grid_template_columns": null,
      "grid_template_rows": null,
      "height": null,
      "justify_content": null,
      "justify_items": null,
      "left": null,
      "margin": null,
      "max_height": null,
      "max_width": null,
      "min_height": null,
      "min_width": null,
      "object_fit": null,
      "object_position": null,
      "order": null,
      "overflow": null,
      "overflow_x": null,
      "overflow_y": null,
      "padding": null,
      "right": null,
      "top": null,
      "visibility": null,
      "width": null
     }
    },
    "3ea876e5338a4e16bc2b695613e22768": {
     "model_module": "@jupyter-widgets/output",
     "model_name": "OutputModel",
     "model_module_version": "1.0.0",
     "state": {
      "_dom_classes": [],
      "_model_module": "@jupyter-widgets/output",
      "_model_module_version": "1.0.0",
      "_model_name": "OutputModel",
      "_view_count": null,
      "_view_module": "@jupyter-widgets/output",
      "_view_module_version": "1.0.0",
      "_view_name": "OutputView",
      "layout": "IPY_MODEL_212974b80aae474099dcbae7a80163be",
      "msg_id": "",
      "outputs": [
       {
        "output_type": "display_data",
        "data": {
         "text/plain": "✅  cenius_survival_mod… \u001B[38;2;21;127;61m━━━━━━━━━━\u001B[0m \u001B[38;2;21;127;61mDONE\u001B[0m \u001B[39m[\u001B[0m\u001B[38;2;155;155;159m0:00:15\u001B[0m\u001B[39m]\u001B[0m                                        \n    \u001B[4;38;2;161;161;169m↳ \u001B[0m\u001B]8;id=520233;https://app.layer.ai/layer/titanic_censius_integ/models/cenius_survival_model?v=1.1\u001B\\\u001B[4;38;2;161;161;169mhttps://app.layer.ai/layer/titanic_censius_integ/models/cenius_survival_model?v=1.1\u001B[0m\u001B]8;;\u001B\\ \n",
         "text/html": "<pre style=\"white-space:pre;overflow-x:auto;line-height:normal;font-family:Menlo,'DejaVu Sans Mono',consolas,'Courier New',monospace\">✅  cenius_survival_mod… <span style=\"color: #157f3d; text-decoration-color: #157f3d\">━━━━━━━━━━</span> <span style=\"color: #157f3d; text-decoration-color: #157f3d\">DONE</span> <span style=\"color: #000000; text-decoration-color: #000000\">[</span><span style=\"color: #9b9b9f; text-decoration-color: #9b9b9f\">0:00:15</span><span style=\"color: #000000; text-decoration-color: #000000\">]</span>                                        \n    <span style=\"color: #a1a1a9; text-decoration-color: #a1a1a9; text-decoration: underline\">↳ </span><a href=\"https://app.layer.ai/layer/titanic_censius_integ/models/cenius_survival_model?v=1.1\"><span style=\"color: #a1a1a9; text-decoration-color: #a1a1a9; text-decoration: underline\">https://app.layer.ai/layer/titanic_censius_integ/models/cenius_survival_model?v=1.1</span></a> \n</pre>\n"
        },
        "metadata": {}
       }
      ]
     }
    },
    "212974b80aae474099dcbae7a80163be": {
     "model_module": "@jupyter-widgets/base",
     "model_name": "LayoutModel",
     "model_module_version": "1.2.0",
     "state": {
      "_model_module": "@jupyter-widgets/base",
      "_model_module_version": "1.2.0",
      "_model_name": "LayoutModel",
      "_view_count": null,
      "_view_module": "@jupyter-widgets/base",
      "_view_module_version": "1.2.0",
      "_view_name": "LayoutView",
      "align_content": null,
      "align_items": null,
      "align_self": null,
      "border": null,
      "bottom": null,
      "display": null,
      "flex": null,
      "flex_flow": null,
      "grid_area": null,
      "grid_auto_columns": null,
      "grid_auto_flow": null,
      "grid_auto_rows": null,
      "grid_column": null,
      "grid_gap": null,
      "grid_row": null,
      "grid_template_areas": null,
      "grid_template_columns": null,
      "grid_template_rows": null,
      "height": null,
      "justify_content": null,
      "justify_items": null,
      "left": null,
      "margin": null,
      "max_height": null,
      "max_width": null,
      "min_height": null,
      "min_width": null,
      "object_fit": null,
      "object_position": null,
      "order": null,
      "overflow": null,
      "overflow_x": null,
      "overflow_y": null,
      "padding": null,
      "right": null,
      "top": null,
      "visibility": null,
      "width": null
     }
    }
   }
  }
 },
 "cells": [
  {
   "cell_type": "markdown",
   "source": [
    "# How to integrate Layer and Censius\n",
    "\n",
    "In this tutorial, we'll look at how to integrate [Layer](layer.ai) and [Censius](http://censius.ai/) in your machine learning projects. "
   ],
   "metadata": {
    "id": "ULO0r58Rp8e1"
   }
  },
  {
   "cell_type": "markdown",
   "source": [
    "# 1. Install Layer\n",
    "\n",
    "Let's start with installing Layer."
   ],
   "metadata": {
    "id": "qCAw9JNReZw0"
   }
  },
  {
   "cell_type": "code",
   "source": [
    "!pip install -U layer -q"
   ],
   "metadata": {
    "id": "p7ttFm-2Xk2j",
    "colab": {
     "base_uri": "https://localhost:8080/"
    },
    "outputId": "cabcfc40-d7e1-41f6-eced-86344b64d2b5",
    "pycharm": {
     "is_executing": true
    }
   },
   "execution_count": null,
   "outputs": []
  },
  {
   "cell_type": "markdown",
   "source": [
    "# 2. Login into Layer"
   ],
   "metadata": {
    "id": "7I0eXrp5el9C"
   }
  },
  {
   "cell_type": "code",
   "source": [
    "import layer\n",
    "layer.login()"
   ],
   "metadata": {
    "colab": {
     "base_uri": "https://localhost:8080/"
    },
    "id": "T9rmix2eXlSl",
    "outputId": "d33e3afd-3d3a-40c6-f198-059101b78d55",
    "pycharm": {
     "is_executing": true
    }
   },
   "execution_count": null,
   "outputs": []
  },
  {
   "cell_type": "markdown",
   "source": [
    "# 3. Import the necessary packages "
   ],
   "metadata": {
    "id": "Z4mDFRb8pQ7x"
   }
  },
  {
   "cell_type": "code",
   "source": [
    "from layer.decorators import dataset, model,resources, fabric\n",
    "from sklearn.ensemble import RandomForestClassifier\n",
    "from sklearn.model_selection import train_test_split\n",
    "from sklearn.metrics import accuracy_score\n",
    "import pandas as pd\n",
    "import numpy as np\n",
    "import warnings\n",
    "warnings.filterwarnings('ignore') "
   ],
   "metadata": {
    "id": "pmF_Z2nEHf_j"
   },
   "execution_count": 9,
   "outputs": []
  },
  {
   "cell_type": "markdown",
   "source": [
    "#4. Initialize your first Layer project"
   ],
   "metadata": {
    "id": "HOMxKWe9paXq"
   }
  },
  {
   "cell_type": "markdown",
   "source": [
    "It's time to create your first Layer Project. You can find your created project at https://app.layer.ai"
   ],
   "metadata": {
    "id": "Q-ivHbU6CCDF"
   }
  },
  {
   "cell_type": "code",
   "source": [
    "layer.init(\"titanic_censius_integ\")"
   ],
   "metadata": {
    "colab": {
     "base_uri": "https://localhost:8080/"
    },
    "id": "JIrCJLoWHmoj",
    "outputId": "0850fb16-f6c7-4f7c-d82d-d35d4e2a27a2",
    "pycharm": {
     "is_executing": true
    }
   },
   "execution_count": null,
   "outputs": []
  },
  {
   "cell_type": "markdown",
   "source": [
    "#5. Build passengers dataset"
   ],
   "metadata": {
    "id": "XOTSbD0spfpd"
   }
  },
  {
   "cell_type": "markdown",
   "source": [
    "Let's start building our data to train our model. We will be using the Kaggle Titanic Dataset which consists two datasets:\n",
    "\n",
    "1. train.csv\n",
    "2. test.csv\n",
    "\n",
    "Let's clone the Layer Titanic Project repo which has these datasets."
   ],
   "metadata": {
    "id": "Bwt78kX3B_BX"
   }
  },
  {
   "cell_type": "code",
   "source": [
    "!git clone https://github.com/layerai/examples\n",
    "!mv ./examples/titanic/* ./"
   ],
   "metadata": {
    "colab": {
     "base_uri": "https://localhost:8080/"
    },
    "id": "SO8kx-3UHtRh",
    "outputId": "633e3565-dab6-48a4-ffa7-2c3dfd9cae4c",
    "pycharm": {
     "is_executing": true
    }
   },
   "execution_count": null,
   "outputs": []
  },
  {
   "cell_type": "markdown",
   "source": [
    "#6. Merge and transform data to build the dataset"
   ],
   "metadata": {
    "id": "sdOl70W5ptO9"
   }
  },
  {
   "cell_type": "code",
   "source": [
    "def clean_gender(sex):\n",
    "    result = 0\n",
    "    if sex == \"female\":\n",
    "        result = 0\n",
    "    elif sex == \"male\":\n",
    "        result = 1\n",
    "    return result\n",
    "\n",
    "\n",
    "def clean_age(data):\n",
    "    age = data[0]\n",
    "    pclass = data[1]\n",
    "    if pd.isnull(age):\n",
    "        if pclass == 1:\n",
    "            return 37\n",
    "        elif pclass == 2:\n",
    "            return 29\n",
    "        else:\n",
    "            return 24\n",
    "    else:\n",
    "        return age  \n",
    "\n",
    "@fabric(\"f-medium\")\n",
    "@dataset(\"passengers\")\n",
    "@resources(path=\"./data\")\n",
    "def build_passengers_dataset():\n",
    "  train_df = pd.read_csv(\"data/train.csv\")\n",
    "  test_df = pd.read_csv(\"data/test.csv\")\n",
    "  df = train_df.append(test_df)\n",
    "\n",
    "  df['Sex'] = df['Sex'].apply(clean_gender)\n",
    "  df['Age'] = df[['Age', 'Pclass']].apply(clean_age, axis=1)\n",
    "  df = df.drop([\"PassengerId\", \"Name\", \"Cabin\", \"Ticket\", \"Embarked\"], axis=1)\n",
    "\n",
    "  return df"
   ],
   "metadata": {
    "id": "p2WOybjiHvVK"
   },
   "execution_count": 10,
   "outputs": []
  },
  {
   "cell_type": "code",
   "source": [
    "layer.run([build_passengers_dataset])"
   ],
   "metadata": {
    "colab": {
     "base_uri": "https://localhost:8080/",
     "height": 70,
     "referenced_widgets": [
      "d4394b1de1b3463ba3c02c0ac6c7bfcd",
      "f5758aadea484a0daa9cc434ba318873"
     ]
    },
    "id": "gsbfn8TKMwVT",
    "outputId": "ef1a02d1-e300-497b-9b69-f48ade0dcf5e"
   },
   "execution_count": 13,
   "outputs": [
    {
     "output_type": "display_data",
     "data": {
      "text/plain": [
       "Output()"
      ],
      "application/vnd.jupyter.widget-view+json": {
       "version_major": 2,
       "version_minor": 0,
       "model_id": "d4394b1de1b3463ba3c02c0ac6c7bfcd"
      }
     },
     "metadata": {}
    },
    {
     "output_type": "execute_result",
     "data": {
      "text/plain": [
       "Run(project_name='titanic_censius_integ')"
      ]
     },
     "metadata": {},
     "execution_count": 13
    }
   ]
  },
  {
   "cell_type": "code",
   "source": [
    "df = layer.get_dataset('passengers').to_pandas().dropna()"
   ],
   "metadata": {
    "id": "tptVp6s8rq4o"
   },
   "execution_count": 14,
   "outputs": []
  },
  {
   "cell_type": "code",
   "source": [
    "df.head()"
   ],
   "metadata": {
    "colab": {
     "base_uri": "https://localhost:8080/",
     "height": 206
    },
    "id": "InpzNBVArwHy",
    "outputId": "5096ce6c-d80a-46e9-e921-b8a963bd6ab7"
   },
   "execution_count": 15,
   "outputs": [
    {
     "output_type": "execute_result",
     "data": {
      "text/plain": [
       "   Survived  Pclass  Sex   Age  SibSp  Parch     Fare\n",
       "0       0.0       3    1  22.0      1      0   7.2500\n",
       "1       1.0       1    0  38.0      1      0  71.2833\n",
       "2       1.0       3    0  26.0      0      0   7.9250\n",
       "3       1.0       1    0  35.0      1      0  53.1000\n",
       "4       0.0       3    1  35.0      0      0   8.0500"
      ],
      "text/html": [
       "\n",
       "  <div id=\"df-a527f099-329d-403b-b79d-928f06e00672\">\n",
       "    <div class=\"colab-df-container\">\n",
       "      <div>\n",
       "<style scoped>\n",
       "    .dataframe tbody tr th:only-of-type {\n",
       "        vertical-align: middle;\n",
       "    }\n",
       "\n",
       "    .dataframe tbody tr th {\n",
       "        vertical-align: top;\n",
       "    }\n",
       "\n",
       "    .dataframe thead th {\n",
       "        text-align: right;\n",
       "    }\n",
       "</style>\n",
       "<table border=\"1\" class=\"dataframe\">\n",
       "  <thead>\n",
       "    <tr style=\"text-align: right;\">\n",
       "      <th></th>\n",
       "      <th>Survived</th>\n",
       "      <th>Pclass</th>\n",
       "      <th>Sex</th>\n",
       "      <th>Age</th>\n",
       "      <th>SibSp</th>\n",
       "      <th>Parch</th>\n",
       "      <th>Fare</th>\n",
       "    </tr>\n",
       "  </thead>\n",
       "  <tbody>\n",
       "    <tr>\n",
       "      <th>0</th>\n",
       "      <td>0.0</td>\n",
       "      <td>3</td>\n",
       "      <td>1</td>\n",
       "      <td>22.0</td>\n",
       "      <td>1</td>\n",
       "      <td>0</td>\n",
       "      <td>7.2500</td>\n",
       "    </tr>\n",
       "    <tr>\n",
       "      <th>1</th>\n",
       "      <td>1.0</td>\n",
       "      <td>1</td>\n",
       "      <td>0</td>\n",
       "      <td>38.0</td>\n",
       "      <td>1</td>\n",
       "      <td>0</td>\n",
       "      <td>71.2833</td>\n",
       "    </tr>\n",
       "    <tr>\n",
       "      <th>2</th>\n",
       "      <td>1.0</td>\n",
       "      <td>3</td>\n",
       "      <td>0</td>\n",
       "      <td>26.0</td>\n",
       "      <td>0</td>\n",
       "      <td>0</td>\n",
       "      <td>7.9250</td>\n",
       "    </tr>\n",
       "    <tr>\n",
       "      <th>3</th>\n",
       "      <td>1.0</td>\n",
       "      <td>1</td>\n",
       "      <td>0</td>\n",
       "      <td>35.0</td>\n",
       "      <td>1</td>\n",
       "      <td>0</td>\n",
       "      <td>53.1000</td>\n",
       "    </tr>\n",
       "    <tr>\n",
       "      <th>4</th>\n",
       "      <td>0.0</td>\n",
       "      <td>3</td>\n",
       "      <td>1</td>\n",
       "      <td>35.0</td>\n",
       "      <td>0</td>\n",
       "      <td>0</td>\n",
       "      <td>8.0500</td>\n",
       "    </tr>\n",
       "  </tbody>\n",
       "</table>\n",
       "</div>\n",
       "      <button class=\"colab-df-convert\" onclick=\"convertToInteractive('df-a527f099-329d-403b-b79d-928f06e00672')\"\n",
       "              title=\"Convert this dataframe to an interactive table.\"\n",
       "              style=\"display:none;\">\n",
       "        \n",
       "  <svg xmlns=\"http://www.w3.org/2000/svg\" height=\"24px\"viewBox=\"0 0 24 24\"\n",
       "       width=\"24px\">\n",
       "    <path d=\"M0 0h24v24H0V0z\" fill=\"none\"/>\n",
       "    <path d=\"M18.56 5.44l.94 2.06.94-2.06 2.06-.94-2.06-.94-.94-2.06-.94 2.06-2.06.94zm-11 1L8.5 8.5l.94-2.06 2.06-.94-2.06-.94L8.5 2.5l-.94 2.06-2.06.94zm10 10l.94 2.06.94-2.06 2.06-.94-2.06-.94-.94-2.06-.94 2.06-2.06.94z\"/><path d=\"M17.41 7.96l-1.37-1.37c-.4-.4-.92-.59-1.43-.59-.52 0-1.04.2-1.43.59L10.3 9.45l-7.72 7.72c-.78.78-.78 2.05 0 2.83L4 21.41c.39.39.9.59 1.41.59.51 0 1.02-.2 1.41-.59l7.78-7.78 2.81-2.81c.8-.78.8-2.07 0-2.86zM5.41 20L4 18.59l7.72-7.72 1.47 1.35L5.41 20z\"/>\n",
       "  </svg>\n",
       "      </button>\n",
       "      \n",
       "  <style>\n",
       "    .colab-df-container {\n",
       "      display:flex;\n",
       "      flex-wrap:wrap;\n",
       "      gap: 12px;\n",
       "    }\n",
       "\n",
       "    .colab-df-convert {\n",
       "      background-color: #E8F0FE;\n",
       "      border: none;\n",
       "      border-radius: 50%;\n",
       "      cursor: pointer;\n",
       "      display: none;\n",
       "      fill: #1967D2;\n",
       "      height: 32px;\n",
       "      padding: 0 0 0 0;\n",
       "      width: 32px;\n",
       "    }\n",
       "\n",
       "    .colab-df-convert:hover {\n",
       "      background-color: #E2EBFA;\n",
       "      box-shadow: 0px 1px 2px rgba(60, 64, 67, 0.3), 0px 1px 3px 1px rgba(60, 64, 67, 0.15);\n",
       "      fill: #174EA6;\n",
       "    }\n",
       "\n",
       "    [theme=dark] .colab-df-convert {\n",
       "      background-color: #3B4455;\n",
       "      fill: #D2E3FC;\n",
       "    }\n",
       "\n",
       "    [theme=dark] .colab-df-convert:hover {\n",
       "      background-color: #434B5C;\n",
       "      box-shadow: 0px 1px 3px 1px rgba(0, 0, 0, 0.15);\n",
       "      filter: drop-shadow(0px 1px 2px rgba(0, 0, 0, 0.3));\n",
       "      fill: #FFFFFF;\n",
       "    }\n",
       "  </style>\n",
       "\n",
       "      <script>\n",
       "        const buttonEl =\n",
       "          document.querySelector('#df-a527f099-329d-403b-b79d-928f06e00672 button.colab-df-convert');\n",
       "        buttonEl.style.display =\n",
       "          google.colab.kernel.accessAllowed ? 'block' : 'none';\n",
       "\n",
       "        async function convertToInteractive(key) {\n",
       "          const element = document.querySelector('#df-a527f099-329d-403b-b79d-928f06e00672');\n",
       "          const dataTable =\n",
       "            await google.colab.kernel.invokeFunction('convertToInteractive',\n",
       "                                                     [key], {});\n",
       "          if (!dataTable) return;\n",
       "\n",
       "          const docLinkHtml = 'Like what you see? Visit the ' +\n",
       "            '<a target=\"_blank\" href=https://colab.research.google.com/notebooks/data_table.ipynb>data table notebook</a>'\n",
       "            + ' to learn more about interactive tables.';\n",
       "          element.innerHTML = '';\n",
       "          dataTable['output_type'] = 'display_data';\n",
       "          await google.colab.output.renderOutput(dataTable, element);\n",
       "          const docLink = document.createElement('div');\n",
       "          docLink.innerHTML = docLinkHtml;\n",
       "          element.appendChild(docLink);\n",
       "        }\n",
       "      </script>\n",
       "    </div>\n",
       "  </div>\n",
       "  "
      ]
     },
     "metadata": {},
     "execution_count": 15
    }
   ]
  },
  {
   "cell_type": "markdown",
   "source": [
    "#7. Train the survival model"
   ],
   "metadata": {
    "id": "nPr5D-1Op3N8"
   }
  },
  {
   "cell_type": "markdown",
   "source": [
    "We will be training a RandomForestClassifier to predict the survivors. As you can see the following function is a simple training function."
   ],
   "metadata": {
    "id": "p4dHU1bdB6Ok"
   }
  },
  {
   "cell_type": "code",
   "source": [
    "@model(name='cenius_survival_model')\n",
    "def train():\n",
    "    parameters = {\n",
    "        \"test_size\": 0.25,\n",
    "        \"random_state\": 42,\n",
    "        \"n_estimators\": 100\n",
    "    }\n",
    "    \n",
    "    layer.log(parameters)\n",
    "    df = layer.get_dataset(\"passengers\").to_pandas()\n",
    "    \n",
    "    df.dropna(inplace=True)\n",
    "    X = df.drop([\"Survived\"], axis=1)\n",
    "    y = df[\"Survived\"]\n",
    "    X_train, X_test, y_train, y_test = train_test_split(X, y, test_size=parameters[\"test_size\"], random_state=parameters[\"random_state\"])\n",
    "    \n",
    "    random_forest = RandomForestClassifier(n_estimators=parameters[\"n_estimators\"])\n",
    "    random_forest.fit(X_train, y_train)\n",
    "    \n",
    "    y_pred = random_forest.predict(X_test)\n",
    "    layer.log({\"accuracy\":accuracy_score(y_test, y_pred)})\n",
    "    return random_forest"
   ],
   "metadata": {
    "id": "XcqKKeq4M2s0"
   },
   "execution_count": 16,
   "outputs": []
  },
  {
   "cell_type": "markdown",
   "source": [
    "Train the model on Layer infrastructure."
   ],
   "metadata": {
    "id": "sqAWc-Lzsbjc"
   }
  },
  {
   "cell_type": "code",
   "source": [
    "layer.run([train])"
   ],
   "metadata": {
    "colab": {
     "base_uri": "https://localhost:8080/",
     "height": 70,
     "referenced_widgets": [
      "3ea876e5338a4e16bc2b695613e22768",
      "212974b80aae474099dcbae7a80163be"
     ]
    },
    "id": "Ch4HppvjNZ7e",
    "outputId": "5ee4a0bc-cf1b-474d-e4ed-13ed24069c71"
   },
   "execution_count": 17,
   "outputs": [
    {
     "output_type": "display_data",
     "data": {
      "text/plain": [
       "Output()"
      ],
      "application/vnd.jupyter.widget-view+json": {
       "version_major": 2,
       "version_minor": 0,
       "model_id": "3ea876e5338a4e16bc2b695613e22768"
      }
     },
     "metadata": {}
    },
    {
     "output_type": "execute_result",
     "data": {
      "text/plain": [
       "Run(project_name='titanic_censius_integ')"
      ]
     },
     "metadata": {},
     "execution_count": 17
    }
   ]
  },
  {
   "cell_type": "markdown",
   "source": [
    "# 8. Load model and data"
   ],
   "metadata": {
    "id": "_spP3eFwe58g"
   }
  },
  {
   "cell_type": "markdown",
   "source": [
    "Use Layer to load the model and the data"
   ],
   "metadata": {
    "id": "RkMZ7pJksmYp"
   }
  },
  {
   "cell_type": "code",
   "execution_count": 18,
   "metadata": {
    "id": "v4LhuKBqXfuL"
   },
   "outputs": [],
   "source": [
    "model = layer.get_model('cenius_survival_model').get_train()\n",
    "df = layer.get_dataset('passengers').to_pandas()\n",
    "passenger = df[['Pclass', 'Sex', 'Age', 'SibSp', 'Parch', 'Fare']]\n",
    "data=passenger.sample()"
   ]
  },
  {
   "cell_type": "code",
   "source": [
    "data"
   ],
   "metadata": {
    "colab": {
     "base_uri": "https://localhost:8080/",
     "height": 81
    },
    "id": "ItsXlcJKQt-w",
    "outputId": "97eb722a-731c-4015-9f6e-18e05efac5b3"
   },
   "execution_count": 19,
   "outputs": [
    {
     "output_type": "execute_result",
     "data": {
      "text/plain": [
       "     Pclass  Sex   Age  SibSp  Parch   Fare\n",
       "206       3    1  32.0      1      0  15.85"
      ],
      "text/html": [
       "\n",
       "  <div id=\"df-a225f7f0-1174-4c89-af5d-bafd7907bc6d\">\n",
       "    <div class=\"colab-df-container\">\n",
       "      <div>\n",
       "<style scoped>\n",
       "    .dataframe tbody tr th:only-of-type {\n",
       "        vertical-align: middle;\n",
       "    }\n",
       "\n",
       "    .dataframe tbody tr th {\n",
       "        vertical-align: top;\n",
       "    }\n",
       "\n",
       "    .dataframe thead th {\n",
       "        text-align: right;\n",
       "    }\n",
       "</style>\n",
       "<table border=\"1\" class=\"dataframe\">\n",
       "  <thead>\n",
       "    <tr style=\"text-align: right;\">\n",
       "      <th></th>\n",
       "      <th>Pclass</th>\n",
       "      <th>Sex</th>\n",
       "      <th>Age</th>\n",
       "      <th>SibSp</th>\n",
       "      <th>Parch</th>\n",
       "      <th>Fare</th>\n",
       "    </tr>\n",
       "  </thead>\n",
       "  <tbody>\n",
       "    <tr>\n",
       "      <th>206</th>\n",
       "      <td>3</td>\n",
       "      <td>1</td>\n",
       "      <td>32.0</td>\n",
       "      <td>1</td>\n",
       "      <td>0</td>\n",
       "      <td>15.85</td>\n",
       "    </tr>\n",
       "  </tbody>\n",
       "</table>\n",
       "</div>\n",
       "      <button class=\"colab-df-convert\" onclick=\"convertToInteractive('df-a225f7f0-1174-4c89-af5d-bafd7907bc6d')\"\n",
       "              title=\"Convert this dataframe to an interactive table.\"\n",
       "              style=\"display:none;\">\n",
       "        \n",
       "  <svg xmlns=\"http://www.w3.org/2000/svg\" height=\"24px\"viewBox=\"0 0 24 24\"\n",
       "       width=\"24px\">\n",
       "    <path d=\"M0 0h24v24H0V0z\" fill=\"none\"/>\n",
       "    <path d=\"M18.56 5.44l.94 2.06.94-2.06 2.06-.94-2.06-.94-.94-2.06-.94 2.06-2.06.94zm-11 1L8.5 8.5l.94-2.06 2.06-.94-2.06-.94L8.5 2.5l-.94 2.06-2.06.94zm10 10l.94 2.06.94-2.06 2.06-.94-2.06-.94-.94-2.06-.94 2.06-2.06.94z\"/><path d=\"M17.41 7.96l-1.37-1.37c-.4-.4-.92-.59-1.43-.59-.52 0-1.04.2-1.43.59L10.3 9.45l-7.72 7.72c-.78.78-.78 2.05 0 2.83L4 21.41c.39.39.9.59 1.41.59.51 0 1.02-.2 1.41-.59l7.78-7.78 2.81-2.81c.8-.78.8-2.07 0-2.86zM5.41 20L4 18.59l7.72-7.72 1.47 1.35L5.41 20z\"/>\n",
       "  </svg>\n",
       "      </button>\n",
       "      \n",
       "  <style>\n",
       "    .colab-df-container {\n",
       "      display:flex;\n",
       "      flex-wrap:wrap;\n",
       "      gap: 12px;\n",
       "    }\n",
       "\n",
       "    .colab-df-convert {\n",
       "      background-color: #E8F0FE;\n",
       "      border: none;\n",
       "      border-radius: 50%;\n",
       "      cursor: pointer;\n",
       "      display: none;\n",
       "      fill: #1967D2;\n",
       "      height: 32px;\n",
       "      padding: 0 0 0 0;\n",
       "      width: 32px;\n",
       "    }\n",
       "\n",
       "    .colab-df-convert:hover {\n",
       "      background-color: #E2EBFA;\n",
       "      box-shadow: 0px 1px 2px rgba(60, 64, 67, 0.3), 0px 1px 3px 1px rgba(60, 64, 67, 0.15);\n",
       "      fill: #174EA6;\n",
       "    }\n",
       "\n",
       "    [theme=dark] .colab-df-convert {\n",
       "      background-color: #3B4455;\n",
       "      fill: #D2E3FC;\n",
       "    }\n",
       "\n",
       "    [theme=dark] .colab-df-convert:hover {\n",
       "      background-color: #434B5C;\n",
       "      box-shadow: 0px 1px 3px 1px rgba(0, 0, 0, 0.15);\n",
       "      filter: drop-shadow(0px 1px 2px rgba(0, 0, 0, 0.3));\n",
       "      fill: #FFFFFF;\n",
       "    }\n",
       "  </style>\n",
       "\n",
       "      <script>\n",
       "        const buttonEl =\n",
       "          document.querySelector('#df-a225f7f0-1174-4c89-af5d-bafd7907bc6d button.colab-df-convert');\n",
       "        buttonEl.style.display =\n",
       "          google.colab.kernel.accessAllowed ? 'block' : 'none';\n",
       "\n",
       "        async function convertToInteractive(key) {\n",
       "          const element = document.querySelector('#df-a225f7f0-1174-4c89-af5d-bafd7907bc6d');\n",
       "          const dataTable =\n",
       "            await google.colab.kernel.invokeFunction('convertToInteractive',\n",
       "                                                     [key], {});\n",
       "          if (!dataTable) return;\n",
       "\n",
       "          const docLinkHtml = 'Like what you see? Visit the ' +\n",
       "            '<a target=\"_blank\" href=https://colab.research.google.com/notebooks/data_table.ipynb>data table notebook</a>'\n",
       "            + ' to learn more about interactive tables.';\n",
       "          element.innerHTML = '';\n",
       "          dataTable['output_type'] = 'display_data';\n",
       "          await google.colab.output.renderOutput(dataTable, element);\n",
       "          const docLink = document.createElement('div');\n",
       "          docLink.innerHTML = docLinkHtml;\n",
       "          element.appendChild(docLink);\n",
       "        }\n",
       "      </script>\n",
       "    </div>\n",
       "  </div>\n",
       "  "
      ]
     },
     "metadata": {},
     "execution_count": 19
    }
   ]
  },
  {
   "cell_type": "markdown",
   "source": [
    "# 9. Check the predictions"
   ],
   "metadata": {
    "id": "zcfayMkPfBBN"
   }
  },
  {
   "cell_type": "markdown",
   "source": [
    "Make predictions using the model you just imported from Layer.\n"
   ],
   "metadata": {
    "id": "Lr676oMXsvZe"
   }
  },
  {
   "cell_type": "code",
   "source": [
    "survival_pred = model.predict(data)\n",
    "survival_prob = model.predict_proba(data)\n",
    "survival_prob,survival_pred"
   ],
   "metadata": {
    "colab": {
     "base_uri": "https://localhost:8080/"
    },
    "id": "hrkeX-g-a1fi",
    "outputId": "7d6b133b-7dc1-4bd2-f0e3-a1845b36c1b9"
   },
   "execution_count": 20,
   "outputs": [
    {
     "output_type": "execute_result",
     "data": {
      "text/plain": [
       "(array([[0.95, 0.05]]), array([0.]))"
      ]
     },
     "metadata": {},
     "execution_count": 20
    }
   ]
  },
  {
   "cell_type": "markdown",
   "source": [
    "# 10. Install Censius Client"
   ],
   "metadata": {
    "id": "blwh2y4mfFDB"
   }
  },
  {
   "cell_type": "code",
   "source": [
    "!pip install censius "
   ],
   "metadata": {
    "id": "y-fG22gHZoun",
    "colab": {
     "base_uri": "https://localhost:8080/"
    },
    "outputId": "a8e74869-6d36-4a32-97fc-adc8d78e3554",
    "pycharm": {
     "is_executing": true
    }
   },
   "execution_count": null,
   "outputs": []
  },
  {
   "cell_type": "markdown",
   "source": [
    "# 11. Create a project"
   ],
   "metadata": {
    "id": "pR0z-t8l_4AI"
   }
  },
  {
   "cell_type": "markdown",
   "source": [
    "\n",
    "\n",
    "In the Censius console, a **Project** is an organizing mechanism that bunches all datasets and models geared towards solving simliar data related problems. \n",
    "\n",
    "It has a unique name, with restricted access to the creator of the project, and whoever they provide accesss to.\n",
    "\n",
    "#### The Projects Page looks something like this \n",
    "![title](https://drive.google.com/uc?export=view&id=1JottyeNkQu6E5hgDawBtibZ09zQk-XLx)"
   ],
   "metadata": {
    "id": "TnCXjXFufL1s"
   }
  },
  {
   "cell_type": "code",
   "source": [
    "import numpy as np\n",
    "from censius import CensiusClient,DatasetType, ModelType\n",
    "client = CensiusClient(api_key = \"fzifrffbuagjwvlikiflajbygmzyadcd\", tenant_id = 'abc')\n",
    "\n",
    "\n",
    "\n",
    "from censius import CensiusClient,DatasetType, ModelType\n",
    "response = client.register_project(\n",
    "    name=\"CL_titanic\",\n",
    "    icon=\"random\",\n",
    "    type=\"Training\",\n",
    "    key=\"11##$DD12Za\"\n",
    ")\n",
    "response\n"
   ],
   "metadata": {
    "colab": {
     "base_uri": "https://localhost:8080/"
    },
    "id": "-I-SI1oqZow6",
    "outputId": "7dc32ad2-240c-49be-c629-f992ef34605a"
   },
   "execution_count": 22,
   "outputs": [
    {
     "output_type": "execute_result",
     "data": {
      "text/plain": [
       "{'createdAt': '2022-05-10 06:43:05.629564',\n",
       " 'icon': 'random',\n",
       " 'key': '11##$DD12Za',\n",
       " 'leadUserId': 23,\n",
       " 'name': 'CL_titanic',\n",
       " 'projectId': 106,\n",
       " 'type': 'Training'}"
      ]
     },
     "metadata": {},
     "execution_count": 22
    }
   ]
  },
  {
   "cell_type": "markdown",
   "source": [
    "#### On using the above code to create a new Project **CL_titanic**, the project will appear in the page above \n",
    "\n",
    "\n",
    "![title](https://drive.google.com/uc?export=view&id=1McNlfzb10s7p0r8gYVFhsD6ocF7f94KX)"
   ],
   "metadata": {
    "id": "Gqw9wsWL_jKE"
   }
  },
  {
   "cell_type": "markdown",
   "source": [
    "# 12. Register the dataset"
   ],
   "metadata": {
    "id": "sAVee78ZAIR0"
   }
  },
  {
   "cell_type": "markdown",
   "source": [
    "\n",
    "\n",
    "Once a project has been registered, datasets can be added to the Project using the ``register_dataset`` API \n",
    "with the project ID as one of the inputs. \n",
    "\n",
    "The DataFrame passed, is then parsed and readied for model and monitor creation with a handy UI as well. "
   ],
   "metadata": {
    "id": "s779rgJM_9qH"
   }
  },
  {
   "cell_type": "code",
   "source": [
    "#Register the dataset\n",
    "response = client.register_dataset(\n",
    "        name = 'titanic_dataset',\n",
    "        file = df.dropna(),\n",
    "        project_id = 103,\n",
    "        features = [\n",
    "            {\"name\": \"Survived\", \"type\": DatasetType.DECIMAL},\n",
    "            {\"name\": \"Pclass\", \"type\": DatasetType.INT},\n",
    "            {\"name\": \"Sex\", \"type\": DatasetType.INT},\n",
    "            {\"name\": \"Age\", \"type\": DatasetType.DECIMAL},\n",
    "            {\"name\": \"SibSp\", \"type\": DatasetType.INT},\n",
    "            {\"name\": \"Parch\", \"type\": DatasetType.INT},\n",
    "            {\"name\": \"Fare\", \"type\": DatasetType.DECIMAL},\n",
    "        ],\n",
    "        type=DatasetType.TRAINING_TYPE,\n",
    "        version=\"1\"\n",
    "    )\n",
    "response"
   ],
   "metadata": {
    "id": "aeP_NZzN4kXK",
    "colab": {
     "base_uri": "https://localhost:8080/"
    },
    "outputId": "538bc1e9-d811-46c1-974f-70ddfad4fcd1"
   },
   "execution_count": 23,
   "outputs": [
    {
     "output_type": "execute_result",
     "data": {
      "text/plain": [
       "{'datasetDetails': {'createdAt': '2022-05-10 06:43:10.466501',\n",
       "  'createdBy': 23,\n",
       "  'datasetId': 124,\n",
       "  'features': [{'name': 'Survived', 'type': 'decimal'},\n",
       "   {'name': 'Pclass', 'type': 'integer'},\n",
       "   {'name': 'Sex', 'type': 'integer'},\n",
       "   {'name': 'Age', 'type': 'decimal'},\n",
       "   {'name': 'SibSp', 'type': 'integer'},\n",
       "   {'name': 'Parch', 'type': 'integer'},\n",
       "   {'name': 'Fare', 'type': 'decimal'}],\n",
       "  'name': 'titanic_dataset',\n",
       "  'projectId': 103,\n",
       "  'size': 24037,\n",
       "  'type': 'Training',\n",
       "  'version': '1'},\n",
       " 'fileName': 'titanic_dataset.csv',\n",
       " 'message': 'Successfully uploaded the file to our server ',\n",
       " 'processingResponse': 'Successfully sent the dataset for processing',\n",
       " 'statusCode': 200}"
      ]
     },
     "metadata": {},
     "execution_count": 23
    }
   ]
  },
  {
   "cell_type": "markdown",
   "source": [
    "#### A) The Datasets tab inside the Project after the API is called. \n",
    "![title](https://drive.google.com/uc?export=view&id=1ssFK8Porp98Jw1Jper1xdzLodP5jowEO)\n",
    "\n",
    "\n",
    "\n",
    "#### B) A sample of the dataset is available on-click. \n",
    "![title](https://drive.google.com/uc?export=view&id=112la0KQkWZzdJB5wbohAQf6m66B5qtKS)"
   ],
   "metadata": {
    "id": "NgMLg7MyALM0"
   }
  },
  {
   "cell_type": "markdown",
   "source": [
    "# 13. Register the model "
   ],
   "metadata": {
    "id": "MCrXTL5MfPEQ"
   }
  },
  {
   "cell_type": "markdown",
   "source": [
    "Once the datasets are created, we can use the ``register_model`` API to create a model that is linked to the specific dataset created above. \n",
    "\n",
    "These models get listed in the **Models** tab to the left the datasets tab"
   ],
   "metadata": {
    "id": "YSP2ZeEYA8mz"
   }
  },
  {
   "cell_type": "code",
   "source": [
    "response = client.register_model(\n",
    "    model_id = \"titanic_model_int\",\n",
    "    model_name = \"titanic_dataset_sdk_actual_v1\",\n",
    "    model_version = \"1\",\n",
    "    dataset_id = 123,\n",
    "    project_id = 103,\n",
    "    type = ModelType.BINARY_CLASSIFICATION,\n",
    "    targets = [\"Survived\"],\n",
    "    features = [\"Pclass\", \"Sex\", \"Age\",\"SibSp\",\"Parch\",\"Fare\"],\n",
    ")\n",
    "print(response)\n"
   ],
   "metadata": {
    "colab": {
     "base_uri": "https://localhost:8080/"
    },
    "id": "N-oqu3LVZozg",
    "outputId": "687a7cb3-4aae-4713-8e4a-df6827ab84ee"
   },
   "execution_count": 24,
   "outputs": [
    {
     "output_type": "stream",
     "name": "stdout",
     "text": [
      "{'ID': 95, 'name': 'titanic_dataset_sdk_actual_v1', 'version': '1', 'createdAt': '2022-05-10 06:43:16.102165', 'type': 'Binary Classification', 'userId': 23, 'target': ['Survived'], 'features': ['Pclass', 'Sex', 'Age', 'SibSp', 'Parch', 'Fare'], 'projectId': 103, 'userDefinedModelID': 'titanic_model_int', 'modelUpdateFrequency': '', 'datasetId': 123, 'parentModel': 0, 'window_start_date': 0, 'mappedTableId': 35, 'WindowSize': {'number': 0, 'unit': ''}}\n"
     ]
    }
   ]
  },
  {
   "cell_type": "markdown",
   "source": [
    "#### The Model page has a list of models related to a project/dataset as shown below \n",
    "\n",
    "\n",
    "![title](https://drive.google.com/uc?export=view&id=1ORf_42n-KrLfmct19UjXiT7dv8BGhs0B)\n",
    "\n",
    "\n",
    "\n",
    "\n",
    "#### The Model also comes autoinitialized with performance monitors related to the kind of model that is being registered(classification, regression et al) \n",
    "\n",
    "\n",
    "![title](https://drive.google.com/uc?export=view&id=1uISrcXl_1jKfC1d7Qzx5DBIni2F6TKaH)"
   ],
   "metadata": {
    "id": "CKZNL-EqBARs"
   }
  },
  {
   "cell_type": "markdown",
   "source": [
    "# 14. Send Production logs to the processed model"
   ],
   "metadata": {
    "id": "5jXGt8_VfpOG"
   }
  },
  {
   "cell_type": "markdown",
   "source": [
    "Once the model has been registered, and the auto initialized performance monitors are in place, production logs can be flown into the internal databases securely via the ``log`` API, which takes in the log,model ID and a prediction ID (discussed below)"
   ],
   "metadata": {
    "id": "qCyNv-iYBocB"
   }
  },
  {
   "cell_type": "code",
   "source": [
    "import time\n",
    "import random \n",
    "\n",
    "def production_data(df):\n",
    "    idx = random.randint(0,len(df-1))\n",
    "    data_point = df.iloc[idx]\n",
    "    return data_point\n",
    "\n",
    "def predict_and_log_fn(model,model_id,model_version,features,client,timestamp):\n",
    "    features_dict = features \n",
    "    features = features.to_numpy().reshape(1, -1)\n",
    "    survival_pred= model.predict(features)\n",
    "    survival_prob= model.predict_proba(features)\n",
    "    features_dict = features_dict.to_dict()\n",
    "    response = client.log(\n",
    "      model_id=model_id,\n",
    "      model_version=model_version,\n",
    "      timestamp = timestamp,\n",
    "      prediction_id = f\"log-{timestamp}\",\n",
    "      features=features_dict,\n",
    "      prediction = {\n",
    "      \"Survived\": {\"label\": survival_pred.item(), \"confidence\": np.max(survival_prob)}\n",
    "    })\n",
    "    \n",
    "    return survival_pred.item(),np.max(survival_prob),response \n",
    "\n",
    "\n",
    "model_id = \"titanic_model_int\"\n",
    "model_version = \"1\"\n",
    "\n",
    "\n",
    "x = 5 #no of times you want to simulate your predict function being called\n",
    "data = df.dropna().drop(columns=['Survived'])\n",
    "for i in range(x):  \n",
    "    features = production_data(data)\n",
    "    timestamp = round(time.time() * 1000)\n",
    "    pred,prob,response = predict_and_log_fn(model,model_id,model_version,features,client,timestamp)\n",
    "    time.sleep(5)"
   ],
   "metadata": {
    "id": "2UtLxRAoDf3Q"
   },
   "execution_count": 25,
   "outputs": []
  },
  {
   "cell_type": "markdown",
   "source": [
    "# 15. Update actuals for the log"
   ],
   "metadata": {
    "id": "nJ5xCyMqgmoD"
   }
  },
  {
   "cell_type": "markdown",
   "source": [
    "Since logs rarely have the actual labels for the production data that is being inserted, we also provide a ``update_actual`` API that uses the unique prediction ID from above to update the actuals column of the log "
   ],
   "metadata": {
    "id": "ix436K9iBs2U"
   }
  },
  {
   "cell_type": "code",
   "source": [
    "response = client.update_actual(\n",
    "    prediction_id = 'loggincheck-1',\n",
    "    actual = {\n",
    "        'survived': 1,\n",
    "    },\n",
    "    model_id='titanic_model',\n",
    "    model_version= '1'\n",
    ")\n"
   ],
   "metadata": {
    "id": "-onQHLmMf1-X"
   },
   "execution_count": 26,
   "outputs": []
  },
  {
   "cell_type": "markdown",
   "source": [
    "# 16. Console view\n",
    "\n",
    "After serving the model and sending the prediction logs to Censius, the monitors would automatically appear on the Censius console.\n",
    "\n",
    "All you need to do is:\n",
    "\n",
    "1. Log in\n",
    "2. Click on your specific project\n",
    "3. Select the model and the model version you are monitoring"
   ],
   "metadata": {
    "id": "p5w-Nl_mQ44s"
   }
  },
  {
   "cell_type": "markdown",
   "source": [
    "## Monitors tab\n",
    "\n",
    "This tab summarizes all your monitors under one screen. View, analyze, and deep-dive into **unlimited monitors**, their related **violations** along with interactive visuals for each. \n",
    "\n",
    "There are 3 types of monitors you can manage through this tab:\n",
    "\n",
    "*   **Performance monitors**: Tracks performance dips through a wide range of performance metrics \n",
    "*   **Drift monitors**: Tracks data drifts and concept drifts\n",
    "*   **Data quality monitors**: Tracks data quality issues such as missing value, inconsistent data type, data ranges, and more.\n",
    "\n",
    "You can quickly browse a specific historical time period to track and compare events without going back to code and writing queries every time.\n",
    "\n",
    "Other details you can navigate here include:\n",
    "\n",
    "*   Monitor ID\n",
    "*   Trigger condition\n",
    "*   Monitor type\n",
    "*   Date of last violation\n",
    "*   Violation severity\n",
    "\n",
    "\n",
    "![title](https://drive.google.com/uc?export=view&id=1dehzJ4XbjfgD0EI8LScVpL7zUhc4E83x)"
   ],
   "metadata": {
    "id": "sqJwYnaHRgOB"
   }
  },
  {
   "cell_type": "markdown",
   "source": [
    "## Performance tab\n",
    "\n",
    "This tab has two tools:\n",
    "\n",
    "1. Traffic comparison tool to see the gaps between predictions and actuals\n",
    "2. Performance comparison line tool to pin-point the relationships between two or more metrics\n",
    "\n"
   ],
   "metadata": {
    "id": "b1rQnZkiSAq5"
   }
  },
  {
   "cell_type": "markdown",
   "source": [
    "### Traffic Comparison\n",
    "\n",
    "![title](https://drive.google.com/uc?export=view&id=1cO2p9Asn5Qzx7xoAoLn2EzoH6dDR3gPd)"
   ],
   "metadata": {
    "id": "FMloCpsMSkEv"
   }
  },
  {
   "cell_type": "markdown",
   "source": [
    "### Performance comparison\n",
    "\n",
    "![title](https://drive.google.com/uc?export=view&id=1wHeSVuxTMIfGt5eXHll3CbaMquHxUCxu)"
   ],
   "metadata": {
    "id": "e0W-ySNDTEw6"
   }
  },
  {
   "cell_type": "markdown",
   "source": [
    "## Dashboards\n",
    "\n",
    "Dashboards allows you to investigate the violations further and analyze the root cause through various visualization and analysis tools including tables, line graphs, histograms, numeric functions such as count, and much more\n",
    "\n",
    "![title](https://drive.google.com/uc?export=view&id=1N7mnyzGTfBi3KnzQngSvLMuiYWp0SHWg)"
   ],
   "metadata": {
    "id": "Jl7cxvdqTRep"
   }
  },
  {
   "cell_type": "markdown",
   "source": [
    "## Start **collaborating** with [Layer](https://layer.ai) and **monitoring** with [Censius](https://censius.ai/get-started) within 5 minutes!\n",
    "## Where to go from here?\n",
    "\n",
    "Now that you have created first Layer Project, you can:\n",
    "\n",
    "- Join our [Slack Community ](https://bit.ly/layercommunityslack)\n",
    "- Visit [Layer Examples Repo](https://github.com/layerai/examples) for more examples\n",
    "- Browse [Trending Layer Projects](https://layer.ai) on our mainpage\n",
    "- Check out [Layer Documentation](https://docs.layer.ai) to learn more"
   ],
   "metadata": {
    "id": "ymMYXxK2T3Hs"
   }
  }
 ]
}