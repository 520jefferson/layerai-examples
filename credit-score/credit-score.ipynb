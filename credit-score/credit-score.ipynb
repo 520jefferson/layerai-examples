{
  "cells": [
    {
      "cell_type": "markdown",
      "source": [
        "## Credit score modeling with Layer\n",
        "[![Open in Layer](https://development.layer.co/assets/badge.svg)](https://development.layer.co/layer/credit-score) [![Open in Colab](https://colab.research.google.com/assets/colab-badge.svg)](https://colab.research.google.com/github/layerai/examples/blob/main/credit-score/credit-score.ipynb) [![Layer Examples Github](https://badgen.net/badge/icon/github?icon=github&label)](https://github.com/layerai/examples/tree/main/credit-score)\n",
        "\n",
        "In this project we use Layer to build a credit scoring model. The project uses the [Home Credit Default Risk dataset](https://www.kaggle.com/c/home-credit-default-risk/overview) that is hosted on Kaggle."
      ],
      "metadata": {
        "id": "YTpDGVW-92Jh"
      }
    },
    {
      "cell_type": "markdown",
      "source": [
        "## What are we going to learn?\n",
        "- Create features in Python\n",
        "- Fetching features and datasets and using them to train a model in Layer. \n",
        "- Using multiple datasets and featuresets in a Layer project\n",
        "- Experimentation tracking with\n",
        "     - logging model parameters\n",
        "     - logging model evaluation metrics"
      ],
      "metadata": {
        "id": "X6bxcnNp-Zh-"
      }
    },
    {
      "cell_type": "markdown",
      "source": [
        "### Install Layer"
      ],
      "metadata": {
        "id": "WEauGNz0-6ry"
      }
    },
    {
      "cell_type": "code",
      "execution_count": 1,
      "metadata": {
        "colab": {
          "base_uri": "https://localhost:8080/"
        },
        "id": "3VjulgHKUDIN",
        "outputId": "f817d682-1c35-403d-fae0-3cb48716e6a0"
      },
      "outputs": [
        {
          "output_type": "stream",
          "name": "stdout",
          "text": [
            "\u001b[K     |████████████████████████████████| 29.5 MB 1.4 MB/s \n",
            "\u001b[K     |████████████████████████████████| 596 kB 33.9 MB/s \n",
            "\u001b[K     |████████████████████████████████| 4.0 MB 45.3 MB/s \n",
            "\u001b[K     |████████████████████████████████| 271 kB 43.6 MB/s \n",
            "\u001b[K     |████████████████████████████████| 212.4 MB 49 kB/s \n",
            "\u001b[K     |████████████████████████████████| 256 kB 42.1 MB/s \n",
            "\u001b[K     |████████████████████████████████| 26.7 MB 1.3 MB/s \n",
            "\u001b[K     |████████████████████████████████| 381 kB 69.3 MB/s \n",
            "\u001b[K     |████████████████████████████████| 1.3 MB 55.6 MB/s \n",
            "\u001b[K     |████████████████████████████████| 212 kB 71.5 MB/s \n",
            "\u001b[K     |████████████████████████████████| 16.5 MB 49.2 MB/s \n",
            "\u001b[K     |████████████████████████████████| 3.6 MB 34.7 MB/s \n",
            "\u001b[K     |████████████████████████████████| 96 kB 4.6 MB/s \n",
            "\u001b[K     |████████████████████████████████| 159 kB 56.5 MB/s \n",
            "\u001b[K     |████████████████████████████████| 97 kB 6.4 MB/s \n",
            "\u001b[K     |████████████████████████████████| 132 kB 59.5 MB/s \n",
            "\u001b[K     |████████████████████████████████| 40 kB 3.8 MB/s \n",
            "\u001b[K     |████████████████████████████████| 56 kB 3.9 MB/s \n",
            "\u001b[K     |████████████████████████████████| 2.4 MB 59.0 MB/s \n",
            "\u001b[K     |████████████████████████████████| 63 kB 1.6 MB/s \n",
            "\u001b[K     |████████████████████████████████| 198 kB 53.3 MB/s \n",
            "\u001b[K     |████████████████████████████████| 1.1 MB 57.8 MB/s \n",
            "\u001b[K     |████████████████████████████████| 144 kB 54.6 MB/s \n",
            "\u001b[K     |████████████████████████████████| 94 kB 3.0 MB/s \n",
            "\u001b[K     |████████████████████████████████| 1.3 MB 60.3 MB/s \n",
            "\u001b[K     |████████████████████████████████| 1.3 MB 58.8 MB/s \n",
            "\u001b[K     |████████████████████████████████| 1.1 MB 69.3 MB/s \n",
            "\u001b[K     |████████████████████████████████| 263 kB 62.4 MB/s \n",
            "\u001b[K     |████████████████████████████████| 929 kB 57.8 MB/s \n",
            "\u001b[K     |████████████████████████████████| 79 kB 5.9 MB/s \n",
            "\u001b[K     |████████████████████████████████| 8.7 MB 43.0 MB/s \n",
            "\u001b[K     |████████████████████████████████| 138 kB 53.9 MB/s \n",
            "\u001b[K     |████████████████████████████████| 146 kB 61.0 MB/s \n",
            "\u001b[K     |████████████████████████████████| 210 kB 54.6 MB/s \n",
            "\u001b[K     |████████████████████████████████| 62 kB 595 kB/s \n",
            "\u001b[K     |████████████████████████████████| 79 kB 6.9 MB/s \n",
            "\u001b[K     |████████████████████████████████| 54 kB 2.4 MB/s \n",
            "\u001b[K     |████████████████████████████████| 127 kB 65.0 MB/s \n",
            "\u001b[K     |████████████████████████████████| 51 kB 5.8 MB/s \n",
            "\u001b[K     |████████████████████████████████| 291 kB 73.5 MB/s \n",
            "\u001b[K     |████████████████████████████████| 78 kB 6.5 MB/s \n",
            "\u001b[K     |████████████████████████████████| 95 kB 3.8 MB/s \n",
            "\u001b[K     |████████████████████████████████| 224 kB 69.3 MB/s \n",
            "\u001b[K     |████████████████████████████████| 132 kB 50.3 MB/s \n",
            "\u001b[K     |████████████████████████████████| 895 kB 59.7 MB/s \n",
            "\u001b[K     |████████████████████████████████| 6.5 MB 41.6 MB/s \n",
            "\u001b[K     |████████████████████████████████| 77 kB 5.1 MB/s \n",
            "\u001b[?25h  Building wheel for pyspark (setup.py) ... \u001b[?25l\u001b[?25hdone\n",
            "  Building wheel for validate-email (setup.py) ... \u001b[?25l\u001b[?25hdone\n",
            "  Building wheel for databricks-cli (setup.py) ... \u001b[?25l\u001b[?25hdone\n",
            "  Building wheel for polling (setup.py) ... \u001b[?25l\u001b[?25hdone\n",
            "\u001b[31mERROR: pip's dependency resolver does not currently take into account all the packages that are installed. This behaviour is the source of the following dependency conflicts.\n",
            "nbclient 0.5.13 requires jupyter-client>=6.1.5, but you have jupyter-client 5.3.5 which is incompatible.\n",
            "jupyter-console 5.2.0 requires prompt-toolkit<2.0.0,>=1.0.0, but you have prompt-toolkit 3.0.29 which is incompatible.\n",
            "ipython 5.5.0 requires prompt-toolkit<2.0.0,>=1.0.4, but you have prompt-toolkit 3.0.29 which is incompatible.\n",
            "gym 0.17.3 requires cloudpickle<1.7.0,>=1.2.0, but you have cloudpickle 2.0.0 which is incompatible.\n",
            "datascience 0.10.6 requires folium==0.2.1, but you have folium 0.8.3 which is incompatible.\u001b[0m\n"
          ]
        }
      ],
      "source": [
        "pip install layer-sdk -qqq"
      ]
    },
    {
      "cell_type": "markdown",
      "source": [
        "### Authenticate your layer account"
      ],
      "metadata": {
        "id": "VEgXwNoD--Fv"
      }
    },
    {
      "cell_type": "code",
      "execution_count": 2,
      "metadata": {
        "id": "hqiz4EpdUGsl"
      },
      "outputs": [],
      "source": [
        "import layer\n",
        "from layer.decorators import model, resources, pip_requirements, fabric, dataset"
      ]
    },
    {
      "cell_type": "code",
      "execution_count": 3,
      "metadata": {
        "colab": {
          "base_uri": "https://localhost:8080/"
        },
        "id": "3BIKVcI8URpL",
        "outputId": "c7f059a7-5b54-4e57-e8a8-78ce3ffcd27a"
      },
      "outputs": [
        {
          "output_type": "stream",
          "name": "stdout",
          "text": [
            "Layer, version 0.9.344788\n"
          ]
        }
      ],
      "source": [
        "!layer --version"
      ]
    },
    {
      "cell_type": "code",
      "execution_count": 4,
      "metadata": {
        "colab": {
          "base_uri": "https://localhost:8080/"
        },
        "id": "aUYDF8aGUU8q",
        "outputId": "9f96027a-a2b4-47cb-ac40-c55b6bce96bb"
      },
      "outputs": [
        {
          "output_type": "stream",
          "name": "stdout",
          "text": [
            "Please open the following link in your web browser. Once logged in, copy the code and paste it here.\n",
            "https://auth.development.layer.co/authorize?response_type=code&code_challenge=PxNnq8AQBvLSpK5NDGF8c_Qf1bYUNIR522ePZXvahb8&code_challenge_method=S256&client_id=nv7k9jFnEHhMVQT6gWRoHMYkEtGUedtz&redirect_uri=https://development.layer.co/oauth/code&scope=offline_access&audience=https://development.layer.co\n",
            "Code: BeDuRfMqdPYo_n24SVOyreLeQ6b5Dkpy70VIU4UcBB0im\n",
            "Successfully logged into https://development.layer.co/\n"
          ]
        }
      ],
      "source": [
        "# layer.logout()\n",
        "# layer.login(\"https://app.layer.ai/\")\n",
        "layer.login(\"https://development.layer.co/\")"
      ]
    },
    {
      "cell_type": "markdown",
      "source": [
        "### Initialize a Layer project"
      ],
      "metadata": {
        "id": "5CjzEv8W_BX7"
      }
    },
    {
      "cell_type": "code",
      "execution_count": 5,
      "metadata": {
        "colab": {
          "base_uri": "https://localhost:8080/"
        },
        "id": "GHd-ypcMWGSi",
        "outputId": "4cbe7080-c40f-4a2d-e229-27ecadc49bc7"
      },
      "outputs": [
        {
          "output_type": "execute_result",
          "data": {
            "text/plain": [
              "Project(name='credit-score', raw_datasets=[], derived_datasets=[], featuresets=[], models=[], path=PosixPath('.'), project_files_hash='', readme='', organization=Organization(id=UUID('d7325da3-0646-4fa6-855d-8d19eece8b79'), name='layer'), _id=UUID('da40128d-bc11-473d-af2c-bc38c8fd2dc7'), functions=[])"
            ]
          },
          "metadata": {},
          "execution_count": 5
        }
      ],
      "source": [
        "# init Layer\n",
        "layer.init(\"credit-score\")"
      ]
    },
    {
      "cell_type": "code",
      "execution_count": 6,
      "metadata": {
        "id": "mSq35B1JUgko"
      },
      "outputs": [],
      "source": [
        "from sklearn.preprocessing import OneHotEncoder\n",
        "from sklearn.compose import ColumnTransformer\n",
        "from sklearn.model_selection import train_test_split\n",
        "from sklearn.metrics import average_precision_score, roc_auc_score, precision_score, recall_score, f1_score\n",
        "from sklearn.ensemble import HistGradientBoostingClassifier\n",
        "import pandas as pd"
      ]
    },
    {
      "cell_type": "markdown",
      "source": [
        "### Dataset definition\n",
        "The first step is to define all the datasets that we will use in this project. We will use the following datasets:\n",
        "\n",
        "- The application data\n",
        "- The installment payments data\n",
        "- The previous application data\n",
        "\n",
        "In Layer, we define datasets using the `dataset` decorator. "
      ],
      "metadata": {
        "id": "FOpRY4gM_FiC"
      }
    },
    {
      "cell_type": "code",
      "execution_count": 7,
      "metadata": {
        "id": "GeHmAENnVqPe"
      },
      "outputs": [],
      "source": [
        "@dataset(\"application_dataset\")\n",
        "def read_application_data():\n",
        "    df = pd.read_csv(\"https://raw.githubusercontent.com/layerml/layerv2_credit_score/main/application_train.csv\")\n",
        "    return df"
      ]
    },
    {
      "cell_type": "markdown",
      "source": [
        "Calling the run command will save this data on Layer so that you can use it easily in subsequent calls."
      ],
      "metadata": {
        "id": "E809LBQh_ceR"
      }
    },
    {
      "cell_type": "code",
      "execution_count": 8,
      "metadata": {
        "colab": {
          "base_uri": "https://localhost:8080/",
          "height": 70,
          "referenced_widgets": [
            "81b977facdd6433daa0b2dbdb46819aa",
            "2c9f97c40e054a33823c3237abd4507d"
          ]
        },
        "id": "cAsk0qmhW8a0",
        "outputId": "c4377a3a-54c6-4dc4-e414-96ec4d195a39"
      },
      "outputs": [
        {
          "output_type": "display_data",
          "data": {
            "text/plain": [
              "Output()"
            ],
            "application/vnd.jupyter.widget-view+json": {
              "version_major": 2,
              "version_minor": 0,
              "model_id": "81b977facdd6433daa0b2dbdb46819aa"
            }
          },
          "metadata": {}
        },
        {
          "output_type": "execute_result",
          "data": {
            "text/plain": [
              "Run(project_name='credit-score')"
            ]
          },
          "metadata": {},
          "execution_count": 8
        }
      ],
      "source": [
        "layer.run([read_application_data])"
      ]
    },
    {
      "cell_type": "code",
      "execution_count": 9,
      "metadata": {
        "id": "nruiPBmdVt_W"
      },
      "outputs": [],
      "source": [
        "@dataset(\"installments_payments\")\n",
        "def read_installments_data():\n",
        "    df = pd.read_csv(\"https://raw.githubusercontent.com/layerml/layerv2_credit_score/main/installments_payments.csv\")\n",
        "    return df"
      ]
    },
    {
      "cell_type": "code",
      "execution_count": 10,
      "metadata": {
        "id": "-XIKqJpUW9AW",
        "colab": {
          "base_uri": "https://localhost:8080/",
          "height": 70,
          "referenced_widgets": [
            "c37f60075d19476d861b62ea1541b5a0",
            "429cbbfc5a7c4fd58fe5fb9dd1a34e6a"
          ]
        },
        "outputId": "7a59a7a5-a79f-4174-a910-9e104eaf8e28"
      },
      "outputs": [
        {
          "output_type": "display_data",
          "data": {
            "text/plain": [
              "Output()"
            ],
            "application/vnd.jupyter.widget-view+json": {
              "version_major": 2,
              "version_minor": 0,
              "model_id": "c37f60075d19476d861b62ea1541b5a0"
            }
          },
          "metadata": {}
        },
        {
          "output_type": "execute_result",
          "data": {
            "text/plain": [
              "Run(project_name='credit-score')"
            ]
          },
          "metadata": {},
          "execution_count": 10
        }
      ],
      "source": [
        "layer.run([read_installments_data])"
      ]
    },
    {
      "cell_type": "code",
      "execution_count": 11,
      "metadata": {
        "id": "wgXagWCiVvwE"
      },
      "outputs": [],
      "source": [
        "@dataset(\"previous_application\")\n",
        "def read_previous_application_data():\n",
        "    df = pd.read_csv(\"https://raw.githubusercontent.com/layerml/layerv2_credit_score/main/previous_application.csv\")\n",
        "    return df"
      ]
    },
    {
      "cell_type": "code",
      "execution_count": 12,
      "metadata": {
        "id": "D6zLpH60W7vW",
        "colab": {
          "base_uri": "https://localhost:8080/",
          "height": 70,
          "referenced_widgets": [
            "26c5d024d2b4427c973b43c5939542d0",
            "fde2598973e64fe4b3f9c929f2bdf911"
          ]
        },
        "outputId": "61bff764-f5a5-4230-b455-63fd1becab13"
      },
      "outputs": [
        {
          "output_type": "display_data",
          "data": {
            "text/plain": [
              "Output()"
            ],
            "application/vnd.jupyter.widget-view+json": {
              "version_major": 2,
              "version_minor": 0,
              "model_id": "26c5d024d2b4427c973b43c5939542d0"
            }
          },
          "metadata": {}
        },
        {
          "output_type": "execute_result",
          "data": {
            "text/plain": [
              "Run(project_name='credit-score')"
            ]
          },
          "metadata": {},
          "execution_count": 12
        }
      ],
      "source": [
        "layer.run([read_previous_application_data])"
      ]
    },
    {
      "cell_type": "markdown",
      "source": [
        "### Create features\n",
        "Next, extract features from the above datasets."
      ],
      "metadata": {
        "id": "388B_59K_siJ"
      }
    },
    {
      "cell_type": "code",
      "execution_count": 13,
      "metadata": {
        "id": "2-imIajZVxkw"
      },
      "outputs": [],
      "source": [
        "@dataset(\"application_features\")\n",
        "def extract_application_features():\n",
        "    df = layer.get_dataset('layer/credit-score/datasets/application_dataset').to_pandas()\n",
        "\n",
        "    # credit amount ratio relative to the income of a client\n",
        "    df['CREDIT_INCOME_RATIO'] = df['AMT_CREDIT'] / df['AMT_INCOME_TOTAL']\n",
        "\n",
        "    # loan annuity percentage relative to the income of a client\n",
        "    df['ANNUITY_INCOME_RATIO'] = df['AMT_ANNUITY'] / df['AMT_INCOME_TOTAL']\n",
        "    # the length of the payment in months \n",
        "    df['CREDIT_TERM'] = df['AMT_ANNUITY'] / df['AMT_CREDIT']\n",
        "    # days employed relative to the age of the client\n",
        "    df['DAYS_EMPLOYED_RATIO'] = df['DAYS_EMPLOYED'] / df['DAYS_BIRTH']\n",
        "    return df"
      ]
    },
    {
      "cell_type": "markdown",
      "source": [
        "Calling the `run` command saves the new features so that you don't have to run the feature extraction functions again. "
      ],
      "metadata": {
        "id": "231sx13E_zvn"
      }
    },
    {
      "cell_type": "code",
      "execution_count": 14,
      "metadata": {
        "id": "W6zp31jkXHSs",
        "colab": {
          "base_uri": "https://localhost:8080/",
          "height": 70,
          "referenced_widgets": [
            "2bc9e4c2aa7a4768915bd0133f7beab9",
            "b0f5cf7a12e44cadaa7ed75b5e54e45d"
          ]
        },
        "outputId": "f57cd5db-eb9a-4941-d518-bedf1e5981ea"
      },
      "outputs": [
        {
          "output_type": "display_data",
          "data": {
            "text/plain": [
              "Output()"
            ],
            "application/vnd.jupyter.widget-view+json": {
              "version_major": 2,
              "version_minor": 0,
              "model_id": "2bc9e4c2aa7a4768915bd0133f7beab9"
            }
          },
          "metadata": {}
        },
        {
          "output_type": "execute_result",
          "data": {
            "text/plain": [
              "Run(project_name='credit-score')"
            ]
          },
          "metadata": {},
          "execution_count": 14
        }
      ],
      "source": [
        "layer.run([extract_application_features])"
      ]
    },
    {
      "cell_type": "markdown",
      "source": [
        "## Model definition\n",
        "In Layer, models are defined using the `model` decorator. In this case we decorate a function called `train`, however you can give this fucntion your prefered name e.g `train_model`. "
      ],
      "metadata": {
        "id": "LPfUoWuH_-eE"
      }
    },
    {
      "cell_type": "code",
      "execution_count": 26,
      "metadata": {
        "id": "0vyZBirvVzj2"
      },
      "outputs": [],
      "source": [
        "@fabric(\"f-medium\")\n",
        "@model(name=\"credit_score_model\")\n",
        "def train():\n",
        "    import matplotlib.pyplot as plt\n",
        "    from sklearn.metrics import roc_curve,precision_recall_curve\n",
        "    application_features =  layer.get_dataset('layer/credit-score/datasets/application_features').to_pandas()\n",
        "    previous_application_features = layer.get_dataset('layer/credit-score/datasets/previous_application').to_pandas()\n",
        "    installments_payments = layer.get_dataset('layer/credit-score/datasets/installments_payments').to_pandas()\n",
        "    dff = installments_payments.merge(previous_application_features, on=['SK_ID_PREV', 'SK_ID_CURR']).merge(application_features,on=['SK_ID_CURR'])\n",
        "    X = dff.drop([\"TARGET\", \"SK_ID_CURR\",'index'], axis=1)\n",
        "    y = dff[\"TARGET\"]\n",
        "    random_state = 13\n",
        "    test_size = 0.3\n",
        "    categories = dff.select_dtypes(include=['object']).columns.tolist() \n",
        "    transformer = ColumnTransformer(transformers=[('cat', OneHotEncoder(handle_unknown='ignore', drop=\"first\"), categories)],remainder='passthrough')\n",
        "    X = transformer.fit_transform(X)\n",
        "    X_train, X_test, y_train, y_test = train_test_split(X, y, test_size=test_size,\n",
        "                                                        random_state=random_state)\n",
        "  \n",
        "\n",
        "     # Model Parameters\n",
        "    learning_rate = 0.01\n",
        "    max_depth = 6\n",
        "    min_samples_leaf = 10\n",
        "    random_state = 42\n",
        "    early_stopping = True\n",
        "    # Log model parameters\n",
        "    layer.log(\n",
        "      {\n",
        "      \"min_samples_leaf\":min_samples_leaf,\n",
        "      \"learning_rate\":learning_rate,\n",
        "      \"random_state\":random_state,\n",
        "      \"early_stopping\":early_stopping,\n",
        "      \"max_depth\":max_depth\n",
        "      })\n",
        "    # Model: Define a HistGradient Boosting Classifier\n",
        "    model = HistGradientBoostingClassifier(learning_rate=learning_rate,max_depth=max_depth,min_samples_leaf=min_samples_leaf,early_stopping=early_stopping,random_state=random_state)\n",
        "\n",
        "     # Pipeline fit\n",
        "    model.fit(X_train, y_train)\n",
        "    # Predict probabilities of target\n",
        "    probs = model.predict_proba(X_test)[:,1]\n",
        "    # Calculate average precision and area under the receiver operating characteric curve (ROC AUC)\n",
        "    avg_precision = average_precision_score(y_test, probs, pos_label=1)\n",
        "    auc = roc_auc_score(y_test, probs)\n",
        "    layer.log({\"AUC\":f'{auc:.4f}'})\n",
        "    layer.log({\"avg_precision\":f'{avg_precision:.4f}'})\n",
        "    plt.figure(figsize=(30,12))\n",
        "    plt.subplot(1,2,1)\n",
        "    plt.title(\"ROC Curve\")\n",
        "    # plot no skill roc curve\n",
        "    plt.plot([0, 1], [0, 1], linestyle='--', label='No Skill')\n",
        "    # calculate roc curve for model\n",
        "    fpr, tpr, _ = roc_curve(y_test, probs)\n",
        "    # plot model roc curve\n",
        "    plt.plot(fpr, tpr, marker='.', label='HistGradientBoosting')\n",
        "    # axis labels\n",
        "    plt.xlabel('False Positive Rate')\n",
        "    plt.ylabel('True Positive Rate')\n",
        "    # show the legend\n",
        "    plt.legend()\n",
        "    # calculate the precision-recall auc\n",
        "    precision, recall, _ = precision_recall_curve(y_test, probs)\n",
        "    # calculate the no skill line as the proportion of the positive class\n",
        "    no_skill = len(y[y==1]) / len(y)\n",
        "    plt.subplot(1,2,2)\n",
        "    plt.title(\"Precision Recall curve\")\n",
        "    # plot the no skill precision-recall curve\n",
        "    plt.plot([0, 1], [no_skill, no_skill], linestyle='--', label='No Skill')\n",
        "    # plot the model precision-recall curve\n",
        "    plt.plot(recall, precision, marker='.', label='HistGradientBoosting')\n",
        "    # axis labels\n",
        "    plt.xlabel('Recall')\n",
        "    plt.ylabel('Precision')\n",
        "    # show the legend\n",
        "    plt.legend()\n",
        "    # show the plot\n",
        "    plt.show()\n",
        "    layer.log({\"Curves\":plt.gcf()})\n",
        "    \n",
        "    return model"
      ]
    },
    {
      "cell_type": "markdown",
      "source": [
        "Calling the `run` function with the `train` function runs all your model code and stores the resulting model to Layer. The model will then be available for inference immediately. Layer also saves all the items logged in the function, for example, metrics, parameters and images."
      ],
      "metadata": {
        "id": "hERt1h3vASlz"
      }
    },
    {
      "cell_type": "code",
      "source": [
        "train()"
      ],
      "metadata": {
        "colab": {
          "base_uri": "https://localhost:8080/",
          "height": 70,
          "referenced_widgets": [
            "f294b59ec9e54af4a744aef80231136a",
            "bc32437fa23743d8847135c5ff5f91cf"
          ]
        },
        "id": "YCzU0yBHuDyc",
        "outputId": "82523a1b-f190-4a59-b4da-b7fe31ac7299"
      },
      "execution_count": 22,
      "outputs": [
        {
          "output_type": "display_data",
          "data": {
            "text/plain": [
              "Output()"
            ],
            "application/vnd.jupyter.widget-view+json": {
              "version_major": 2,
              "version_minor": 0,
              "model_id": "f294b59ec9e54af4a744aef80231136a"
            }
          },
          "metadata": {}
        },
        {
          "output_type": "display_data",
          "data": {
            "text/plain": [
              "<Figure size 432x288 with 0 Axes>"
            ]
          },
          "metadata": {}
        }
      ]
    },
    {
      "cell_type": "code",
      "execution_count": 27,
      "metadata": {
        "colab": {
          "base_uri": "https://localhost:8080/",
          "height": 70,
          "referenced_widgets": [
            "8d54ec5df0424eacabaa4a32c6cf4131",
            "05da40890db947f3a22c27d03980f2bf"
          ]
        },
        "id": "4BzS7KqPV3Gf",
        "outputId": "3d31ee4e-40a8-4e0c-ee7e-02e62967d32d"
      },
      "outputs": [
        {
          "output_type": "display_data",
          "data": {
            "text/plain": [
              "Output()"
            ],
            "application/vnd.jupyter.widget-view+json": {
              "version_major": 2,
              "version_minor": 0,
              "model_id": "8d54ec5df0424eacabaa4a32c6cf4131"
            }
          },
          "metadata": {}
        },
        {
          "output_type": "execute_result",
          "data": {
            "text/plain": [
              "Run(project_name='credit-score')"
            ]
          },
          "metadata": {},
          "execution_count": 27
        }
      ],
      "source": [
        "# ++ To run the whole project on Layer Infra\n",
        "layer.run([train])"
      ]
    },
    {
      "cell_type": "markdown",
      "source": [
        "You can also run the model on your own infra by calling the `train` function. The model will be executed using your infra but the resulting model will be saved to Layer. "
      ],
      "metadata": {
        "id": "6D3_1YM6AkgK"
      }
    },
    {
      "cell_type": "markdown",
      "source": [
        "## Using Layer entities \n",
        "After running the project, you can start using the Layer entites immediately. For example, you can fetch the trained model and use it to make preditions. "
      ],
      "metadata": {
        "id": "RJ0grJh-B-T_"
      }
    },
    {
      "cell_type": "code",
      "execution_count": null,
      "metadata": {
        "id": "mdEevF2fcQ1s"
      },
      "outputs": [],
      "source": [
        "from sklearn.model_selection import train_test_split\n",
        "import layer\n",
        "import numpy as np\n",
        "from sklearn.preprocessing import OneHotEncoder\n",
        "from sklearn.compose import ColumnTransformer\n",
        "application_features =  layer.get_dataset('layer/credit-score/datasets/application_features').to_pandas()\n",
        "previous_application_features = layer.get_dataset('layer/credit-score/datasets/previous_application').to_pandas()\n",
        "installments_payments = layer.get_dataset('layer/credit-score/datasets/installments_payments').to_pandas()\n",
        "dff = installments_payments.merge(previous_application_features, on=['SK_ID_PREV', 'SK_ID_CURR']).merge(application_features,on=['SK_ID_CURR'])\n",
        "X = dff.drop([\"TARGET\", \"SK_ID_CURR\",'index'], axis=1)\n",
        "y = dff[\"TARGET\"]\n",
        "credit_model = layer.get_model('layer/credit-score/models/credit_score_model').get_train()\n",
        "categories = X.select_dtypes(include=['object']).columns.tolist() \n",
        "transformer = ColumnTransformer(\n",
        "        transformers=[('cat', OneHotEncoder(handle_unknown='ignore', drop=\"first\"), categories)],\n",
        "        remainder='passthrough')\n",
        "\n",
        "X = transformer.fit_transform(X,)\n",
        "X_train, X_test, y_train, y_test = train_test_split(X, y, test_size=0.3,\n",
        "                                                        random_state=0)"
      ]
    },
    {
      "cell_type": "code",
      "execution_count": null,
      "metadata": {
        "id": "npeXuLBMgOrN",
        "colab": {
          "base_uri": "https://localhost:8080/"
        },
        "outputId": "23483068-4022-4b6a-cdf7-aceb1295e28c"
      },
      "outputs": [
        {
          "output_type": "execute_result",
          "data": {
            "text/plain": [
              "array([0])"
            ]
          },
          "metadata": {},
          "execution_count": 45
        }
      ],
      "source": [
        "credit_model.predict(X_test[0:1])"
      ]
    },
    {
      "cell_type": "code",
      "execution_count": null,
      "metadata": {
        "id": "6_1x5UOvgP8a",
        "colab": {
          "base_uri": "https://localhost:8080/"
        },
        "outputId": "3598e97d-2d0c-449f-e2cd-f0c7a91b4628"
      },
      "outputs": [
        {
          "output_type": "execute_result",
          "data": {
            "text/plain": [
              "array([[0.86409123, 0.13590877]])"
            ]
          },
          "metadata": {},
          "execution_count": 46
        }
      ],
      "source": [
        "credit_model.predict_proba(X_test[0:1])"
      ]
    },
    {
      "cell_type": "markdown",
      "source": [
        "## Where to go from here?\n",
        "\n",
        "Now that you have created this credit score project, you can:\n",
        "\n",
        "- Join our [Slack Community ](https://bit.ly/layercommunityslack)\n",
        "- Visit [Layer Examples Repo](https://github.com/layerai/examples) for more examples\n",
        "- Browse [Trending Layer Projects](https://layer.ai) on our mainpage\n",
        "- Check out [Layer Documentation](https://docs.layer.ai) to learn more"
      ],
      "metadata": {
        "id": "Qz5Tyf5oB0XT"
      }
    }
  ],
  "metadata": {
    "colab": {
      "collapsed_sections": [],
      "name": "credit score.ipynb",
      "provenance": []
    },
    "kernelspec": {
      "display_name": "Python 3",
      "name": "python3"
    },
    "language_info": {
      "name": "python"
    },
    "widgets": {
      "application/vnd.jupyter.widget-state+json": {
        "81b977facdd6433daa0b2dbdb46819aa": {
          "model_module": "@jupyter-widgets/output",
          "model_name": "OutputModel",
          "model_module_version": "1.0.0",
          "state": {
            "_dom_classes": [],
            "_model_module": "@jupyter-widgets/output",
            "_model_module_version": "1.0.0",
            "_model_name": "OutputModel",
            "_view_count": null,
            "_view_module": "@jupyter-widgets/output",
            "_view_module_version": "1.0.0",
            "_view_name": "OutputView",
            "layout": "IPY_MODEL_2c9f97c40e054a33823c3237abd4507d",
            "msg_id": "",
            "outputs": [
              {
                "output_type": "display_data",
                "data": {
                  "text/plain": "✅  application_dataset  \u001b[38;2;52;211;153m━━━━━━━━━━━━━━━━━━━━━━\u001b[0m \u001b[38;2;52;211;153m        done         \u001b[0m \u001b[39m[ \u001b[0m\u001b[33m0:02:39\u001b[0m\u001b[39m ]\u001b[0m \n    \u001b]8;id=128986;https://development.layer.co/layer/credit-score/datasets/application_dataset\u001b\\\u001b[4;38;2;161;161;169mhttps://development.layer.co/layer/credit-score/datasets/application_dataset\u001b[0m\u001b]8;;\u001b\\  \n",
                  "text/html": "<pre style=\"white-space:pre;overflow-x:auto;line-height:normal;font-family:Menlo,'DejaVu Sans Mono',consolas,'Courier New',monospace\">✅  application_dataset  <span style=\"color: #34d399; text-decoration-color: #34d399\">━━━━━━━━━━━━━━━━━━━━━━</span> <span style=\"color: #34d399; text-decoration-color: #34d399\">        done         </span> <span style=\"color: #000000; text-decoration-color: #000000\">[ </span><span style=\"color: #808000; text-decoration-color: #808000\">0:02:39</span><span style=\"color: #000000; text-decoration-color: #000000\"> ]</span> \n    <a href=\"https://development.layer.co/layer/credit-score/datasets/application_dataset\"><span style=\"color: #a1a1a9; text-decoration-color: #a1a1a9; text-decoration: underline\">https://development.layer.co/layer/credit-score/datasets/application_dataset</span></a>  \n</pre>\n"
                },
                "metadata": {}
              }
            ]
          }
        },
        "2c9f97c40e054a33823c3237abd4507d": {
          "model_module": "@jupyter-widgets/base",
          "model_name": "LayoutModel",
          "model_module_version": "1.2.0",
          "state": {
            "_model_module": "@jupyter-widgets/base",
            "_model_module_version": "1.2.0",
            "_model_name": "LayoutModel",
            "_view_count": null,
            "_view_module": "@jupyter-widgets/base",
            "_view_module_version": "1.2.0",
            "_view_name": "LayoutView",
            "align_content": null,
            "align_items": null,
            "align_self": null,
            "border": null,
            "bottom": null,
            "display": null,
            "flex": null,
            "flex_flow": null,
            "grid_area": null,
            "grid_auto_columns": null,
            "grid_auto_flow": null,
            "grid_auto_rows": null,
            "grid_column": null,
            "grid_gap": null,
            "grid_row": null,
            "grid_template_areas": null,
            "grid_template_columns": null,
            "grid_template_rows": null,
            "height": null,
            "justify_content": null,
            "justify_items": null,
            "left": null,
            "margin": null,
            "max_height": null,
            "max_width": null,
            "min_height": null,
            "min_width": null,
            "object_fit": null,
            "object_position": null,
            "order": null,
            "overflow": null,
            "overflow_x": null,
            "overflow_y": null,
            "padding": null,
            "right": null,
            "top": null,
            "visibility": null,
            "width": null
          }
        },
        "c37f60075d19476d861b62ea1541b5a0": {
          "model_module": "@jupyter-widgets/output",
          "model_name": "OutputModel",
          "model_module_version": "1.0.0",
          "state": {
            "_dom_classes": [],
            "_model_module": "@jupyter-widgets/output",
            "_model_module_version": "1.0.0",
            "_model_name": "OutputModel",
            "_view_count": null,
            "_view_module": "@jupyter-widgets/output",
            "_view_module_version": "1.0.0",
            "_view_name": "OutputView",
            "layout": "IPY_MODEL_429cbbfc5a7c4fd58fe5fb9dd1a34e6a",
            "msg_id": "",
            "outputs": [
              {
                "output_type": "display_data",
                "data": {
                  "text/plain": "✅  installments_paymen… \u001b[38;2;52;211;153m━━━━━━━━━━━━━━━━━━━━━━\u001b[0m \u001b[38;2;52;211;153m        done         \u001b[0m \u001b[39m[ \u001b[0m\u001b[33m0:00:20\u001b[0m\u001b[39m ]\u001b[0m  \n    \u001b]8;id=866906;https://development.layer.co/layer/credit-score/datasets/installments_payments\u001b\\\u001b[4;38;2;161;161;169mhttps://development.layer.co/layer/credit-score/datasets/installments_payments\u001b[0m\u001b]8;;\u001b\\ \n",
                  "text/html": "<pre style=\"white-space:pre;overflow-x:auto;line-height:normal;font-family:Menlo,'DejaVu Sans Mono',consolas,'Courier New',monospace\">✅  installments_paymen… <span style=\"color: #34d399; text-decoration-color: #34d399\">━━━━━━━━━━━━━━━━━━━━━━</span> <span style=\"color: #34d399; text-decoration-color: #34d399\">        done         </span> <span style=\"color: #000000; text-decoration-color: #000000\">[ </span><span style=\"color: #808000; text-decoration-color: #808000\">0:00:20</span><span style=\"color: #000000; text-decoration-color: #000000\"> ]</span>  \n    <a href=\"https://development.layer.co/layer/credit-score/datasets/installments_payments\"><span style=\"color: #a1a1a9; text-decoration-color: #a1a1a9; text-decoration: underline\">https://development.layer.co/layer/credit-score/datasets/installments_payments</span></a> \n</pre>\n"
                },
                "metadata": {}
              }
            ]
          }
        },
        "429cbbfc5a7c4fd58fe5fb9dd1a34e6a": {
          "model_module": "@jupyter-widgets/base",
          "model_name": "LayoutModel",
          "model_module_version": "1.2.0",
          "state": {
            "_model_module": "@jupyter-widgets/base",
            "_model_module_version": "1.2.0",
            "_model_name": "LayoutModel",
            "_view_count": null,
            "_view_module": "@jupyter-widgets/base",
            "_view_module_version": "1.2.0",
            "_view_name": "LayoutView",
            "align_content": null,
            "align_items": null,
            "align_self": null,
            "border": null,
            "bottom": null,
            "display": null,
            "flex": null,
            "flex_flow": null,
            "grid_area": null,
            "grid_auto_columns": null,
            "grid_auto_flow": null,
            "grid_auto_rows": null,
            "grid_column": null,
            "grid_gap": null,
            "grid_row": null,
            "grid_template_areas": null,
            "grid_template_columns": null,
            "grid_template_rows": null,
            "height": null,
            "justify_content": null,
            "justify_items": null,
            "left": null,
            "margin": null,
            "max_height": null,
            "max_width": null,
            "min_height": null,
            "min_width": null,
            "object_fit": null,
            "object_position": null,
            "order": null,
            "overflow": null,
            "overflow_x": null,
            "overflow_y": null,
            "padding": null,
            "right": null,
            "top": null,
            "visibility": null,
            "width": null
          }
        },
        "26c5d024d2b4427c973b43c5939542d0": {
          "model_module": "@jupyter-widgets/output",
          "model_name": "OutputModel",
          "model_module_version": "1.0.0",
          "state": {
            "_dom_classes": [],
            "_model_module": "@jupyter-widgets/output",
            "_model_module_version": "1.0.0",
            "_model_name": "OutputModel",
            "_view_count": null,
            "_view_module": "@jupyter-widgets/output",
            "_view_module_version": "1.0.0",
            "_view_name": "OutputView",
            "layout": "IPY_MODEL_fde2598973e64fe4b3f9c929f2bdf911",
            "msg_id": "",
            "outputs": [
              {
                "output_type": "display_data",
                "data": {
                  "text/plain": "✅  previous_application \u001b[38;2;52;211;153m━━━━━━━━━━━━━━━━━━━━━━\u001b[0m \u001b[38;2;52;211;153m        done         \u001b[0m \u001b[39m[ \u001b[0m\u001b[33m0:00:10\u001b[0m\u001b[39m ]\u001b[0m \n    \u001b]8;id=725201;https://development.layer.co/layer/credit-score/datasets/previous_application\u001b\\\u001b[4;38;2;161;161;169mhttps://development.layer.co/layer/credit-score/datasets/previous_application\u001b[0m\u001b]8;;\u001b\\ \n",
                  "text/html": "<pre style=\"white-space:pre;overflow-x:auto;line-height:normal;font-family:Menlo,'DejaVu Sans Mono',consolas,'Courier New',monospace\">✅  previous_application <span style=\"color: #34d399; text-decoration-color: #34d399\">━━━━━━━━━━━━━━━━━━━━━━</span> <span style=\"color: #34d399; text-decoration-color: #34d399\">        done         </span> <span style=\"color: #000000; text-decoration-color: #000000\">[ </span><span style=\"color: #808000; text-decoration-color: #808000\">0:00:10</span><span style=\"color: #000000; text-decoration-color: #000000\"> ]</span> \n    <a href=\"https://development.layer.co/layer/credit-score/datasets/previous_application\"><span style=\"color: #a1a1a9; text-decoration-color: #a1a1a9; text-decoration: underline\">https://development.layer.co/layer/credit-score/datasets/previous_application</span></a> \n</pre>\n"
                },
                "metadata": {}
              }
            ]
          }
        },
        "fde2598973e64fe4b3f9c929f2bdf911": {
          "model_module": "@jupyter-widgets/base",
          "model_name": "LayoutModel",
          "model_module_version": "1.2.0",
          "state": {
            "_model_module": "@jupyter-widgets/base",
            "_model_module_version": "1.2.0",
            "_model_name": "LayoutModel",
            "_view_count": null,
            "_view_module": "@jupyter-widgets/base",
            "_view_module_version": "1.2.0",
            "_view_name": "LayoutView",
            "align_content": null,
            "align_items": null,
            "align_self": null,
            "border": null,
            "bottom": null,
            "display": null,
            "flex": null,
            "flex_flow": null,
            "grid_area": null,
            "grid_auto_columns": null,
            "grid_auto_flow": null,
            "grid_auto_rows": null,
            "grid_column": null,
            "grid_gap": null,
            "grid_row": null,
            "grid_template_areas": null,
            "grid_template_columns": null,
            "grid_template_rows": null,
            "height": null,
            "justify_content": null,
            "justify_items": null,
            "left": null,
            "margin": null,
            "max_height": null,
            "max_width": null,
            "min_height": null,
            "min_width": null,
            "object_fit": null,
            "object_position": null,
            "order": null,
            "overflow": null,
            "overflow_x": null,
            "overflow_y": null,
            "padding": null,
            "right": null,
            "top": null,
            "visibility": null,
            "width": null
          }
        },
        "2bc9e4c2aa7a4768915bd0133f7beab9": {
          "model_module": "@jupyter-widgets/output",
          "model_name": "OutputModel",
          "model_module_version": "1.0.0",
          "state": {
            "_dom_classes": [],
            "_model_module": "@jupyter-widgets/output",
            "_model_module_version": "1.0.0",
            "_model_name": "OutputModel",
            "_view_count": null,
            "_view_module": "@jupyter-widgets/output",
            "_view_module_version": "1.0.0",
            "_view_name": "OutputView",
            "layout": "IPY_MODEL_b0f5cf7a12e44cadaa7ed75b5e54e45d",
            "msg_id": "",
            "outputs": [
              {
                "output_type": "display_data",
                "data": {
                  "text/plain": "✅  application_features \u001b[38;2;52;211;153m━━━━━━━━━━━━━━━━━━━━━━\u001b[0m \u001b[38;2;52;211;153m        done         \u001b[0m \u001b[39m[ \u001b[0m\u001b[33m0:00:10\u001b[0m\u001b[39m ]\u001b[0m \n    \u001b]8;id=629581;https://development.layer.co/layer/credit-score/datasets/application_features\u001b\\\u001b[4;38;2;161;161;169mhttps://development.layer.co/layer/credit-score/datasets/application_features\u001b[0m\u001b]8;;\u001b\\ \n",
                  "text/html": "<pre style=\"white-space:pre;overflow-x:auto;line-height:normal;font-family:Menlo,'DejaVu Sans Mono',consolas,'Courier New',monospace\">✅  application_features <span style=\"color: #34d399; text-decoration-color: #34d399\">━━━━━━━━━━━━━━━━━━━━━━</span> <span style=\"color: #34d399; text-decoration-color: #34d399\">        done         </span> <span style=\"color: #000000; text-decoration-color: #000000\">[ </span><span style=\"color: #808000; text-decoration-color: #808000\">0:00:10</span><span style=\"color: #000000; text-decoration-color: #000000\"> ]</span> \n    <a href=\"https://development.layer.co/layer/credit-score/datasets/application_features\"><span style=\"color: #a1a1a9; text-decoration-color: #a1a1a9; text-decoration: underline\">https://development.layer.co/layer/credit-score/datasets/application_features</span></a> \n</pre>\n"
                },
                "metadata": {}
              }
            ]
          }
        },
        "b0f5cf7a12e44cadaa7ed75b5e54e45d": {
          "model_module": "@jupyter-widgets/base",
          "model_name": "LayoutModel",
          "model_module_version": "1.2.0",
          "state": {
            "_model_module": "@jupyter-widgets/base",
            "_model_module_version": "1.2.0",
            "_model_name": "LayoutModel",
            "_view_count": null,
            "_view_module": "@jupyter-widgets/base",
            "_view_module_version": "1.2.0",
            "_view_name": "LayoutView",
            "align_content": null,
            "align_items": null,
            "align_self": null,
            "border": null,
            "bottom": null,
            "display": null,
            "flex": null,
            "flex_flow": null,
            "grid_area": null,
            "grid_auto_columns": null,
            "grid_auto_flow": null,
            "grid_auto_rows": null,
            "grid_column": null,
            "grid_gap": null,
            "grid_row": null,
            "grid_template_areas": null,
            "grid_template_columns": null,
            "grid_template_rows": null,
            "height": null,
            "justify_content": null,
            "justify_items": null,
            "left": null,
            "margin": null,
            "max_height": null,
            "max_width": null,
            "min_height": null,
            "min_width": null,
            "object_fit": null,
            "object_position": null,
            "order": null,
            "overflow": null,
            "overflow_x": null,
            "overflow_y": null,
            "padding": null,
            "right": null,
            "top": null,
            "visibility": null,
            "width": null
          }
        },
        "f294b59ec9e54af4a744aef80231136a": {
          "model_module": "@jupyter-widgets/output",
          "model_name": "OutputModel",
          "model_module_version": "1.0.0",
          "state": {
            "_dom_classes": [],
            "_model_module": "@jupyter-widgets/output",
            "_model_module_version": "1.0.0",
            "_model_name": "OutputModel",
            "_view_count": null,
            "_view_module": "@jupyter-widgets/output",
            "_view_module_version": "1.0.0",
            "_view_name": "OutputView",
            "layout": "IPY_MODEL_bc32437fa23743d8847135c5ff5f91cf",
            "msg_id": "",
            "outputs": [
              {
                "output_type": "display_data",
                "data": {
                  "text/plain": "✅  credit_score_model   \u001b[38;2;52;211;153m━━━━━━━━━━━━━━━━━━━━━━\u001b[0m \u001b[38;2;52;211;153m        done         \u001b[0m \u001b[39m[ \u001b[0m\u001b[33m0:01:39\u001b[0m\u001b[39m ]\u001b[0m \n    \u001b]8;id=372749;https://development.layer.co/layer/credit-score/models/credit_score_model\u001b\\\u001b[4;38;2;161;161;169mhttps://development.layer.co/layer/credit-score/models/credit_score_model\u001b[0m\u001b]8;;\u001b\\     \n",
                  "text/html": "<pre style=\"white-space:pre;overflow-x:auto;line-height:normal;font-family:Menlo,'DejaVu Sans Mono',consolas,'Courier New',monospace\">✅  credit_score_model   <span style=\"color: #34d399; text-decoration-color: #34d399\">━━━━━━━━━━━━━━━━━━━━━━</span> <span style=\"color: #34d399; text-decoration-color: #34d399\">        done         </span> <span style=\"color: #000000; text-decoration-color: #000000\">[ </span><span style=\"color: #808000; text-decoration-color: #808000\">0:01:39</span><span style=\"color: #000000; text-decoration-color: #000000\"> ]</span> \n    <a href=\"https://development.layer.co/layer/credit-score/models/credit_score_model\"><span style=\"color: #a1a1a9; text-decoration-color: #a1a1a9; text-decoration: underline\">https://development.layer.co/layer/credit-score/models/credit_score_model</span></a>     \n</pre>\n"
                },
                "metadata": {}
              }
            ]
          }
        },
        "bc32437fa23743d8847135c5ff5f91cf": {
          "model_module": "@jupyter-widgets/base",
          "model_name": "LayoutModel",
          "model_module_version": "1.2.0",
          "state": {
            "_model_module": "@jupyter-widgets/base",
            "_model_module_version": "1.2.0",
            "_model_name": "LayoutModel",
            "_view_count": null,
            "_view_module": "@jupyter-widgets/base",
            "_view_module_version": "1.2.0",
            "_view_name": "LayoutView",
            "align_content": null,
            "align_items": null,
            "align_self": null,
            "border": null,
            "bottom": null,
            "display": null,
            "flex": null,
            "flex_flow": null,
            "grid_area": null,
            "grid_auto_columns": null,
            "grid_auto_flow": null,
            "grid_auto_rows": null,
            "grid_column": null,
            "grid_gap": null,
            "grid_row": null,
            "grid_template_areas": null,
            "grid_template_columns": null,
            "grid_template_rows": null,
            "height": null,
            "justify_content": null,
            "justify_items": null,
            "left": null,
            "margin": null,
            "max_height": null,
            "max_width": null,
            "min_height": null,
            "min_width": null,
            "object_fit": null,
            "object_position": null,
            "order": null,
            "overflow": null,
            "overflow_x": null,
            "overflow_y": null,
            "padding": null,
            "right": null,
            "top": null,
            "visibility": null,
            "width": null
          }
        },
        "8d54ec5df0424eacabaa4a32c6cf4131": {
          "model_module": "@jupyter-widgets/output",
          "model_name": "OutputModel",
          "model_module_version": "1.0.0",
          "state": {
            "_dom_classes": [],
            "_model_module": "@jupyter-widgets/output",
            "_model_module_version": "1.0.0",
            "_model_name": "OutputModel",
            "_view_count": null,
            "_view_module": "@jupyter-widgets/output",
            "_view_module_version": "1.0.0",
            "_view_name": "OutputView",
            "layout": "IPY_MODEL_05da40890db947f3a22c27d03980f2bf",
            "msg_id": "",
            "outputs": [
              {
                "output_type": "display_data",
                "data": {
                  "text/plain": "✅  credit_score_model   \u001b[38;2;52;211;153m━━━━━━━━━━━━━━━━━━━━━━\u001b[0m \u001b[38;2;52;211;153m        done         \u001b[0m \u001b[39m[ \u001b[0m\u001b[33m0:02:04\u001b[0m\u001b[39m ]\u001b[0m \n    \u001b]8;id=230273;https://development.layer.co/layer/credit-score/models/credit_score_model\u001b\\\u001b[4;38;2;161;161;169mhttps://development.layer.co/layer/credit-score/models/credit_score_model\u001b[0m\u001b]8;;\u001b\\     \n",
                  "text/html": "<pre style=\"white-space:pre;overflow-x:auto;line-height:normal;font-family:Menlo,'DejaVu Sans Mono',consolas,'Courier New',monospace\">✅  credit_score_model   <span style=\"color: #34d399; text-decoration-color: #34d399\">━━━━━━━━━━━━━━━━━━━━━━</span> <span style=\"color: #34d399; text-decoration-color: #34d399\">        done         </span> <span style=\"color: #000000; text-decoration-color: #000000\">[ </span><span style=\"color: #808000; text-decoration-color: #808000\">0:02:04</span><span style=\"color: #000000; text-decoration-color: #000000\"> ]</span> \n    <a href=\"https://development.layer.co/layer/credit-score/models/credit_score_model\"><span style=\"color: #a1a1a9; text-decoration-color: #a1a1a9; text-decoration: underline\">https://development.layer.co/layer/credit-score/models/credit_score_model</span></a>     \n</pre>\n"
                },
                "metadata": {}
              }
            ]
          }
        },
        "05da40890db947f3a22c27d03980f2bf": {
          "model_module": "@jupyter-widgets/base",
          "model_name": "LayoutModel",
          "model_module_version": "1.2.0",
          "state": {
            "_model_module": "@jupyter-widgets/base",
            "_model_module_version": "1.2.0",
            "_model_name": "LayoutModel",
            "_view_count": null,
            "_view_module": "@jupyter-widgets/base",
            "_view_module_version": "1.2.0",
            "_view_name": "LayoutView",
            "align_content": null,
            "align_items": null,
            "align_self": null,
            "border": null,
            "bottom": null,
            "display": null,
            "flex": null,
            "flex_flow": null,
            "grid_area": null,
            "grid_auto_columns": null,
            "grid_auto_flow": null,
            "grid_auto_rows": null,
            "grid_column": null,
            "grid_gap": null,
            "grid_row": null,
            "grid_template_areas": null,
            "grid_template_columns": null,
            "grid_template_rows": null,
            "height": null,
            "justify_content": null,
            "justify_items": null,
            "left": null,
            "margin": null,
            "max_height": null,
            "max_width": null,
            "min_height": null,
            "min_width": null,
            "object_fit": null,
            "object_position": null,
            "order": null,
            "overflow": null,
            "overflow_x": null,
            "overflow_y": null,
            "padding": null,
            "right": null,
            "top": null,
            "visibility": null,
            "width": null
          }
        }
      }
    }
  },
  "nbformat": 4,
  "nbformat_minor": 0
}