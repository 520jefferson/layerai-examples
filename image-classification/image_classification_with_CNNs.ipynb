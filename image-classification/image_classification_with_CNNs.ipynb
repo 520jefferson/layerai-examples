{
 "nbformat": 4,
 "nbformat_minor": 0,
 "metadata": {
  "colab": {
   "name": "Image classification with CNNs.ipynb",
   "provenance": [],
   "collapsed_sections": []
  },
  "kernelspec": {
   "name": "python3",
   "display_name": "Python 3"
  },
  "language_info": {
   "name": "python"
  },
  "widgets": {
   "application/vnd.jupyter.widget-state+json": {
    "029e18fc9f9e405887aa34ab59b07476": {
     "model_module": "@jupyter-widgets/output",
     "model_name": "OutputModel",
     "model_module_version": "1.0.0",
     "state": {
      "_dom_classes": [],
      "_model_module": "@jupyter-widgets/output",
      "_model_module_version": "1.0.0",
      "_model_name": "OutputModel",
      "_view_count": null,
      "_view_module": "@jupyter-widgets/output",
      "_view_module_version": "1.0.0",
      "_view_name": "OutputView",
      "layout": "IPY_MODEL_9b3c7f17384d4fbdaa003f5f38a73e6f",
      "msg_id": "",
      "outputs": [
       {
        "output_type": "display_data",
        "data": {
         "text/plain": "✅  cnn                  \u001B[38;2;52;211;153m━━━━━━━━━━━━━━━━━━━━━━\u001B[0m \u001B[38;2;52;211;153m        done         \u001B[0m \u001B[39m[ \u001B[0m\u001B[33m0:14:38\u001B[0m\u001B[39m ]\u001B[0m \n    \u001B]8;id=656449;https://development.layer.co/layer/derrick-cnn/models/cnn\u001B\\\u001B[4;38;2;161;161;169mhttps://development.layer.co/layer/derrick-cnn/models/cnn\u001B[0m\u001B]8;;\u001B\\                     \n",
         "text/html": "<pre style=\"white-space:pre;overflow-x:auto;line-height:normal;font-family:Menlo,'DejaVu Sans Mono',consolas,'Courier New',monospace\">✅  cnn                  <span style=\"color: #34d399; text-decoration-color: #34d399\">━━━━━━━━━━━━━━━━━━━━━━</span> <span style=\"color: #34d399; text-decoration-color: #34d399\">        done         </span> <span style=\"color: #000000; text-decoration-color: #000000\">[ </span><span style=\"color: #808000; text-decoration-color: #808000\">0:14:38</span><span style=\"color: #000000; text-decoration-color: #000000\"> ]</span> \n    <a href=\"https://development.layer.co/layer/derrick-cnn/models/cnn\"><span style=\"color: #a1a1a9; text-decoration-color: #a1a1a9; text-decoration: underline\">https://development.layer.co/layer/derrick-cnn/models/cnn</span></a>                     \n</pre>\n"
        },
        "metadata": {}
       }
      ]
     }
    },
    "9b3c7f17384d4fbdaa003f5f38a73e6f": {
     "model_module": "@jupyter-widgets/base",
     "model_name": "LayoutModel",
     "model_module_version": "1.2.0",
     "state": {
      "_model_module": "@jupyter-widgets/base",
      "_model_module_version": "1.2.0",
      "_model_name": "LayoutModel",
      "_view_count": null,
      "_view_module": "@jupyter-widgets/base",
      "_view_module_version": "1.2.0",
      "_view_name": "LayoutView",
      "align_content": null,
      "align_items": null,
      "align_self": null,
      "border": null,
      "bottom": null,
      "display": null,
      "flex": null,
      "flex_flow": null,
      "grid_area": null,
      "grid_auto_columns": null,
      "grid_auto_flow": null,
      "grid_auto_rows": null,
      "grid_column": null,
      "grid_gap": null,
      "grid_row": null,
      "grid_template_areas": null,
      "grid_template_columns": null,
      "grid_template_rows": null,
      "height": null,
      "justify_content": null,
      "justify_items": null,
      "left": null,
      "margin": null,
      "max_height": null,
      "max_width": null,
      "min_height": null,
      "min_width": null,
      "object_fit": null,
      "object_position": null,
      "order": null,
      "overflow": null,
      "overflow_x": null,
      "overflow_y": null,
      "padding": null,
      "right": null,
      "top": null,
      "visibility": null,
      "width": null
     }
    }
   }
  },
  "accelerator": "GPU"
 },
 "cells": [
  {
   "cell_type": "markdown",
   "source": [
    "# Image classification with CNNs\n",
    "[![Open in Layer](https://development.layer.co/assets/badge.svg)](https://development.layer.co/layer/cnn) [![Open in Colab](https://colab.research.google.com/assets/colab-badge.svg)](https://colab.research.google.com/github/layerai/examples/blob/main/image-classification/image_classification_with_CNNs.ipynb) [![Layer Examples Github](https://badgen.net/badge/icon/github?icon=github&label)](https://github.com/layerai/examples/tree/main/image-classification)"
   ],
   "metadata": {
    "collapsed": false,
    "pycharm": {
     "name": "#%% md\n"
    }
   }
  },
  {
   "cell_type": "code",
   "execution_count": null,
   "outputs": [],
   "source": [
    "!pip install --upgrade layer-sdk -qqq"
   ],
   "metadata": {
    "collapsed": false,
    "pycharm": {
     "name": "#%%\n"
    }
   }
  },
  {
   "cell_type": "code",
   "source": [
    "!layer --version"
   ],
   "metadata": {
    "colab": {
     "base_uri": "https://localhost:8080/"
    },
    "id": "-iRpYWV_WhkH",
    "outputId": "e673a95b-90b5-4d88-88e2-3233277281e7"
   },
   "execution_count": null,
   "outputs": [
    {
     "output_type": "stream",
     "name": "stdout",
     "text": [
      "Layer, version 0.9.341296\n"
     ]
    }
   ]
  },
  {
   "cell_type": "code",
   "source": [
    "import layer"
   ],
   "metadata": {
    "id": "w9rMYiS1WiSc"
   },
   "execution_count": null,
   "outputs": []
  },
  {
   "cell_type": "code",
   "source": [
    "# layer.logout()\n",
    "# layer.login(\"https://app.layer.ai/\")\n",
    "layer.login(\"https://development.layer.co/\")"
   ],
   "metadata": {
    "colab": {
     "base_uri": "https://localhost:8080/"
    },
    "id": "YEtKZ6TfWiUz",
    "outputId": "8552b7e4-2ba2-4270-9094-95c2bf4e30f9"
   },
   "execution_count": null,
   "outputs": [
    {
     "output_type": "stream",
     "name": "stdout",
     "text": [
      "Please open the following link in your web browser. Once logged in, copy the code and paste it here.\n",
      "https://auth.development.layer.co/authorize?response_type=code&code_challenge=j5--kaGMXp_TO8OIAui8C6019NqBkQLsLfwxNb7H430&code_challenge_method=S256&client_id=nv7k9jFnEHhMVQT6gWRoHMYkEtGUedtz&redirect_uri=https://development.layer.co/oauth/code&scope=offline_access&audience=https://development.layer.co\n",
      "Code: k6bmOxztKqI7j2NqB5Vui9mtzFC0aE_vg12MlaMojLV8I\n",
      "Successfully logged into https://development.layer.co/\n"
     ]
    }
   ]
  },
  {
   "cell_type": "code",
   "source": [
    "from layer.decorators import model, resources, pip_requirements, fabric"
   ],
   "metadata": {
    "id": "kLBoXj5_Wl5N"
   },
   "execution_count": null,
   "outputs": []
  },
  {
   "cell_type": "code",
   "source": [
    "layer.init(\"derrick-cnn\")"
   ],
   "metadata": {
    "colab": {
     "base_uri": "https://localhost:8080/"
    },
    "id": "PTfS9dxwWoZW",
    "outputId": "1ec26fe4-f9e1-4c2b-c354-06339b106ddd"
   },
   "execution_count": null,
   "outputs": [
    {
     "output_type": "execute_result",
     "data": {
      "text/plain": [
       "Project(name='derrick-cnn', raw_datasets=[], derived_datasets=[], featuresets=[], models=[], path=PosixPath('.'), project_files_hash='', readme='', organization=Organization(id=UUID('d7325da3-0646-4fa6-855d-8d19eece8b79'), name='layer'), _id=UUID('54de9921-fdc4-414a-89ca-8ce39094fe8f'), functions=[])"
      ]
     },
     "metadata": {},
     "execution_count": 6
    }
   ]
  },
  {
   "cell_type": "code",
   "source": [
    "pip install wget"
   ],
   "metadata": {
    "colab": {
     "base_uri": "https://localhost:8080/"
    },
    "id": "sv2QnJjfqT4n",
    "outputId": "fd0f81c1-aa9f-4f73-ae8b-4ac76203e57a"
   },
   "execution_count": null,
   "outputs": [
    {
     "output_type": "stream",
     "name": "stdout",
     "text": [
      "Collecting wget\n",
      "  Downloading wget-3.2.zip (10 kB)\n",
      "Building wheels for collected packages: wget\n",
      "  Building wheel for wget (setup.py) ... \u001B[?25l\u001B[?25hdone\n",
      "  Created wheel for wget: filename=wget-3.2-py3-none-any.whl size=9675 sha256=165a26acdf10ac2913e55b38771a6ecc5f85f017d891b9b227b2268e1086c9a4\n",
      "  Stored in directory: /root/.cache/pip/wheels/a1/b6/7c/0e63e34eb06634181c63adacca38b79ff8f35c37e3c13e3c02\n",
      "Successfully built wget\n",
      "Installing collected packages: wget\n",
      "Successfully installed wget-3.2\n"
     ]
    }
   ]
  },
  {
   "cell_type": "code",
   "source": [
    "@pip_requirements(packages=[\"wget\",\"tensorflow\",\"keras\"])\n",
    "@fabric(\"f-medium\")\n",
    "@model(\"cnn\")\n",
    "def train():\n",
    "  from tensorflow.keras.preprocessing.image import ImageDataGenerator\n",
    "  import tensorflow as tf\n",
    "  import wget\n",
    "  from tensorflow import keras\n",
    "  from tensorflow.keras import Sequential\n",
    "  from tensorflow.keras.layers import Dense,Conv2D,MaxPooling2D,Flatten,Dropout\n",
    "  from tensorflow.keras.preprocessing.image import ImageDataGenerator\n",
    "  from tensorflow.keras.callbacks import EarlyStopping\n",
    "  import os\n",
    "  import matplotlib.pyplot as plt \n",
    "  import pandas as pd\n",
    "  import zipfile\n",
    "  wget.download(\"https://namespace.co.ke/ml/train.zip\")\n",
    "  with zipfile.ZipFile('train.zip', 'r') as zip_ref:\n",
    "    zip_ref.extractall('train')\n",
    "  base_dir = 'train/train'\n",
    "  filenames = os.listdir(base_dir)\n",
    "  categories = []\n",
    "  for filename in filenames:\n",
    "      category = filename.split('.')[0]\n",
    "      if category == 'dog':\n",
    "          categories.append(\"dog\")\n",
    "      else:\n",
    "          categories.append(\"cat\")\n",
    "\n",
    "  df = pd.DataFrame({'filename': filenames,'category': categories})\n",
    "  train_datagen = ImageDataGenerator(rescale=1./255, \n",
    "                                   shear_range=0.2,\n",
    "                                   zoom_range=0.2, \n",
    "                                   horizontal_flip=True,\n",
    "                                   width_shift_range=0.1,\n",
    "                                   height_shift_range=0.1,\n",
    "                                   validation_split=0.2\n",
    "                                   )\n",
    "  validation_gen = ImageDataGenerator(rescale=1./255,validation_split=0.2)\n",
    "  image_size = (200, 200)\n",
    "  training_set = train_datagen.flow_from_dataframe(df,base_dir,\n",
    "                                                 seed=101,                                                 \n",
    "                                                 target_size=image_size,\n",
    "                                                 batch_size=32,\n",
    "                                                 x_col='filename',\n",
    "                                                 y_col='category',\n",
    "                                                 subset = \"training\",\n",
    "                                                 class_mode='binary')\n",
    "  validation_set = validation_gen.flow_from_dataframe(df,base_dir, \n",
    "                                               target_size=image_size,\n",
    "                                               batch_size=32, \n",
    "                                               x_col='filename',\n",
    "                                                 y_col='category',\n",
    "                                               subset = \"validation\",\n",
    "                                               class_mode='binary')\n",
    "  model = Sequential([\n",
    "    Conv2D(filters=32,kernel_size=(3,3),  input_shape = (200, 200, 3),activation='relu'),\n",
    "    MaxPooling2D(pool_size=(2,2)),\n",
    "\n",
    "    Conv2D(filters=32,kernel_size=(3,3), activation='relu'),\n",
    "    MaxPooling2D(pool_size=(2,2)),\n",
    "    Dropout(0.25),\n",
    "\n",
    "    Conv2D(filters=64,kernel_size=(3,3), activation='relu'),\n",
    "    MaxPooling2D(pool_size=(2,2)),\n",
    "    Dropout(0.25),\n",
    "\n",
    "    Flatten(),\n",
    "    Dense(128, activation='relu'),\n",
    "    Dropout(0.25),\n",
    "    Dense(1, activation='sigmoid')])\n",
    "  model.compile(optimizer='adam',\n",
    "              loss=keras.losses.BinaryCrossentropy(),\n",
    "              metrics=[keras.metrics.BinaryAccuracy()])\n",
    "  callback = EarlyStopping(monitor='loss', patience=3)\n",
    "  epochs=1\n",
    "  history = model.fit(training_set,validation_data=validation_set, epochs=epochs,callbacks=[callback])\n",
    "  metrics_df = pd.DataFrame(history.history)\n",
    "  layer.log({\"metrics DataFrame\": metric_df)\n",
    "  loss, accuracy = model.evaluate(validation_set)\n",
    "  print('Accuracy on test dataset:', accuracy)\n",
    "  metrics_df[[\"loss\",\"val_loss\"]].plot();\n",
    "  metrics_df[[\"binary_accuracy\",\"val_binary_accuracy\"]].plot();\n",
    "  return model"
   ],
   "metadata": {
    "id": "Z-iDZW0mWYgF"
   },
   "execution_count": null,
   "outputs": []
  },
  {
   "cell_type": "code",
   "source": [
    "# Run the project on Layer Infra\n",
    "layer.run([train])"
   ],
   "metadata": {
    "colab": {
     "base_uri": "https://localhost:8080/",
     "height": 70,
     "referenced_widgets": [
      "029e18fc9f9e405887aa34ab59b07476",
      "9b3c7f17384d4fbdaa003f5f38a73e6f"
     ]
    },
    "id": "GWC-bdZ5VaAq",
    "outputId": "6760eed2-e08f-47a4-8ca0-73010ef7b6f2"
   },
   "execution_count": null,
   "outputs": [
    {
     "output_type": "display_data",
     "data": {
      "text/plain": [
       "Output()"
      ],
      "application/vnd.jupyter.widget-view+json": {
       "version_major": 2,
       "version_minor": 0,
       "model_id": "029e18fc9f9e405887aa34ab59b07476"
      }
     },
     "metadata": {}
    },
    {
     "output_type": "execute_result",
     "data": {
      "text/plain": [
       "Run(project_name='derrick-cnn')"
      ]
     },
     "metadata": {},
     "execution_count": 8
    }
   ]
  },
  {
   "cell_type": "code",
   "source": [
    "from PIL import Image\n",
    "import numpy as np\n",
    "from keras.preprocessing import image"
   ],
   "metadata": {
    "id": "XbGGoMCUYrkf"
   },
   "execution_count": null,
   "outputs": []
  },
  {
   "cell_type": "code",
   "source": [
    "model = layer.get_model('layer/derrick-cnn/models/cnn').get_train()"
   ],
   "metadata": {
    "id": "GIqyqBhVqejV"
   },
   "execution_count": null,
   "outputs": []
  },
  {
   "cell_type": "code",
   "source": [
    "!wget --no-check-certificate \\\n",
    "    https://upload.wikimedia.org/wikipedia/commons/c/c7/Tabby_cat_with_blue_eyes-3336579.jpg \\\n",
    "    -O /tmp/cat.jpg"
   ],
   "metadata": {
    "colab": {
     "base_uri": "https://localhost:8080/"
    },
    "id": "jPHSDEUCqgqk",
    "outputId": "57231fac-d2fd-4834-f11b-2c522e7c599f"
   },
   "execution_count": null,
   "outputs": [
    {
     "output_type": "stream",
     "name": "stdout",
     "text": [
      "--2022-03-30 07:39:41--  https://upload.wikimedia.org/wikipedia/commons/c/c7/Tabby_cat_with_blue_eyes-3336579.jpg\n",
      "Resolving upload.wikimedia.org (upload.wikimedia.org)... 91.198.174.208, 2620:0:862:ed1a::2:b\n",
      "Connecting to upload.wikimedia.org (upload.wikimedia.org)|91.198.174.208|:443... connected.\n",
      "HTTP request sent, awaiting response... 200 OK\n",
      "Length: 2114775 (2.0M) [image/jpeg]\n",
      "Saving to: ‘/tmp/cat.jpg’\n",
      "\n",
      "\r/tmp/cat.jpg          0%[                    ]       0  --.-KB/s               \r/tmp/cat.jpg        100%[===================>]   2.02M  --.-KB/s    in 0.08s   \n",
      "\n",
      "2022-03-30 07:39:41 (25.9 MB/s) - ‘/tmp/cat.jpg’ saved [2114775/2114775]\n",
      "\n"
     ]
    }
   ]
  },
  {
   "cell_type": "code",
   "source": [
    "test_image = image.load_img('/tmp/cat.jpg', target_size=(200, 200))\n",
    "test_image = image.img_to_array(test_image)"
   ],
   "metadata": {
    "id": "of0hn07rqlzg"
   },
   "execution_count": null,
   "outputs": []
  },
  {
   "cell_type": "code",
   "source": [
    "test_image = np.expand_dims(test_image, axis=0)\n",
    "prediction = model.predict(test_image)\n"
   ],
   "metadata": {
    "id": "t6wGyPvRqpVR"
   },
   "execution_count": null,
   "outputs": []
  },
  {
   "cell_type": "code",
   "source": [
    "if prediction[0][0]>0.5:\n",
    "  print(\" is a dog\")\n",
    "else:\n",
    "   print(\" is a cat\")"
   ],
   "metadata": {
    "colab": {
     "base_uri": "https://localhost:8080/"
    },
    "id": "_s68scPCqtEx",
    "outputId": "71cb5194-b705-476f-8c12-db8fb0805e5f"
   },
   "execution_count": null,
   "outputs": [
    {
     "output_type": "stream",
     "name": "stdout",
     "text": [
      " is a cat\n"
     ]
    }
   ]
  }
 ]
}