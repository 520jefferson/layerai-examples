{
  "cells": [
    {
      "cell_type": "markdown",
      "metadata": {
        "id": "6af98WlEN0cV"
      },
      "source": [
        "# How to add dataset to Layer"
      ]
    },
    {
      "cell_type": "markdown",
      "metadata": {
        "id": "KqaU98HtN7qy"
      },
      "source": [
        "[![Open in Layer](https://development.layer.co/assets/badge.svg)](https://app.layer.ai/layer/iris/) [![Open in Colab](https://colab.research.google.com/assets/colab-badge.svg)](https://colab.research.google.com/github/layerai/examples/blob/main/tutorials/add-datasets-to-layer/how_to_add_dataset_to_layer.ipynb) [![Layer Examples Github](https://badgen.net/badge/icon/github?icon=github&label)](https://github.com/layerai/examples/tree/main/tutorials/add-datasets-to-layer)\n"
      ]
    },
    {
      "cell_type": "markdown",
      "metadata": {
        "id": "b1AABPiuO4yO"
      },
      "source": [
        "Layer helps you build, train and track all your machine learning project metadata including ML models and datasets‍ with semantic versioning, extensive artifact logging and dynamic reporting with local↔cloud training.\n",
        "\n",
        "In this quick walkthrough, we'll take a look at how to register and track datasets with Layer."
      ]
    },
    {
      "cell_type": "markdown",
      "metadata": {
        "id": "CS9EB3tNPCfi"
      },
      "source": [
        "## Install Layer\n",
        "\n",
        "Ensure that you have the latest version of [Layer](www.layer.ai) installed."
      ]
    },
    {
      "cell_type": "code",
      "execution_count": null,
      "metadata": {
        "id": "XWCHYmVeNpmQ",
        "pycharm": {
          "is_executing": true
        }
      },
      "outputs": [],
      "source": [
        "!pip install layer --upgrade -qqq"
      ]
    },
    {
      "cell_type": "markdown",
      "metadata": {
        "id": "tNbNVy7tPFvK"
      },
      "source": [
        "## Authenticate your Layer account \n",
        "\n",
        "Once Layer is installed, you need to log in to your Layer account. The created data will be stored under this account. Therefore, this step is a must."
      ]
    },
    {
      "cell_type": "code",
      "execution_count": null,
      "metadata": {
        "id": "UrTmmRFPNrbo",
        "pycharm": {
          "is_executing": true
        }
      },
      "outputs": [],
      "source": [
        "import layer\n",
        "layer.login()"
      ]
    },
    {
      "cell_type": "markdown",
      "metadata": {
        "id": "0lNJIstoPVlu"
      },
      "source": [
        "## Create a project\n",
        "The next step is to create a project. The dataset will be saved under this project.\n",
        "\n",
        "Layer Projects are smart containers to organize your machine learning metadata such as models, datasets, metrics, reports etc. They associate some combination of datasets and models. Layer projects are basically the front page of your ML projects which includes all your ML metadata including ML models, datasets, metric, parameters and more.\n",
        "\n",
        "In Layer, projects are created using the `layer.init` command while passing the name of the project."
      ]
    },
    {
      "cell_type": "code",
      "execution_count": null,
      "metadata": {
        "id": "9o2c23XxOHC1"
      },
      "outputs": [],
      "source": [
        "layer.init(\"iris\")"
      ]
    },
    {
      "cell_type": "markdown",
      "source": [
        "⬆️Click this link to visit your Layer Project page.\n"
      ],
      "metadata": {
        "collapsed": false,
        "id": "yvYU-hTcv6Tn"
      }
    },
    {
      "cell_type": "markdown",
      "source": [
        "## Create your dataset function\n",
        "The first step is to define a dataset function that will load the data and do any pre-processing that you'd like.\n",
        "\n"
      ],
      "metadata": {
        "collapsed": false,
        "id": "EU_Fe27ov6Tn"
      }
    },
    {
      "cell_type": "code",
      "source": [
        "!git clone https://github.com/layerai/examples.git"
      ],
      "metadata": {
        "id": "XTFYhrToE9IH"
      },
      "execution_count": null,
      "outputs": []
    },
    {
      "cell_type": "code",
      "source": [
        "!mv /content/examples/tutorials/add-datasets-to-layer/iris.csv iris.csv "
      ],
      "metadata": {
        "id": "Mz1gUey-FCSc"
      },
      "execution_count": 5,
      "outputs": []
    },
    {
      "cell_type": "code",
      "execution_count": 6,
      "outputs": [],
      "source": [
        "\n",
        "def save_iris():\n",
        "  data_file = 'iris.csv'\n",
        "  import pandas as pd\n",
        "  df = pd.read_csv(data_file)\n",
        "  classes = df['Species'].nunique()\n",
        "  # Log data about your data\n",
        "  print(f\"Number of classes {classes}\")\n",
        "  return df"
      ],
      "metadata": {
        "pycharm": {
          "name": "#%%\n"
        },
        "id": "g_eI4xA6v6To"
      }
    },
    {
      "cell_type": "code",
      "execution_count": null,
      "outputs": [],
      "source": [
        "df = save_iris()"
      ],
      "metadata": {
        "pycharm": {
          "name": "#%%\n"
        },
        "id": "o9uDFZ7gv6To"
      }
    },
    {
      "cell_type": "code",
      "source": [
        "df.head()"
      ],
      "metadata": {
        "id": "ufqQcP0zwrIF"
      },
      "execution_count": null,
      "outputs": []
    },
    {
      "cell_type": "markdown",
      "metadata": {
        "id": "sqjnIT9APqxM"
      },
      "source": [
        "## Saving the data to Layer\n",
        "We can interact with Layer using decorators. Layer has built-in decorators for different purposes. In this case, we are interested in the [@dataset](http://docs.app.layer.ai/docs/sdk-library/dataset-decorator) decorator is used to create new datasets. \n",
        "\n",
        "Let's demonstrate how to use the [@dataset](http://docs.app.layer.ai/docs/sdk-library/dataset-decorator) decorator by saving the Iris dataset.\n",
        "\n",
        "\n",
        "If your dataset depends on a file like a CSV file, you can bundle it with your decorated function with [resources](https://docs.app.layer.ai/docs/sdk-library/resources-decorator) decorator. Layer automatically uploads your local file.  The decorator expects the path to the data file."
      ]
    },
    {
      "cell_type": "markdown",
      "metadata": {
        "id": "6KEhRQezQkRy"
      },
      "source": [
        "\n",
        "Let's also replace `print()` with `layer.log()` to enable experiment tracking."
      ]
    },
    {
      "cell_type": "code",
      "execution_count": 9,
      "metadata": {
        "id": "h4M-WzH0Cime"
      },
      "outputs": [],
      "source": [
        "import layer\n",
        "from layer.decorators import dataset,pip_requirements\n",
        "from layer.decorators import resources\n",
        "\n",
        "data_file = 'iris.csv'\n",
        "@resources(data_file)\n",
        "@pip_requirements(packages=[\"matplotlib\",\"seaborn\"])\n",
        "@dataset('iris_data')\n",
        "def save_iris():\n",
        "  import pandas as pd\n",
        "  import matplotlib.pyplot as plt \n",
        "  import seaborn as sns \n",
        "  df = pd.read_csv(data_file)\n",
        "  classes = df['Species'].nunique()\n",
        "  # Log data about your data\n",
        "  layer.log({\"Number of classes\": classes})\n",
        "  # Log some data statistics\n",
        "  plt.figure(figsize=(12,8))\n",
        "  plt.title('Species Countplot')\n",
        "  plt.xticks(rotation=90,fontsize=12)\n",
        "  sns.countplot(x='Species',data=df) \n",
        "  layer.log({\"Species Countplot\":plt.gcf() })\n",
        "\n",
        "  plt.figure(figsize=(12,8))\n",
        "  plt.xticks(rotation=90,fontsize=12)\n",
        "  sns.violinplot(x='Species',y='PetalWidthCm',data=df)\n",
        "  layer.log({\"Species violinplot\":plt.gcf() })\n",
        "\n",
        "  plt.figure(figsize=(12,8))\n",
        "  plt.xticks(rotation=90,fontsize=12)\n",
        "  sns.boxplot(x=\"Species\", y=\"PetalLengthCm\", data=df)\n",
        "  layer.log({\"Boxplot\":plt.gcf() })\n",
        "\n",
        "  plt.figure(figsize=(12,8))\n",
        "  sns.scatterplot(x='SepalLengthCm',y='PetalLengthCm',hue='Species',data=df)\n",
        "  layer.log({\"Scatterplot\":plt.gcf() })\n",
        "\n",
        "  return df"
      ]
    },
    {
      "cell_type": "markdown",
      "metadata": {
        "id": "h5ZaaGZARBc9"
      },
      "source": [
        "When you execute this function, the data will be stored in Layer under the project you just intitialized. \n",
        "\n",
        "You can execute this function in two ways."
      ]
    },
    {
      "cell_type": "markdown",
      "metadata": {
        "id": "fYoASRDKRPmM"
      },
      "source": [
        "### Run the function localy\n",
        "\n",
        "Running the function locally uses your local infrastructure. However, the resulting DataFrame will still be saved to Layer. Layer will also print a link that you can use to view the data immediately. "
      ]
    },
    {
      "cell_type": "code",
      "source": [
        "save_iris()"
      ],
      "metadata": {
        "id": "Mt-thtWSxajK"
      },
      "execution_count": null,
      "outputs": []
    },
    {
      "cell_type": "markdown",
      "source": [
        "⬆️ Click the above link to see the registered data in your Layer Project. "
      ],
      "metadata": {
        "id": "aU3H0eOtxjLF"
      }
    },
    {
      "cell_type": "markdown",
      "metadata": {
        "id": "2izhZJlCRxL6"
      },
      "source": [
        "### Run the function on Layer infrastructure \n",
        "\n",
        "You can also choose to execute the function on Layer's infrastructure. This is useful especially when dealing with large data that require a lot of computation power. \n",
        "\n",
        "\n",
        "Running functions on Layer infra is done by passing them to the `layer.run` command. The command expects a list of functions. "
      ]
    },
    {
      "cell_type": "code",
      "execution_count": null,
      "metadata": {
        "id": "Boq19eWgCexK"
      },
      "outputs": [],
      "source": [
        "# Execute the function on Layer infra\n",
        "layer.run([save_iris])"
      ]
    },
    {
      "cell_type": "markdown",
      "source": [
        "⬆️ Click the above link to see the registered data in your Layer Project. You will see that Layer automatically registered and versioned your data.\n",
        "\n",
        "\n",
        "![Data on Layer](https://files.slack.com/files-pri/T011VP38L1F-F03H34999NE/image.png?pub_secret=6fe1ca9154)"
      ],
      "metadata": {
        "collapsed": false,
        "pycharm": {
          "name": "#%% md\n"
        },
        "id": "XmcM9j4wv6Tq"
      }
    },
    {
      "cell_type": "markdown",
      "source": [
        "## How to load and use your data from Layer\n",
        "\n",
        "Once you register your data to Layer, you can load the data with simple calling layer.get_dataset(DATASET_NAME)"
      ],
      "metadata": {
        "collapsed": false,
        "id": "HP_ndkT1v6Tq"
      }
    },
    {
      "cell_type": "code",
      "execution_count": null,
      "outputs": [],
      "source": [
        "df = layer.get_dataset(\"layer/iris/datasets/iris_data\").to_pandas()\n",
        "df.head()"
      ],
      "metadata": {
        "pycharm": {
          "name": "#%%\n"
        },
        "id": "r67zrM7Ov6Tq"
      }
    },
    {
      "cell_type": "markdown",
      "source": [
        "## Where to go from here?\n",
        "\n",
        "Now that you have registered your first model to Layer, you can:\n",
        "\n",
        "- Join our [Slack Community ](https://bit.ly/layercommunityslack) to connect with other Layer users\n",
        "- Visit [Layer Examples Repo](https://github.com/layerai/examples) for more examples\n",
        "- Browse [Community Projects](https://layer.ai/community) to see more use cases\n",
        "- Check out [Layer Documentation](https://docs.layer.ai)\n",
        "- [Contact us](https://layer.ai/contact-us?interest=notebook) for your questions"
      ],
      "metadata": {
        "collapsed": false,
        "pycharm": {
          "name": "#%% md\n"
        },
        "id": "IZ3mWwBtv6Tq"
      }
    }
  ],
  "metadata": {
    "colab": {
      "name": "how_to_add_dataset_to_layer.ipynb",
      "provenance": [],
      "collapsed_sections": []
    },
    "kernelspec": {
      "display_name": "Python 3 (ipykernel)",
      "language": "python",
      "name": "python3"
    },
    "language_info": {
      "codemirror_mode": {
        "name": "ipython",
        "version": 3
      },
      "file_extension": ".py",
      "mimetype": "text/x-python",
      "name": "python",
      "nbconvert_exporter": "python",
      "pygments_lexer": "ipython3",
      "version": "3.8.5"
    }
  },
  "nbformat": 4,
  "nbformat_minor": 0
}