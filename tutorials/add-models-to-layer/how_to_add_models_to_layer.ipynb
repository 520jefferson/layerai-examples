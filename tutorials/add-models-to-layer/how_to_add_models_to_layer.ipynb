{
 "cells": [
  {
   "cell_type": "markdown",
   "id": "WLAqrwJHNyEJ",
   "metadata": {
    "id": "WLAqrwJHNyEJ"
   },
   "source": [
    "# Getting started with Layer\n",
    "\n",
    "[![Open in Layer](https://app.layer.ai/assets/badge.svg)](https://app.layer.ai/layer/titanic) [![Open in Colab](https://colab.research.google.com/assets/colab-badge.svg)](https://colab.research.google.com/github/layerai/examples/blob/main/titanic/Getting_Started_With_Layer.ipynb) [![Layer Examples Github](https://badgen.net/badge/icon/github?icon=github&label)](https://github.com/layerai/examples/tree/main/titanic)\n",
    "\n",
    "Layer helps you build, train and track all your machine learning project metadata including ML models and datasets‍ with semantic versioning, extensive artifact logging and dynamic reporting with local↔cloud training.\n",
    "\n",
    "In this quick walkthrough, we will see how to register and track our model with Layer."
   ]
  },
  {
   "cell_type": "markdown",
   "id": "pzfLqSWG5ylG",
   "metadata": {
    "id": "pzfLqSWG5ylG"
   },
   "source": [
    "## Installation\n",
    "\n",
    "Let's start with installing [Layer](https://layer.ai)."
   ]
  },
  {
   "cell_type": "code",
   "execution_count": null,
   "id": "42a92be3-9c8d-482e-b84e-ab53f60f621c",
   "metadata": {
    "id": "42a92be3-9c8d-482e-b84e-ab53f60f621c"
   },
   "outputs": [],
   "source": [
    "!pip install -U layer -q"
   ]
  },
  {
   "cell_type": "code",
   "execution_count": null,
   "id": "92e41abb-e315-4c4e-9ddd-c2d138e0dc0b",
   "metadata": {},
   "outputs": [],
   "source": [
    "from sklearn.datasets import fetch_california_housing\n",
    "from sklearn.metrics import mean_squared_error\n",
    "from sklearn.model_selection import train_test_split\n",
    "from layer.decorators import model\n",
    "import seaborn as sns\n",
    "import xgboost as xgb\n",
    "import pandas as pd\n",
    "import layer"
   ]
  },
  {
   "cell_type": "markdown",
   "id": "O_IwRmvBU1TJ",
   "metadata": {
    "id": "O_IwRmvBU1TJ"
   },
   "source": [
    "## Inititialize Your First Layer Project\n",
    "\n",
    "It's time to create your first [Layer Project](https://docs.app.layer.ai/docs/projects/layer-projects). \n",
    "\n",
    "Layer projects are basically containers to organize your machine learning project assets. They associate some combination of datasets and models. Layer projects are basically the front page of your ML projects."
   ]
  },
  {
   "cell_type": "code",
   "execution_count": null,
   "id": "5b074b9f-eca0-4c30-9b6b-1b181948a4b5",
   "metadata": {
    "id": "5b074b9f-eca0-4c30-9b6b-1b181948a4b5"
   },
   "outputs": [],
   "source": [
    "# Log in to your free account!\n",
    "layer.login()"
   ]
  },
  {
   "cell_type": "code",
   "execution_count": null,
   "id": "eLK78Wc7VBZr",
   "metadata": {
    "colab": {
     "base_uri": "https://localhost:8080/"
    },
    "id": "eLK78Wc7VBZr",
    "outputId": "b0cdaa69-e2f0-48b5-fcda-5ce22c8eda66"
   },
   "outputs": [],
   "source": [
    "layer.init(\"getting-started\")"
   ]
  },
  {
   "cell_type": "markdown",
   "id": "CDLCvsnxWrxG",
   "metadata": {
    "id": "CDLCvsnxWrxG"
   },
   "source": [
    "## Train and Register Your Model"
   ]
  },
  {
   "cell_type": "markdown",
   "id": "acd33b6e-38fe-4090-9289-89ef9503425f",
   "metadata": {},
   "source": [
    "We will be training a `RandomForestClassifier` to predict the survivors. As you can see the following function is a simple training function. We just added the [@model](https://docs.app.layer.ai/docs/sdk-library/model-decorator) decorator to integrate Layer into our pipeline"
   ]
  },
  {
   "cell_type": "code",
   "execution_count": null,
   "id": "9c7290ac-3e6f-4577-a582-4c51b2354e1e",
   "metadata": {},
   "outputs": [],
   "source": [
    "@model(\"california_housing\")\n",
    "def train():\n",
    "    X, y = fetch_california_housing(return_X_y=True)\n",
    "    X_train, X_test, y_train, y_test = train_test_split(X, y, random_state=0)\n",
    "    xgb_model = xgb.XGBRegressor()\n",
    "    xgb_model.fit(X_train, y_train)    \n",
    "    predictions = xgb_model.predict(X_test)\n",
    "    mse = mean_squared_error(y_test, predictions)\n",
    "    \n",
    "    layer.log({\"mse\": mse})\n",
    "    return xgb_model\n",
    "\n",
    "xgb_model = train()"
   ]
  },
  {
   "cell_type": "code",
   "execution_count": null,
   "id": "f9230c6d-646a-4174-b432-1acadbf7ccfa",
   "metadata": {},
   "outputs": [],
   "source": [
    "@model(\"california_housing\")\n",
    "def train():\n",
    "    X, y = fetch_california_housing(return_X_y=True)\n",
    "    X_train, X_test, y_train, y_test = train_test_split(X, y, random_state=0)\n",
    "    xgb_model = xgb.XGBRegressor(max_depth=parameters[\"max_depth\"], n_estimators=parameters[\"n_estimators\"])\n",
    "    xgb_model.fit(X_train, y_train)\n",
    "    \n",
    "    predictions = xgb_model.predict(X_test)\n",
    "    mse = mean_squared_error(y_test, predictions)\n",
    "    layer.log(parameters)\n",
    "    layer.log({\"mse\": mse})\n",
    "    return xgb_model\n",
    "\n",
    "parameters = { \"max_depth\":2, \"n_estimators\":50}\n",
    "xgb_model = train()"
   ]
  },
  {
   "cell_type": "code",
   "execution_count": null,
   "id": "d19c51aa-dd35-4647-b5f6-e93103c9934c",
   "metadata": {},
   "outputs": [],
   "source": [
    "@model(\"california_housing\")\n",
    "def train():\n",
    "    X, y = fetch_california_housing(return_X_y=True)\n",
    "    X_train, X_test, y_train, y_test = train_test_split(X, y, random_state=0)\n",
    "    xgb_model = xgb.XGBRegressor(max_depth=parameters[\"max_depth\"], n_estimators=parameters[\"n_estimators\"])\n",
    "    xgb_model.fit(X_train, y_train)\n",
    "    \n",
    "    predictions = xgb_model.predict(X_test)\n",
    "    mse = mean_squared_error(y_test, predictions)\n",
    "    \n",
    "    table = pd.DataFrame(zip(predictions,y_test),columns=['Predicted Price', \"Actual Price\"])\n",
    "    plot = sns.histplot((y_test-predictions), kde=True).figure\n",
    "    layer.log({\"Predictions\":plot})\n",
    "    layer.log({\"Predictions vs Actual\":table[:50]})\n",
    "    layer.log(parameters)\n",
    "    layer.log({\"mse\": mse})\n",
    "    \n",
    "    return xgb_model\n",
    "\n",
    "parameters = { \"max_depth\":4, \"n_estimators\":100}\n",
    "xgb_model = train()"
   ]
  },
  {
   "cell_type": "code",
   "execution_count": null,
   "id": "bfb82cbc-0aad-421b-a339-b33e93ff4d9b",
   "metadata": {},
   "outputs": [],
   "source": [
    "layer.run([train])"
   ]
  },
  {
   "cell_type": "markdown",
   "id": "qlGze9YFeDjy",
   "metadata": {
    "id": "qlGze9YFeDjy"
   },
   "source": [
    "### Fetching an ML model from Layer\n",
    "\n",
    "After you build the Layer Project, you can fetch your trained models from Layer with simple calling `layer.get_model(\"MODEL_NAME\")`\n",
    "\n",
    "If you [make your project public](https://docs.app.layer.ai/docs/projects/create-project), anyone even without a Layer account can fetch your models for their own use."
   ]
  },
  {
   "cell_type": "code",
   "execution_count": null,
   "id": "A2d-LGb99Jrr",
   "metadata": {
    "colab": {
     "base_uri": "https://localhost:8080/"
    },
    "id": "A2d-LGb99Jrr",
    "outputId": "ed7b05d5-a66f-4acf-aa29-646eeeb0cc62"
   },
   "outputs": [],
   "source": [
    "xgb_model = layer.get_model(\"california_housing\").get_train()\n",
    "\n",
    "X, y = fetch_california_housing(return_X_y=True)\n",
    "preds = xgb_model.predict(X)\n",
    "preds[0]"
   ]
  },
  {
   "cell_type": "markdown",
   "id": "Z8ZnD8htas_-",
   "metadata": {
    "id": "Z8ZnD8htas_-"
   },
   "source": [
    "## Where to go from here?\n",
    "\n",
    "Now that you have created first Layer Project, you can:\n",
    "\n",
    "- Join our [Slack Community ](https://bit.ly/layercommunityslack)\n",
    "- Visit [Layer Examples Repo](https://github.com/layerai/examples) for more examples\n",
    "- Browse [Trending Layer Projects](https://layer.ai) on our mainpage\n",
    "- Check out [Layer Documentation](https://docs.layer.ai) to learn more"
   ]
  }
 ],
 "metadata": {
  "colab": {
   "collapsed_sections": [],
   "name": "Getting Started with Layer",
   "provenance": []
  },
  "kernelspec": {
   "display_name": "Python 3 (ipykernel)",
   "language": "python",
   "name": "python3"
  },
  "language_info": {
   "codemirror_mode": {
    "name": "ipython",
    "version": 3
   },
   "file_extension": ".py",
   "mimetype": "text/x-python",
   "name": "python",
   "nbconvert_exporter": "python",
   "pygments_lexer": "ipython3",
   "version": "3.8.5"
  }
 },
 "nbformat": 4,
 "nbformat_minor": 5
}
