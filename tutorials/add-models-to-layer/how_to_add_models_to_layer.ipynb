{
 "cells": [
  {
   "cell_type": "markdown",
   "id": "WLAqrwJHNyEJ",
   "metadata": {
    "id": "WLAqrwJHNyEJ"
   },
   "source": [
    "# How to register and track your model with Layer\n",
    "\n",
    "[![Open in Layer](https://development.layer.co/assets/badge.svg)](https://app.layer.ai/layer/house_price_prediction/) [![Open in Colab](https://colab.research.google.com/assets/colab-badge.svg)](https://colab.research.google.com/github/layerai/examples/blob/main/tutorials/add-models-to-layer/how_to_add_models_to_layer.ipynb) [![Layer Examples Github](https://badgen.net/badge/icon/github?icon=github&label)](https://github.com/layerai/examples/tree/main/tutorials/add-models-to-layer)\n",
    "\n",
    "Layer helps you build, train and track all your machine learning project metadata including ML models and datasets‍ with semantic versioning, extensive artifact logging and dynamic reporting with local↔cloud training.\n",
    "\n",
    "In this quick walkthrough, we'll take a look at how to register and track ML models with Layer."
   ]
  },
  {
   "cell_type": "markdown",
   "id": "pzfLqSWG5ylG",
   "metadata": {
    "id": "pzfLqSWG5ylG"
   },
   "source": [
    "## Installation\n",
    "\n",
    "Let's start with installing [Layer](https://layer.ai)."
   ]
  },
  {
   "cell_type": "code",
   "execution_count": null,
   "id": "42a92be3-9c8d-482e-b84e-ab53f60f621c",
   "metadata": {
    "id": "42a92be3-9c8d-482e-b84e-ab53f60f621c"
   },
   "outputs": [],
   "source": [
    "!pip install -U layer -q"
   ]
  },
  {
   "cell_type": "code",
   "execution_count": null,
   "id": "92e41abb-e315-4c4e-9ddd-c2d138e0dc0b",
   "metadata": {},
   "outputs": [],
   "source": [
    "from sklearn.datasets import fetch_california_housing\n",
    "from sklearn.metrics import mean_squared_error\n",
    "from sklearn.model_selection import train_test_split\n",
    "from layer.decorators import model\n",
    "import seaborn as sns\n",
    "import xgboost as xgb\n",
    "import pandas as pd\n",
    "import layer"
   ]
  },
  {
   "cell_type": "markdown",
   "id": "O_IwRmvBU1TJ",
   "metadata": {
    "id": "O_IwRmvBU1TJ"
   },
   "source": [
    "## Inititialize Your First Layer Project\n",
    "\n",
    "It's time to create your first Layer project!\n",
    "\n",
    "[Layer Projects](https://docs.app.layer.ai/docs/projects/layer-projects) are smart containers to organize your machine learning metadata such as models, datasets, metrics, reports etc. They associate some combination of datasets and models. Layer projects are basically the front page of your ML projects which includes all your ML metadata including ML models, datasets, metric, parameters and more."
   ]
  },
  {
   "cell_type": "code",
   "execution_count": null,
   "id": "5b074b9f-eca0-4c30-9b6b-1b181948a4b5",
   "metadata": {
    "id": "5b074b9f-eca0-4c30-9b6b-1b181948a4b5"
   },
   "outputs": [],
   "source": [
    "# Log in to your free account!\n",
    "layer.login()"
   ]
  },
  {
   "cell_type": "code",
   "execution_count": null,
   "id": "eLK78Wc7VBZr",
   "metadata": {
    "colab": {
     "base_uri": "https://localhost:8080/"
    },
    "id": "eLK78Wc7VBZr",
    "outputId": "b0cdaa69-e2f0-48b5-fcda-5ce22c8eda66"
   },
   "outputs": [],
   "source": [
    "layer.init(\"house_price_prediction\")"
   ]
  },
  {
   "cell_type": "markdown",
   "id": "904dcb9f-44f4-4a18-8c3b-4d451cda0319",
   "metadata": {},
   "source": [
    "⬆️ Click this link to visit your Layer Project page."
   ]
  },
  {
   "cell_type": "markdown",
   "id": "CDLCvsnxWrxG",
   "metadata": {
    "id": "CDLCvsnxWrxG"
   },
   "source": [
    "## Train and Register Your Model"
   ]
  },
  {
   "cell_type": "markdown",
   "id": "acd33b6e-38fe-4090-9289-89ef9503425f",
   "metadata": {},
   "source": [
    "In this tutorial, we will be training a `XGBRegressor` to predict the house prices. We can see that this is a simple training function which returns the trained model and prints the `mean_square_error` of our model. We are going to use the `california_housing` data from `sklearn`."
   ]
  },
  {
   "cell_type": "code",
   "execution_count": null,
   "id": "3e86e3be-b60d-4219-ae71-1c1af44d1e13",
   "metadata": {},
   "outputs": [],
   "source": [
    "X, y = fetch_california_housing(return_X_y=True)\n",
    "X_train, X_test, y_train, y_test = train_test_split(X, y, random_state=0)"
   ]
  },
  {
   "cell_type": "code",
   "execution_count": null,
   "id": "19230d92-5fdb-4c75-9386-48455a869fd4",
   "metadata": {},
   "outputs": [],
   "source": [
    "def train():\n",
    "    xgb_model = xgb.XGBRegressor(silent=True)\n",
    "    xgb_model.fit(X_train, y_train)    \n",
    "    predictions = xgb_model.predict(X_test)\n",
    "\n",
    "    mse = mean_squared_error(y_test, predictions)    \n",
    "    print(\"mse: \", mse)\n",
    "    \n",
    "    return xgb_model\n",
    "\n",
    "xgb_model = train()"
   ]
  },
  {
   "cell_type": "markdown",
   "id": "6f52dcb0-3b54-45e1-93bb-f5b44522393e",
   "metadata": {
    "tags": []
   },
   "source": [
    "### 🔥 Now let's register our model to Layer!\n",
    "\n",
    "Simply add the `@model` decorator to your training function. Layer will register the returned trained model to your Layer Project. Let's also replace `print()` with `layer.log()` to enable experiment tracking."
   ]
  },
  {
   "cell_type": "code",
   "execution_count": null,
   "id": "9c7290ac-3e6f-4577-a582-4c51b2354e1e",
   "metadata": {},
   "outputs": [],
   "source": [
    "@model(\"california_housing\")\n",
    "def train():\n",
    "    xgb_model = xgb.XGBRegressor(silent=True)\n",
    "    xgb_model.fit(X_train, y_train)    \n",
    "    predictions = xgb_model.predict(X_test)\n",
    "\n",
    "    mse = mean_squared_error(y_test, predictions)    \n",
    "    layer.log({\"mse\": mse})\n",
    "    \n",
    "    return xgb_model\n",
    "\n",
    "xgb_model = train()"
   ]
  },
  {
   "cell_type": "markdown",
   "id": "f5464e8d-270c-4f1a-b052-28c6e0b3151e",
   "metadata": {},
   "source": [
    "⬆️ Click the above link to see the registered model in your Layer Project. You will see that Layer automatically registered and versioned your model.\n",
    "\n",
    "Let's do some manual hyperparameter tuning and compare our experiments if it changed anything on the `mse` metric."
   ]
  },
  {
   "cell_type": "code",
   "execution_count": null,
   "id": "f9230c6d-646a-4174-b432-1acadbf7ccfa",
   "metadata": {},
   "outputs": [],
   "source": [
    "@model(\"california_housing\")\n",
    "def train():\n",
    "    xgb_model = xgb.XGBRegressor(max_depth=parameters[\"max_depth\"], n_estimators=parameters[\"n_estimators\"], silent=True)\n",
    "    xgb_model.fit(X_train, y_train)\n",
    "    predictions = xgb_model.predict(X_test)\n",
    "    \n",
    "    mse = mean_squared_error(y_test, predictions)    \n",
    "    layer.log(parameters)\n",
    "    layer.log({\"mse\": mse})\n",
    "    \n",
    "    return xgb_model\n",
    "\n",
    "parameters = {\"max_depth\":1, \"n_estimators\":10}\n",
    "xgb_model = train()"
   ]
  },
  {
   "cell_type": "markdown",
   "id": "1d008ef5-4d95-4572-8ce3-19341c20f7f5",
   "metadata": {},
   "source": [
    "⬆️ Click the above link to compare your `mse` metric between your two training. \n",
    "Just click the checkbox by your first model version as shown in the image. Layer will show you how your `mse` metric has changed between these runs.\n",
    "\n",
    "<img src=\"https://raw.githubusercontent.com/layerai/examples/main/tutorials/add-models-to-layer/assets/layer_experiment_tracking.png\" alt=\"Layer compare experiments\" width=\"800\"/>"
   ]
  },
  {
   "cell_type": "markdown",
   "id": "f96b3199-6f90-42f5-85d9-8182631700b8",
   "metadata": {},
   "source": [
    "Now let's test different parameters. By the way, you can log plots and tables with `layer.log` too."
   ]
  },
  {
   "cell_type": "code",
   "execution_count": null,
   "id": "d19c51aa-dd35-4647-b5f6-e93103c9934c",
   "metadata": {},
   "outputs": [],
   "source": [
    "@model(\"california_housing\")\n",
    "def train():\n",
    "    xgb_model = xgb.XGBRegressor(max_depth=parameters[\"max_depth\"], n_estimators=parameters[\"n_estimators\"], silent=True)\n",
    "    xgb_model.fit(X_train, y_train)    \n",
    "    predictions = xgb_model.predict(X_test)\n",
    "    \n",
    "    mse = mean_squared_error(y_test, predictions)    \n",
    "    table = pd.DataFrame(zip(predictions,y_test),columns=['Predicted Price', \"Actual Price\"])\n",
    "    plot = sns.histplot((y_test-predictions), kde=True).figure\n",
    "    layer.log({\"Predictions\":plot})\n",
    "    layer.log({\"Predictions vs Actual\":table[:50]})\n",
    "    layer.log(parameters)\n",
    "    layer.log({\"mse\": mse})\n",
    "    \n",
    "    return xgb_model\n",
    "\n",
    "parameters = {\"max_depth\":4, \"n_estimators\":100}\n",
    "xgb_model = train()"
   ]
  },
  {
   "cell_type": "markdown",
   "id": "18840252-f6c4-434c-a5be-d779388351fe",
   "metadata": {},
   "source": [
    "⬆️ Clicking the above link you will find the logged tables and plots. You can do comparison with multiple versions of your models. Try it now!"
   ]
  },
  {
   "cell_type": "markdown",
   "id": "689d1ee8-9ec1-4743-8192-e43c21c6a9a0",
   "metadata": {},
   "source": [
    "### 🌐 You can also train your model on Layer infra.\n",
    "\n",
    "Layer is a very advanced metadata store where you can store your models, datasets but also your pipelines. Just like you registered your model, you can also register and execute your machine learning pipeline on Layer. This is especially usefull when:\n",
    "- Your training data is too big too fit in your local machine.\n",
    "- Your model requires special infra like a high-end GPU that you don't have locally.\n",
    "\n",
    "Now instead of running your `train` function directly, just pass it to Layer with `layer.run([train])`. Layer will pickle your function and run it on Layer infra."
   ]
  },
  {
   "cell_type": "code",
   "execution_count": null,
   "id": "bfb82cbc-0aad-421b-a339-b33e93ff4d9b",
   "metadata": {},
   "outputs": [],
   "source": [
    "layer.run([train])"
   ]
  },
  {
   "cell_type": "markdown",
   "id": "qlGze9YFeDjy",
   "metadata": {
    "id": "qlGze9YFeDjy"
   },
   "source": [
    "## 🚀 How to load and use your model from Layer\n",
    "\n",
    "Once you register your model to Layer, you can load your model from Layer with simple calling `layer.get_model(MODEL_NAME)`\n",
    "\n",
    "Now, let's see how to load and make predictions with your model:"
   ]
  },
  {
   "cell_type": "code",
   "execution_count": null,
   "id": "A2d-LGb99Jrr",
   "metadata": {
    "colab": {
     "base_uri": "https://localhost:8080/"
    },
    "id": "A2d-LGb99Jrr",
    "outputId": "ed7b05d5-a66f-4acf-aa29-646eeeb0cc62"
   },
   "outputs": [],
   "source": [
    "xgb_model = layer.get_model(\"california_housing\").get_train()\n",
    "\n",
    "X, y = fetch_california_housing(return_X_y=True)\n",
    "preds = xgb_model.predict(X)\n",
    "print(\"Prediction: \", preds[0])"
   ]
  },
  {
   "cell_type": "markdown",
   "id": "Z8ZnD8htas_-",
   "metadata": {
    "id": "Z8ZnD8htas_-"
   },
   "source": [
    "## Where to go from here?\n",
    "\n",
    "Now that you have registered your first model to Layer, you can:\n",
    "\n",
    "- Join our [Slack Community ](https://bit.ly/layercommunityslack) to connect with other Layer users\n",
    "- Visit [Layer Examples Repo](https://github.com/layerai/examples) for more examples\n",
    "- Browse [Community Projects](https://layer.ai/community) to see more use cases\n",
    "- Check out [Layer Documentation](https://docs.layer.ai)\n",
    "- [Contact us](https://layer.ai/contact-us?interest=notebook) for your questions"
   ]
  }
 ],
 "metadata": {
  "colab": {
   "collapsed_sections": [],
   "name": "Getting Started with Layer",
   "provenance": []
  },
  "kernelspec": {
   "display_name": "Python 3 (ipykernel)",
   "language": "python",
   "name": "python3"
  },
  "language_info": {
   "codemirror_mode": {
    "name": "ipython",
    "version": 3
   },
   "file_extension": ".py",
   "mimetype": "text/x-python",
   "name": "python",
   "nbconvert_exporter": "python",
   "pygments_lexer": "ipython3",
   "version": "3.8.5"
  }
 },
 "nbformat": 4,
 "nbformat_minor": 5
}
