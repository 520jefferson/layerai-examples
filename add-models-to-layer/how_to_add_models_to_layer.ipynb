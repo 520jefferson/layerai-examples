{
  "cells": [
    {
      "cell_type": "markdown",
      "metadata": {
        "id": "6af98WlEN0cV"
      },
      "source": [
        "# How to add dataset to Layer"
      ]
    },
    {
      "cell_type": "markdown",
      "source": [
        "[![Open in Layer](https://development.layer.co/assets/badge.svg)](https://app.layer.ai/layer/iris/) [![Open in Colab](https://colab.research.google.com/assets/colab-badge.svg)](https://colab.research.google.com/github/layerai/examples/blob/main/add-datasets-to-layer/how_to_add_dataset_to_layer) [![Layer Examples Github](https://badgen.net/badge/icon/github?icon=github&label)](https://github.com/layerai/examples/tree/main/add-datasets-to-layer)\n"
      ],
      "metadata": {
        "id": "2qd31Hm0ZdeT"
      }
    },
    {
      "cell_type": "markdown",
      "source": [
        "In this notebook, we'll look at how to save a model to Layer. Layer supports popular machine learning libraries and frameworks. "
      ],
      "metadata": {
        "id": "FM4TVSaZZgBX"
      }
    },
    {
      "cell_type": "markdown",
      "source": [
        "## Install Layer\n",
        "Ensure that you are using the latest version of Layer. "
      ],
      "metadata": {
        "id": "rFUi2lR6ZsJI"
      }
    },
    {
      "cell_type": "code",
      "execution_count": 1,
      "metadata": {
        "colab": {
          "base_uri": "https://localhost:8080/"
        },
        "id": "XWCHYmVeNpmQ",
        "outputId": "d41a2c87-625e-499d-c0b1-c4cfe07925b5"
      },
      "outputs": [
        {
          "output_type": "stream",
          "name": "stdout",
          "text": [
            "\u001b[K     |████████████████████████████████| 29.5 MB 45.2 MB/s \n",
            "\u001b[K     |████████████████████████████████| 3.6 MB 35.0 MB/s \n",
            "\u001b[K     |████████████████████████████████| 381 kB 20.9 MB/s \n",
            "\u001b[K     |████████████████████████████████| 596 kB 36.1 MB/s \n",
            "\u001b[K     |████████████████████████████████| 271 kB 38.9 MB/s \n",
            "\u001b[K     |████████████████████████████████| 97 kB 5.5 MB/s \n",
            "\u001b[K     |████████████████████████████████| 4.0 MB 26.4 MB/s \n",
            "\u001b[K     |████████████████████████████████| 212.4 MB 71 kB/s \n",
            "\u001b[K     |████████████████████████████████| 56 kB 3.7 MB/s \n",
            "\u001b[K     |████████████████████████████████| 2.4 MB 27.7 MB/s \n",
            "\u001b[K     |████████████████████████████████| 16.7 MB 31.8 MB/s \n",
            "\u001b[K     |████████████████████████████████| 96 kB 4.9 MB/s \n",
            "\u001b[K     |████████████████████████████████| 1.3 MB 47.5 MB/s \n",
            "\u001b[K     |████████████████████████████████| 159 kB 43.0 MB/s \n",
            "\u001b[K     |████████████████████████████████| 212 kB 55.5 MB/s \n",
            "\u001b[K     |████████████████████████████████| 256 kB 61.2 MB/s \n",
            "\u001b[K     |████████████████████████████████| 132 kB 28.5 MB/s \n",
            "\u001b[K     |████████████████████████████████| 26.7 MB 1.7 MB/s \n",
            "\u001b[K     |████████████████████████████████| 40 kB 4.8 MB/s \n",
            "\u001b[K     |████████████████████████████████| 63 kB 1.3 MB/s \n",
            "\u001b[K     |████████████████████████████████| 198 kB 42.8 MB/s \n",
            "\u001b[K     |████████████████████████████████| 1.1 MB 42.5 MB/s \n",
            "\u001b[K     |████████████████████████████████| 94 kB 2.9 MB/s \n",
            "\u001b[K     |████████████████████████████████| 144 kB 46.3 MB/s \n",
            "\u001b[K     |████████████████████████████████| 1.3 MB 38.4 MB/s \n",
            "\u001b[K     |████████████████████████████████| 1.3 MB 41.2 MB/s \n",
            "\u001b[K     |████████████████████████████████| 1.1 MB 41.0 MB/s \n",
            "\u001b[K     |████████████████████████████████| 263 kB 47.0 MB/s \n",
            "\u001b[K     |████████████████████████████████| 929 kB 43.1 MB/s \n",
            "\u001b[K     |████████████████████████████████| 8.7 MB 40.8 MB/s \n",
            "\u001b[K     |████████████████████████████████| 79 kB 5.3 MB/s \n",
            "\u001b[K     |████████████████████████████████| 138 kB 45.3 MB/s \n",
            "\u001b[K     |████████████████████████████████| 62 kB 670 kB/s \n",
            "\u001b[K     |████████████████████████████████| 146 kB 43.2 MB/s \n",
            "\u001b[K     |████████████████████████████████| 210 kB 48.9 MB/s \n",
            "\u001b[K     |████████████████████████████████| 79 kB 6.7 MB/s \n",
            "\u001b[K     |████████████████████████████████| 54 kB 2.2 MB/s \n",
            "\u001b[K     |████████████████████████████████| 127 kB 43.8 MB/s \n",
            "\u001b[K     |████████████████████████████████| 51 kB 5.7 MB/s \n",
            "\u001b[K     |████████████████████████████████| 291 kB 50.7 MB/s \n",
            "\u001b[K     |████████████████████████████████| 78 kB 6.1 MB/s \n",
            "\u001b[K     |████████████████████████████████| 95 kB 3.6 MB/s \n",
            "\u001b[K     |████████████████████████████████| 132 kB 44.7 MB/s \n",
            "\u001b[K     |████████████████████████████████| 224 kB 37.4 MB/s \n",
            "\u001b[K     |████████████████████████████████| 895 kB 42.9 MB/s \n",
            "\u001b[K     |████████████████████████████████| 6.5 MB 35.0 MB/s \n",
            "\u001b[K     |████████████████████████████████| 77 kB 5.5 MB/s \n",
            "\u001b[?25h  Building wheel for pyspark (setup.py) ... \u001b[?25l\u001b[?25hdone\n",
            "  Building wheel for validate-email (setup.py) ... \u001b[?25l\u001b[?25hdone\n",
            "  Building wheel for databricks-cli (setup.py) ... \u001b[?25l\u001b[?25hdone\n",
            "  Building wheel for polling (setup.py) ... \u001b[?25l\u001b[?25hdone\n",
            "\u001b[31mERROR: pip's dependency resolver does not currently take into account all the packages that are installed. This behaviour is the source of the following dependency conflicts.\n",
            "nbclient 0.5.13 requires jupyter-client>=6.1.5, but you have jupyter-client 5.3.5 which is incompatible.\n",
            "jupyter-console 5.2.0 requires prompt-toolkit<2.0.0,>=1.0.0, but you have prompt-toolkit 3.0.29 which is incompatible.\n",
            "ipython 5.5.0 requires prompt-toolkit<2.0.0,>=1.0.4, but you have prompt-toolkit 3.0.29 which is incompatible.\n",
            "gym 0.17.3 requires cloudpickle<1.7.0,>=1.2.0, but you have cloudpickle 2.0.0 which is incompatible.\n",
            "datascience 0.10.6 requires folium==0.2.1, but you have folium 0.8.3 which is incompatible.\u001b[0m\n"
          ]
        }
      ],
      "source": [
        "!pip install layer-sdk --upgrade -qqq"
      ]
    },
    {
      "cell_type": "markdown",
      "source": [
        "## Aunthenticate your Layer account\n",
        "The next step is to log in to your Layer account. The model will be saved under this account. "
      ],
      "metadata": {
        "id": "KYwA38aSZ381"
      }
    },
    {
      "cell_type": "code",
      "execution_count": 2,
      "metadata": {
        "colab": {
          "base_uri": "https://localhost:8080/"
        },
        "id": "UrTmmRFPNrbo",
        "outputId": "6bf5fd42-27e9-455a-c17f-10510579ee90"
      },
      "outputs": [
        {
          "output_type": "stream",
          "name": "stdout",
          "text": [
            "Please open the following link in your web browser. Once logged in, copy the code and paste it here.\n",
            "https://auth.app.layer.ai/authorize?response_type=code&code_challenge=Cv0mElMkKnKQxRmWNNmFvIC3jtTZyrl7851TLokZ5xE&code_challenge_method=S256&client_id=0STDdcnpK48P8A429EAAn93WNuLmViLR&redirect_uri=https://app.layer.ai/oauth/code&scope=offline_access&audience=https://app.layer.ai\n",
            "Code: NGozTQbVQlQenSOL47pAqwYtvzJTWlEFGme1LpUQBKwwA\n",
            "Successfully logged into https://app.layer.ai\n"
          ]
        }
      ],
      "source": [
        "import layer\n",
        "layer.login()"
      ]
    },
    {
      "cell_type": "markdown",
      "source": [
        "## Initialize a Layer project\n",
        "\n",
        "Next, we need to initialize a Layer project. The model will be saved under this project. "
      ],
      "metadata": {
        "id": "_h5NccohaFXL"
      }
    },
    {
      "cell_type": "code",
      "execution_count": 3,
      "metadata": {
        "id": "9o2c23XxOHC1",
        "colab": {
          "base_uri": "https://localhost:8080/"
        },
        "outputId": "c6842a4d-aee6-4d4c-aa50-fcc28ade0dd5"
      },
      "outputs": [
        {
          "output_type": "execute_result",
          "data": {
            "text/plain": [
              "Project(name='iris', raw_datasets=[], derived_datasets=[], featuresets=[], models=[], path=PosixPath('.'), project_files_hash='', readme='', account=Account(id=UUID('add1b570-c8e7-4187-b747-1d01104893a9'), name='layer'), _id=UUID('4cdaec68-aa9c-4bf0-8090-5fec26021135'), functions=[])"
            ]
          },
          "metadata": {},
          "execution_count": 3
        }
      ],
      "source": [
        "# ++ init Layer\n",
        "layer.init(\"iris\")"
      ]
    },
    {
      "cell_type": "markdown",
      "source": [
        "## Create the model\n",
        "\n",
        "Next, let's create a simple model using the Iris dataset."
      ],
      "metadata": {
        "id": "gRMNVaguaUXF"
      }
    },
    {
      "cell_type": "code",
      "source": [
        "def save_iris_model():\n",
        "  from sklearn.svm import SVC\n",
        "  from sklearn.model_selection import train_test_split\n",
        "  dataset = layer.get_dataset('layer/iris/datasets/iris_data').to_pandas()\n",
        "  X = dataset.drop(['Id','Species'], axis = 1)\n",
        "  y = dataset['Species']\n",
        "  X_train, X_test, y_train, y_test = train_test_split( X, y, test_size=0.33, random_state=42)\n",
        "  model = SVC()\n",
        "  model.fit(X_train, y_train)\n",
        "  return model"
      ],
      "metadata": {
        "id": "CoCqkd6waTjD"
      },
      "execution_count": 12,
      "outputs": []
    },
    {
      "cell_type": "markdown",
      "source": [
        "As you can see above, we have created a function that returns a model. In order to save this model to Layer, we decorate this function with the `model` decorator. "
      ],
      "metadata": {
        "id": "CHGM_87Zag_t"
      }
    },
    {
      "cell_type": "markdown",
      "source": [
        "### Use the model decorator\n",
        "\n",
        "The [model](https://docs.app.layer.ai/docs/sdk-library/model-decorator) decorator is used to wrap any function that trains a model. Functions decorated with the `model` decorator should return a model object. Layer stores the resulting model whether the decorated function is executed locally or via Layer infra. "
      ],
      "metadata": {
        "id": "3xtVb3jGaufi"
      }
    },
    {
      "cell_type": "code",
      "execution_count": 9,
      "metadata": {
        "id": "m9T5IY26PrnC"
      },
      "outputs": [],
      "source": [
        "from layer.decorators import model\n",
        "@model(\"iris_model\")\n",
        "def save_iris_model():\n",
        "  from sklearn.svm import SVC\n",
        "  from sklearn.model_selection import train_test_split\n",
        "  dataset = layer.get_dataset('layer/iris/datasets/iris_data').to_pandas()\n",
        "  X = dataset.drop(['Id','Species'], axis = 1)\n",
        "  y = dataset['Species']\n",
        "  X_train, X_test, y_train, y_test = train_test_split( X, y, test_size=0.33, random_state=42)\n",
        "  model = SVC()\n",
        "  model.fit(X_train, y_train)\n",
        "  return model"
      ]
    },
    {
      "cell_type": "markdown",
      "source": [
        "### Run the function\n",
        "\n",
        "The final step is to execute the function. Models can be trained on the Layer infra by passing the training function to `layer.run`. When this runs successfully, Layer prints the link to the model. Clicking it takes you to the model page on Layer. "
      ],
      "metadata": {
        "id": "dlwU6hnfbwmk"
      }
    },
    {
      "cell_type": "code",
      "execution_count": 11,
      "metadata": {
        "colab": {
          "base_uri": "https://localhost:8080/",
          "height": 70,
          "referenced_widgets": [
            "e4cbed28f8f04c7089dba27f51c5ffa4",
            "800cbd4f18f943ec8c26c6b7495abda6"
          ]
        },
        "id": "ufmlCr3qPI4Q",
        "outputId": "9542c9d7-7dc9-46d2-a46b-a7fb64277d6c"
      },
      "outputs": [
        {
          "output_type": "display_data",
          "data": {
            "text/plain": [
              "Output()"
            ],
            "application/vnd.jupyter.widget-view+json": {
              "version_major": 2,
              "version_minor": 0,
              "model_id": "e4cbed28f8f04c7089dba27f51c5ffa4"
            }
          },
          "metadata": {}
        },
        {
          "output_type": "execute_result",
          "data": {
            "text/plain": [
              "Run(project_name='iris')"
            ]
          },
          "metadata": {},
          "execution_count": 11
        }
      ],
      "source": [
        "layer.run([save_iris_model])"
      ]
    }
  ],
  "metadata": {
    "colab": {
      "name": "How to add models to Layer.ipynb",
      "provenance": [],
      "collapsed_sections": []
    },
    "kernelspec": {
      "display_name": "Python 3",
      "name": "python3"
    },
    "language_info": {
      "name": "python"
    },
    "widgets": {
      "application/vnd.jupyter.widget-state+json": {
        "e4cbed28f8f04c7089dba27f51c5ffa4": {
          "model_module": "@jupyter-widgets/output",
          "model_name": "OutputModel",
          "model_module_version": "1.0.0",
          "state": {
            "_dom_classes": [],
            "_model_module": "@jupyter-widgets/output",
            "_model_module_version": "1.0.0",
            "_model_name": "OutputModel",
            "_view_count": null,
            "_view_module": "@jupyter-widgets/output",
            "_view_module_version": "1.0.0",
            "_view_name": "OutputView",
            "layout": "IPY_MODEL_800cbd4f18f943ec8c26c6b7495abda6",
            "msg_id": "",
            "outputs": [
              {
                "output_type": "display_data",
                "data": {
                  "text/plain": "✅  iris_model           \u001b[38;2;52;211;153m━━━━━━━━━━━━━━━━━━━━━━\u001b[0m \u001b[38;2;52;211;153m        done         \u001b[0m \u001b[39m[ \u001b[0m\u001b[33m0:00:13\u001b[0m\u001b[39m ]\u001b[0m \n    \u001b]8;id=689305;https://app.layer.ai/layer/iris/models/iris_model\u001b\\\u001b[4;38;2;161;161;169mhttps://app.layer.ai/layer/iris/models/iris_model\u001b[0m\u001b]8;;\u001b\\                             \n",
                  "text/html": "<pre style=\"white-space:pre;overflow-x:auto;line-height:normal;font-family:Menlo,'DejaVu Sans Mono',consolas,'Courier New',monospace\">✅  iris_model           <span style=\"color: #34d399; text-decoration-color: #34d399\">━━━━━━━━━━━━━━━━━━━━━━</span> <span style=\"color: #34d399; text-decoration-color: #34d399\">        done         </span> <span style=\"color: #000000; text-decoration-color: #000000\">[ </span><span style=\"color: #808000; text-decoration-color: #808000\">0:00:13</span><span style=\"color: #000000; text-decoration-color: #000000\"> ]</span> \n    <a href=\"https://app.layer.ai/layer/iris/models/iris_model\"><span style=\"color: #a1a1a9; text-decoration-color: #a1a1a9; text-decoration: underline\">https://app.layer.ai/layer/iris/models/iris_model</span></a>                             \n</pre>\n"
                },
                "metadata": {}
              }
            ]
          }
        },
        "800cbd4f18f943ec8c26c6b7495abda6": {
          "model_module": "@jupyter-widgets/base",
          "model_name": "LayoutModel",
          "model_module_version": "1.2.0",
          "state": {
            "_model_module": "@jupyter-widgets/base",
            "_model_module_version": "1.2.0",
            "_model_name": "LayoutModel",
            "_view_count": null,
            "_view_module": "@jupyter-widgets/base",
            "_view_module_version": "1.2.0",
            "_view_name": "LayoutView",
            "align_content": null,
            "align_items": null,
            "align_self": null,
            "border": null,
            "bottom": null,
            "display": null,
            "flex": null,
            "flex_flow": null,
            "grid_area": null,
            "grid_auto_columns": null,
            "grid_auto_flow": null,
            "grid_auto_rows": null,
            "grid_column": null,
            "grid_gap": null,
            "grid_row": null,
            "grid_template_areas": null,
            "grid_template_columns": null,
            "grid_template_rows": null,
            "height": null,
            "justify_content": null,
            "justify_items": null,
            "left": null,
            "margin": null,
            "max_height": null,
            "max_width": null,
            "min_height": null,
            "min_width": null,
            "object_fit": null,
            "object_position": null,
            "order": null,
            "overflow": null,
            "overflow_x": null,
            "overflow_y": null,
            "padding": null,
            "right": null,
            "top": null,
            "visibility": null,
            "width": null
          }
        }
      }
    }
  },
  "nbformat": 4,
  "nbformat_minor": 0
}