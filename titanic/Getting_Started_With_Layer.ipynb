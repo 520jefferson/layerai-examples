{
  "cells": [
    {
      "cell_type": "markdown",
      "source": [
        "# Getting started with Layer\n",
        "\n",
        "[![Open in Layer](https://development.layer.co/assets/badge.svg)](https://development.layer.co/layer/titanic) [![Open in Colab](https://colab.research.google.com/assets/colab-badge.svg)](https://colab.research.google.com/github/layerai/examples/blob/main/titanic/GettingStartedWithLayer.ipynb) [![Layer Examples Github](https://badgen.net/badge/icon/github?icon=github&label)](https://github.com/layerai/examples/tree/main/titanic)\n",
        "\n",
        "In this quick walkthrough, we will train a machine learning model to predict the survivors of the Titanic disaster and deploy it for real-time inference using Layer.\n"
      ],
      "metadata": {
        "id": "WLAqrwJHNyEJ"
      },
      "id": "WLAqrwJHNyEJ"
    },
    {
      "cell_type": "markdown",
      "metadata": {
        "id": "pzfLqSWG5ylG"
      },
      "source": [
        "# Installation\n"
      ],
      "id": "pzfLqSWG5ylG"
    },
    {
      "cell_type": "code",
      "execution_count": null,
      "metadata": {
        "id": "42a92be3-9c8d-482e-b84e-ab53f60f621c"
      },
      "outputs": [],
      "source": [
        "!pip install --upgrade layer-sdk -q"
      ],
      "id": "42a92be3-9c8d-482e-b84e-ab53f60f621c"
    },
    {
      "cell_type": "code",
      "source": [
        "from layer.decorators import dataset, model,resources\n",
        "from sklearn.ensemble import RandomForestClassifier\n",
        "from sklearn.model_selection import train_test_split\n",
        "from sklearn.metrics import accuracy_score, f1_score\n",
        "import pandas as pd\n",
        "import numpy as np\n",
        "import layer"
      ],
      "metadata": {
        "id": "M1yMtkp8Uaiu"
      },
      "id": "M1yMtkp8Uaiu",
      "execution_count": 12,
      "outputs": []
    },
    {
      "cell_type": "markdown",
      "metadata": {
        "id": "3v42utb16Fl9"
      },
      "source": [
        "# Register and Login\n",
        "\n",
        "To start using Layer, you have to register and login. Run the following cell, click the link, register and paste the code in the input"
      ],
      "id": "3v42utb16Fl9"
    },
    {
      "cell_type": "code",
      "execution_count": null,
      "metadata": {
        "id": "5b074b9f-eca0-4c30-9b6b-1b181948a4b5"
      },
      "outputs": [],
      "source": [
        "layer.login(\"https://development.layer.co/\")"
      ],
      "id": "5b074b9f-eca0-4c30-9b6b-1b181948a4b5"
    },
    {
      "cell_type": "markdown",
      "source": [
        "# Inititialize Your First Layer Project\n",
        "\n",
        "It's time to create your first Layer Project. "
      ],
      "metadata": {
        "id": "O_IwRmvBU1TJ"
      },
      "id": "O_IwRmvBU1TJ"
    },
    {
      "cell_type": "code",
      "source": [
        "layer.init(\"titanic\")"
      ],
      "metadata": {
        "id": "eLK78Wc7VBZr"
      },
      "id": "eLK78Wc7VBZr",
      "execution_count": null,
      "outputs": []
    },
    {
      "cell_type": "markdown",
      "metadata": {
        "id": "HL9bECPb6U4Z"
      },
      "source": [
        "# Build Passengers Dataset\n",
        "\n",
        "Let's start building our data to train our model. We will be using the Kaggle Titanic Dataset which consists two datasets:\n",
        "\n",
        "- train.csv\n",
        "- test.csv\n",
        "\n",
        "Let's clone the [Layer Titanic Project](https://github.com/layerai/examples/tree/main/titanic) repo which has these datasets."
      ],
      "id": "HL9bECPb6U4Z"
    },
    {
      "cell_type": "code",
      "source": [
        "!git clone https://github.com/layerai/examples\n",
        "!mv ./examples/titanic/* ./"
      ],
      "metadata": {
        "id": "Wx4qCBKoSjoX"
      },
      "id": "Wx4qCBKoSjoX",
      "execution_count": null,
      "outputs": []
    },
    {
      "cell_type": "markdown",
      "source": [
        "Ok, we have our data ready in the `./data` folder. Now we are going to be building the Passengers dataset and register to Layer."
      ],
      "metadata": {
        "id": "0tBZz52ZUlYD"
      },
      "id": "0tBZz52ZUlYD"
    },
    {
      "cell_type": "code",
      "execution_count": null,
      "metadata": {
        "id": "c8816120-2343-49be-93da-3ffbb1d328d1"
      },
      "outputs": [],
      "source": [
        "def clean_gender(sex):\n",
        "    result = 0\n",
        "    if sex == \"female\":\n",
        "        result = 0\n",
        "    elif sex == \"male\":\n",
        "        result = 1\n",
        "    return result\n",
        "\n",
        "\n",
        "def clean_age(data):\n",
        "    age = data[0]\n",
        "    pclass = data[1]\n",
        "    if pd.isnull(age):\n",
        "        if pclass == 1:\n",
        "            return 37\n",
        "        elif pclass == 2:\n",
        "            return 29\n",
        "        else:\n",
        "            return 24\n",
        "    else:\n",
        "        return age  \n",
        "\n",
        "@dataset(\"passengers\")\n",
        "@resources(path=\"./data\")\n",
        "def build_passengers_dataset():\n",
        "  train_df = pd.read_csv(\"data/train.csv\")\n",
        "  test_df = pd.read_csv(\"data/test.csv\")\n",
        "  df = train_df.append(test_df)\n",
        "\n",
        "  df['Sex'] = df['Sex'].apply(clean_gender)\n",
        "  df['Age'] = df[['Age', 'Pclass']].apply(clean_age, axis=1)\n",
        "  df = df.drop([\"PassengerId\", \"Name\", \"Cabin\", \"Ticket\", \"Embarked\"], axis=1)\n",
        "\n",
        "  return df"
      ],
      "id": "c8816120-2343-49be-93da-3ffbb1d328d1"
    },
    {
      "cell_type": "code",
      "source": [
        "#build_passengers_dataset()\n",
        "\n",
        "layer.run([build_passengers_dataset])"
      ],
      "metadata": {
        "id": "t99DdLbfelD8"
      },
      "id": "t99DdLbfelD8",
      "execution_count": null,
      "outputs": []
    },
    {
      "cell_type": "markdown",
      "source": [
        "# Train Survival Model"
      ],
      "metadata": {
        "id": "CDLCvsnxWrxG"
      },
      "id": "CDLCvsnxWrxG"
    },
    {
      "cell_type": "code",
      "source": [
        "@model(name='survival_model')\n",
        "def train():\n",
        "    test_size = 0.3\n",
        "    random_state = 42\n",
        "    n_estimators = 100\n",
        "\n",
        "    layer.log({\"test_size\": test_size, \n",
        "               \"random_state\" : random_state,\n",
        "               \"n_estimators\": n_estimators})\n",
        "\n",
        "    df = layer.get_dataset(\"passengers\").to_pandas()\n",
        "    X = df.drop([\"Survived\"], axis=1)\n",
        "    y = df[\"Survived\"]\n",
        "    X_train, X_test, y_train, y_test = train_test_split(X, y, test_size=test_size, random_state=random_state)\n",
        "    \n",
        "    random_forest = RandomForestClassifier(n_estimators=n_estimators)\n",
        "    random_forest.fit(X_train, y_train)\n",
        "    y_pred = random_forest.predict(X_test)\n",
        "    return random_forest"
      ],
      "metadata": {
        "id": "Qb2lpbhIWrRF"
      },
      "id": "Qb2lpbhIWrRF",
      "execution_count": null,
      "outputs": []
    },
    {
      "cell_type": "code",
      "source": [
        "#train()\n",
        "\n",
        "layer.run([train])"
      ],
      "metadata": {
        "id": "ErPTL-GPerQn"
      },
      "id": "ErPTL-GPerQn",
      "execution_count": null,
      "outputs": []
    },
    {
      "cell_type": "markdown",
      "metadata": {
        "id": "sfBEUzvS7oVY"
      },
      "source": [
        "# Results\n",
        "\n",
        "After you train your model, you can see all your datasets and model experiments here in the Layer interface\n",
        "\n",
        "https://development.layer.co/\n",
        "\n",
        "Or you can re-use one of the entities you have created."
      ],
      "id": "sfBEUzvS7oVY"
    },
    {
      "cell_type": "markdown",
      "source": [
        "### Fetching an ML model from Layer\n",
        "\n",
        "After you build the Layer Project, you can fetch your trained models from Layer with simple calling:\n",
        "```python\n",
        "layer.get_model(\"MODEL_NAME\")\n",
        "```\n",
        "If you [make your project public](https://docs.development.layer.co/docs/projects/create-project), anyone even without a Layer account can fetch your models for their own use."
      ],
      "metadata": {
        "id": "qlGze9YFeDjy"
      },
      "id": "qlGze9YFeDjy"
    },
    {
      "cell_type": "code",
      "execution_count": 37,
      "metadata": {
        "colab": {
          "base_uri": "https://localhost:8080/"
        },
        "id": "A2d-LGb99Jrr",
        "outputId": "ed7b05d5-a66f-4acf-aa29-646eeeb0cc62"
      },
      "outputs": [
        {
          "output_type": "execute_result",
          "data": {
            "text/plain": [
              "{}"
            ]
          },
          "metadata": {},
          "execution_count": 37
        }
      ],
      "source": [
        "survival_model = layer.get_model(\"survival_model\")\n",
        "survival_model.metrics"
      ],
      "id": "A2d-LGb99Jrr"
    },
    {
      "cell_type": "markdown",
      "source": [
        "### Fetching a dataset from Layer\n",
        "\n",
        "Just like the models, you can fetch a dataset that you have built under a Layer Project. Anyone can fetch and use your dataset if your project is public"
      ],
      "metadata": {
        "id": "ztVBdCULd-oI"
      },
      "id": "ztVBdCULd-oI"
    },
    {
      "cell_type": "code",
      "execution_count": 20,
      "metadata": {
        "colab": {
          "base_uri": "https://localhost:8080/",
          "height": 206
        },
        "id": "9KzdA_66_FYw",
        "outputId": "20057537-26d5-4906-ee34-f7753b4dc850"
      },
      "outputs": [
        {
          "output_type": "execute_result",
          "data": {
            "text/plain": [
              "   Survived  Pclass  Sex   Age  SibSp  Parch     Fare\n",
              "0       0.0       3    1  22.0      1      0   7.2500\n",
              "1       1.0       1    0  38.0      1      0  71.2833\n",
              "2       1.0       3    0  26.0      0      0   7.9250\n",
              "3       1.0       1    0  35.0      1      0  53.1000\n",
              "4       0.0       3    1  35.0      0      0   8.0500"
            ],
            "text/html": [
              "\n",
              "  <div id=\"df-1c7df262-2cdb-4fee-b0ea-7ac5c0a327a8\">\n",
              "    <div class=\"colab-df-container\">\n",
              "      <div>\n",
              "<style scoped>\n",
              "    .dataframe tbody tr th:only-of-type {\n",
              "        vertical-align: middle;\n",
              "    }\n",
              "\n",
              "    .dataframe tbody tr th {\n",
              "        vertical-align: top;\n",
              "    }\n",
              "\n",
              "    .dataframe thead th {\n",
              "        text-align: right;\n",
              "    }\n",
              "</style>\n",
              "<table border=\"1\" class=\"dataframe\">\n",
              "  <thead>\n",
              "    <tr style=\"text-align: right;\">\n",
              "      <th></th>\n",
              "      <th>Survived</th>\n",
              "      <th>Pclass</th>\n",
              "      <th>Sex</th>\n",
              "      <th>Age</th>\n",
              "      <th>SibSp</th>\n",
              "      <th>Parch</th>\n",
              "      <th>Fare</th>\n",
              "    </tr>\n",
              "  </thead>\n",
              "  <tbody>\n",
              "    <tr>\n",
              "      <th>0</th>\n",
              "      <td>0.0</td>\n",
              "      <td>3</td>\n",
              "      <td>1</td>\n",
              "      <td>22.0</td>\n",
              "      <td>1</td>\n",
              "      <td>0</td>\n",
              "      <td>7.2500</td>\n",
              "    </tr>\n",
              "    <tr>\n",
              "      <th>1</th>\n",
              "      <td>1.0</td>\n",
              "      <td>1</td>\n",
              "      <td>0</td>\n",
              "      <td>38.0</td>\n",
              "      <td>1</td>\n",
              "      <td>0</td>\n",
              "      <td>71.2833</td>\n",
              "    </tr>\n",
              "    <tr>\n",
              "      <th>2</th>\n",
              "      <td>1.0</td>\n",
              "      <td>3</td>\n",
              "      <td>0</td>\n",
              "      <td>26.0</td>\n",
              "      <td>0</td>\n",
              "      <td>0</td>\n",
              "      <td>7.9250</td>\n",
              "    </tr>\n",
              "    <tr>\n",
              "      <th>3</th>\n",
              "      <td>1.0</td>\n",
              "      <td>1</td>\n",
              "      <td>0</td>\n",
              "      <td>35.0</td>\n",
              "      <td>1</td>\n",
              "      <td>0</td>\n",
              "      <td>53.1000</td>\n",
              "    </tr>\n",
              "    <tr>\n",
              "      <th>4</th>\n",
              "      <td>0.0</td>\n",
              "      <td>3</td>\n",
              "      <td>1</td>\n",
              "      <td>35.0</td>\n",
              "      <td>0</td>\n",
              "      <td>0</td>\n",
              "      <td>8.0500</td>\n",
              "    </tr>\n",
              "  </tbody>\n",
              "</table>\n",
              "</div>\n",
              "      <button class=\"colab-df-convert\" onclick=\"convertToInteractive('df-1c7df262-2cdb-4fee-b0ea-7ac5c0a327a8')\"\n",
              "              title=\"Convert this dataframe to an interactive table.\"\n",
              "              style=\"display:none;\">\n",
              "        \n",
              "  <svg xmlns=\"http://www.w3.org/2000/svg\" height=\"24px\"viewBox=\"0 0 24 24\"\n",
              "       width=\"24px\">\n",
              "    <path d=\"M0 0h24v24H0V0z\" fill=\"none\"/>\n",
              "    <path d=\"M18.56 5.44l.94 2.06.94-2.06 2.06-.94-2.06-.94-.94-2.06-.94 2.06-2.06.94zm-11 1L8.5 8.5l.94-2.06 2.06-.94-2.06-.94L8.5 2.5l-.94 2.06-2.06.94zm10 10l.94 2.06.94-2.06 2.06-.94-2.06-.94-.94-2.06-.94 2.06-2.06.94z\"/><path d=\"M17.41 7.96l-1.37-1.37c-.4-.4-.92-.59-1.43-.59-.52 0-1.04.2-1.43.59L10.3 9.45l-7.72 7.72c-.78.78-.78 2.05 0 2.83L4 21.41c.39.39.9.59 1.41.59.51 0 1.02-.2 1.41-.59l7.78-7.78 2.81-2.81c.8-.78.8-2.07 0-2.86zM5.41 20L4 18.59l7.72-7.72 1.47 1.35L5.41 20z\"/>\n",
              "  </svg>\n",
              "      </button>\n",
              "      \n",
              "  <style>\n",
              "    .colab-df-container {\n",
              "      display:flex;\n",
              "      flex-wrap:wrap;\n",
              "      gap: 12px;\n",
              "    }\n",
              "\n",
              "    .colab-df-convert {\n",
              "      background-color: #E8F0FE;\n",
              "      border: none;\n",
              "      border-radius: 50%;\n",
              "      cursor: pointer;\n",
              "      display: none;\n",
              "      fill: #1967D2;\n",
              "      height: 32px;\n",
              "      padding: 0 0 0 0;\n",
              "      width: 32px;\n",
              "    }\n",
              "\n",
              "    .colab-df-convert:hover {\n",
              "      background-color: #E2EBFA;\n",
              "      box-shadow: 0px 1px 2px rgba(60, 64, 67, 0.3), 0px 1px 3px 1px rgba(60, 64, 67, 0.15);\n",
              "      fill: #174EA6;\n",
              "    }\n",
              "\n",
              "    [theme=dark] .colab-df-convert {\n",
              "      background-color: #3B4455;\n",
              "      fill: #D2E3FC;\n",
              "    }\n",
              "\n",
              "    [theme=dark] .colab-df-convert:hover {\n",
              "      background-color: #434B5C;\n",
              "      box-shadow: 0px 1px 3px 1px rgba(0, 0, 0, 0.15);\n",
              "      filter: drop-shadow(0px 1px 2px rgba(0, 0, 0, 0.3));\n",
              "      fill: #FFFFFF;\n",
              "    }\n",
              "  </style>\n",
              "\n",
              "      <script>\n",
              "        const buttonEl =\n",
              "          document.querySelector('#df-1c7df262-2cdb-4fee-b0ea-7ac5c0a327a8 button.colab-df-convert');\n",
              "        buttonEl.style.display =\n",
              "          google.colab.kernel.accessAllowed ? 'block' : 'none';\n",
              "\n",
              "        async function convertToInteractive(key) {\n",
              "          const element = document.querySelector('#df-1c7df262-2cdb-4fee-b0ea-7ac5c0a327a8');\n",
              "          const dataTable =\n",
              "            await google.colab.kernel.invokeFunction('convertToInteractive',\n",
              "                                                     [key], {});\n",
              "          if (!dataTable) return;\n",
              "\n",
              "          const docLinkHtml = 'Like what you see? Visit the ' +\n",
              "            '<a target=\"_blank\" href=https://colab.research.google.com/notebooks/data_table.ipynb>data table notebook</a>'\n",
              "            + ' to learn more about interactive tables.';\n",
              "          element.innerHTML = '';\n",
              "          dataTable['output_type'] = 'display_data';\n",
              "          await google.colab.output.renderOutput(dataTable, element);\n",
              "          const docLink = document.createElement('div');\n",
              "          docLink.innerHTML = docLinkHtml;\n",
              "          element.appendChild(docLink);\n",
              "        }\n",
              "      </script>\n",
              "    </div>\n",
              "  </div>\n",
              "  "
            ]
          },
          "metadata": {},
          "execution_count": 20
        }
      ],
      "source": [
        "passenger_features = layer.get_dataset(\"passengers\").to_pandas()\n",
        "passenger_features.head()"
      ],
      "id": "9KzdA_66_FYw"
    },
    {
      "cell_type": "markdown",
      "source": [
        "Now, let's predict the survival probability of a passenger with the model and dataset we have trained and registered to Layer."
      ],
      "metadata": {
        "id": "L6WSA7iGf2JA"
      },
      "id": "L6WSA7iGf2JA"
    },
    {
      "cell_type": "code",
      "execution_count": 36,
      "metadata": {
        "colab": {
          "base_uri": "https://localhost:8080/"
        },
        "id": "4Ngx4SJb9ZSx",
        "outputId": "6d48d7b3-4465-4897-82f7-52a11ec94562",
        "cellView": "code"
      },
      "outputs": [
        {
          "output_type": "execute_result",
          "data": {
            "text/plain": [
              "0.68"
            ]
          },
          "metadata": {},
          "execution_count": 36
        }
      ],
      "source": [
        "df = passenger_features\n",
        "df = df[['Pclass', 'Sex', 'Age', 'SibSp', 'Parch', 'Fare']]\n",
        "survival_propability = train.predict_proba(df.sample())[0][1]\n",
        "survival_propability"
      ],
      "id": "4Ngx4SJb9ZSx"
    },
    {
      "cell_type": "markdown",
      "source": [
        "# Where to go from here?\n",
        "\n",
        "Now that you have created first Layer Project, you can:\n",
        "\n",
        "- Join our [Slack Community ](https://bit.ly/layercommunityslack)\n",
        "- Visit [Layer Examples Repo](https://github.com/layerai/examples) for more examples\n",
        "- Browse [Trending Layer Projects](https://layer.ai) on our mainpage\n",
        "- Check out [Layer Documentation](https://docs.layer.ai) to learn more"
      ],
      "metadata": {
        "id": "Z8ZnD8htas_-"
      },
      "id": "Z8ZnD8htas_-"
    }
  ],
  "metadata": {
    "colab": {
      "collapsed_sections": [],
      "name": "Copy of Quickstart",
      "provenance": [],
      "toc_visible": true
    },
    "kernelspec": {
      "display_name": "Python 3 (ipykernel)",
      "language": "python",
      "name": "python3"
    },
    "language_info": {
      "codemirror_mode": {
        "name": "ipython",
        "version": 3
      },
      "file_extension": ".py",
      "mimetype": "text/x-python",
      "name": "python",
      "nbconvert_exporter": "python",
      "pygments_lexer": "ipython3",
      "version": "3.8.5"
    }
  },
  "nbformat": 4,
  "nbformat_minor": 5
}