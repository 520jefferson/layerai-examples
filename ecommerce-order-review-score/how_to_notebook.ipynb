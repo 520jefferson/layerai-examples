{
  "nbformat": 4,
  "nbformat_minor": 0,
  "metadata": {
    "colab": {
      "name": "Layer - Ecommerce Order Review Score Prediction.ipynb",
      "provenance": [],
      "collapsed_sections": []
    },
    "kernelspec": {
      "name": "python3",
      "display_name": "Python 3"
    },
    "language_info": {
      "name": "python"
    }
  },
  "cells": [
    {
      "cell_type": "markdown",
      "source": [
        "# Install Requirements"
      ],
      "metadata": {
        "id": "4J3ml8aFOj_v"
      }
    },
    {
      "cell_type": "code",
      "execution_count": null,
      "metadata": {
        "id": "Cbdilt5kqDnn"
      },
      "outputs": [],
      "source": [
        "!pip install layer --upgrade\n",
        "!pip install -U ipython"
      ]
    },
    {
      "cell_type": "markdown",
      "source": [
        "# Let's Make Some Predictions By Fetching Layer Dataset and Model "
      ],
      "metadata": {
        "id": "qHO50M7uOqOe"
      }
    },
    {
      "cell_type": "code",
      "source": [
        "import layer\n",
        "\n",
        "my_model = layer.get_model('layer/ecommerce_olist_order_review_score_prediction/models/review_score_predictor_model').get_train()\n",
        "\n",
        "df = layer.get_dataset('layer/ecommerce_olist_order_review_score_prediction/datasets/training_data').to_pandas()\n",
        "\n",
        "test_sample = df.drop(['review_score', 'order_id'], axis=1).sample()\n",
        "predicted_review_score = my_model.predict(test_sample)\n",
        "print(\"PREDICTED REVIEW SCORE [1-5]: \",predicted_review_score)\n",
        "\n",
        "# Printed result will look like: PREDICTED REVIEW SCORE [1-5]: [4.356268]"
      ],
      "metadata": {
        "colab": {
          "base_uri": "https://localhost:8080/"
        },
        "id": "TXpmTj6bqn9l",
        "outputId": "01550c05-8483-46bd-9532-f9ba7fff4a64"
      },
      "execution_count": null,
      "outputs": [
        {
          "output_type": "stream",
          "name": "stdout",
          "text": [
            "PREDICTED REVIEW SCORE [1-5]:  [4.4441643]\n"
          ]
        }
      ]
    }
  ]
}