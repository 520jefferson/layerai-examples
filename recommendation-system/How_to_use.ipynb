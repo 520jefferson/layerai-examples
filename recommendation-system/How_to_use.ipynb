{
  "nbformat": 4,
  "nbformat_minor": 0,
  "metadata": {
    "colab": {
      "name": "How-to-use: Recommendation System and Product Categorisation.ipynb",
      "provenance": [],
      "collapsed_sections": []
    },
    "kernelspec": {
      "name": "python3",
      "display_name": "Python 3"
    },
    "language_info": {
      "name": "python"
    }
  },
  "cells": [
    {
      "cell_type": "code",
      "execution_count": null,
      "metadata": {
        "id": "v1di7CgTVLpo"
      },
      "outputs": [],
      "source": [
        "!pip install layer -q"
      ]
    },
    {
      "cell_type": "code",
      "source": [
        "import layer\n",
        "import numpy as np\n",
        "\n",
        "# Fetch the K-Means model from Layer\n",
        "kmeans_model = layer.get_model(\"layer/Recommendation_System_and_Product_Categorisation_Project/models/clustering_model\").get_train()\n",
        "\n",
        "# Fetch product vectors (embeddings) dataset from Layer\n",
        "product_ids_and_vectors = layer.get_dataset(\"layer/Recommendation_System_and_Product_Categorisation_Project/datasets/product_ids_and_vectors\").to_pandas()\n",
        "\n",
        "# Product ID to generate recommendations for - You could try different product IDs in the data such as A16, C17, P12 etc.\n",
        "product_id = \"A13\"\n",
        "\n",
        "# Get Vector (Embedding) array of the given product\n",
        "vector_array = np.array(product_ids_and_vectors[product_ids_and_vectors[\"Product_ID\"]==product_id][\"Vectors\"].tolist())\n",
        "\n",
        "# Get cluster number for the given product assigned by the model\n",
        "cluster_no = kmeans_model.predict(vector_array)[0]\n",
        "\n",
        "# Fetch final clusters members list dataset from Layer\n",
        "final_product_clusters = layer.get_dataset(\"layer/Recommendation_System_and_Product_Categorisation_Project/datasets/final_product_clusters\").to_pandas()\n",
        "\n",
        "# Get members list of the cluster that the given product is assigned to \n",
        "cluster_members_list = final_product_clusters[final_product_clusters['Cluster_No']==cluster_no]['Cluster_Member_List'].iloc[0].tolist()\n",
        "\n",
        "# Randomly select 5 product recommendations from the cluster members excluding the given product\n",
        "from random import sample\n",
        "cluster_members_list.remove(product_id)\n",
        "five_product_recommendations = sample(cluster_members_list, 5)\n",
        "\n",
        "print(\"5 Similar Product Recommendations for {}: \".format(product_id),five_product_recommendations)\n",
        "  "
      ],
      "metadata": {
        "colab": {
          "base_uri": "https://localhost:8080/"
        },
        "id": "JMknmPMlVuBh",
        "outputId": "6e35dd78-cd94-4733-e033-e867659682dc"
      },
      "execution_count": 4,
      "outputs": [
        {
          "output_type": "stream",
          "name": "stdout",
          "text": [
            "5 Similar Product Recommendations for A13:  ['A35', 'B19', 'C44', 'A10', 'C15']\n"
          ]
        }
      ]
    }
  ]
}