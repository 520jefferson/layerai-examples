{
 "cells": [
  {
   "cell_type": "markdown",
   "id": "577fd564",
   "metadata": {},
   "source": [
    "# Principal Component Analysis using the Iris Dataset\n",
    "\n",
    "[![Open in Layer](https://development.layer.co/assets/badge.svg)](https://app.layer.ai/douglas_mcilwraith/iris-pca/) [![Open in Colab](https://colab.research.google.com/assets/colab-badge.svg)](https://colab.research.google.com/github/layerai/examples/blob/main/pca-iris/iris-pca.ipynb) [![Layer Examples Github](https://badgen.net/badge/icon/github?icon=github&label)](https://github.com/layerai/examples/tree/main/pca_iris)\n",
    "\n",
    "We use the iris dataset to perform Principal Component Analysis (PCA). PCA is performed and the first two components are used to plot the iris data in two dimensions (down from the original four). We make use of `layer.log()` to plot the resultant graph under the associated resources for this model, this can be found [here](https://app.layer.ai/douglas_mcilwraith/iris-pca/models/iris-pca): \n",
    "\n",
    "Some code used with permission from: Douglas McIlwraith, Haralambos Marmanis, and Dmitry Babenko. 2016. Algorithms of the Intelligent Web (2nd. ed.). Manning Publications Co., USA."
   ]
  },
  {
   "cell_type": "code",
   "execution_count": null,
   "id": "4b9bf290",
   "metadata": {},
   "outputs": [],
   "source": [
    "!pip install layer -U"
   ]
  },
  {
   "cell_type": "code",
   "execution_count": null,
   "id": "86c125db",
   "metadata": {},
   "outputs": [],
   "source": [
    "import layer\n",
    "layer.login()"
   ]
  },
  {
   "cell_type": "code",
   "execution_count": null,
   "id": "2f82d9d6",
   "metadata": {},
   "outputs": [],
   "source": [
    "layer.init(\"iris-pca\")"
   ]
  },
  {
   "cell_type": "code",
   "execution_count": null,
   "id": "300fa849",
   "metadata": {},
   "outputs": [],
   "source": [
    "import numpy as np\n",
    "import pandas as pd\n",
    "\n",
    "from layer.decorators import model, dataset\n",
    "\n",
    "from sklearn import decomposition\n",
    "from sklearn import datasets\n",
    "\n",
    "from itertools import cycle\n",
    "import matplotlib.pyplot as pl"
   ]
  },
  {
   "cell_type": "code",
   "execution_count": null,
   "id": "c01a368d",
   "metadata": {},
   "outputs": [],
   "source": [
    "iris = datasets.load_iris()\n",
    "iris_df = pd.DataFrame(data= np.c_[iris['data'], iris['target']], columns= iris['feature_names'] + ['target'])    \n",
    "\n",
    "@dataset(\"iris-data\")\n",
    "def build():\n",
    "    return iris_df\n",
    "\n",
    "layer.run([build])"
   ]
  },
  {
   "cell_type": "code",
   "execution_count": null,
   "id": "23183ae1",
   "metadata": {},
   "outputs": [],
   "source": [
    "df_iris = layer.get_dataset(\"iris-data\").to_pandas()\n",
    "df_iris_X = df_iris.drop(columns=['target'])\n",
    "df_iris_Y = df_iris['target']"
   ]
  },
  {
   "cell_type": "code",
   "execution_count": null,
   "id": "895c9c6e",
   "metadata": {},
   "outputs": [],
   "source": [
    "@model(\"iris-pca\")\n",
    "def train():\n",
    "    pca = decomposition.PCA(n_components=2)\n",
    "    pca.fit(df_iris_X)\n",
    "    \n",
    "    targets = range(len(list(df_iris_Y.unique())))\n",
    "    colors = cycle('rgb')\n",
    "    markers = cycle('^+o')\n",
    "\n",
    "    X = pca.transform(df_iris_X)\n",
    "\n",
    "    for target,color,marker in zip(targets,colors,markers):\n",
    "        pl.scatter(X[df_iris_Y==target,0],X[df_iris_Y==target,1],label=targets[target],c=color,marker=marker)\n",
    "        pl.legend()\n",
    "        \n",
    "    layer.log({\"PCA on iris\":pl})\n",
    "    \n",
    "    return pca\n",
    "\n",
    "layer.run([train])"
   ]
  }
 ],
 "metadata": {
  "kernelspec": {
   "display_name": "Python 3 (ipykernel)",
   "language": "python",
   "name": "python3"
  },
  "language_info": {
   "codemirror_mode": {
    "name": "ipython",
    "version": 3
   },
   "file_extension": ".py",
   "mimetype": "text/x-python",
   "name": "python",
   "nbconvert_exporter": "python",
   "pygments_lexer": "ipython3",
   "version": "3.8.10"
  }
 },
 "nbformat": 4,
 "nbformat_minor": 5
}
