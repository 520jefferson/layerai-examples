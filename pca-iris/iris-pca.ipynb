{
 "cells": [
  {
   "cell_type": "markdown",
   "id": "8945bae6",
   "metadata": {},
   "source": [
    "# Principal Component Analysis using the Iris Dataset\n",
    "\n",
    "[![Open in Layer](https://development.layer.co/assets/badge.svg)](https://app.layer.ai/douglas_mcilwraith/iris-pca/) [![Open in Colab](https://colab.research.google.com/assets/colab-badge.svg)](https://colab.research.google.com/github/layerai/examples/blob/main/pca-iris/iris-pca.ipynb) [![Layer Examples Github](https://badgen.net/badge/icon/github?icon=github&label)](https://github.com/layerai/examples/tree/main/pca_iris)\n",
    "\n",
    "We use the iris dataset to perform Principal Component Analysis (PCA). PCA is performed and the first two components are used to plot the iris data in two dimensions (down from the original four). We make use of `layer.log()` to plot the resultant graph under the associated resources for this model, this can be found [here](https://app.layer.ai/douglas_mcilwraith/iris-pca/models/iris-pca): \n",
    "\n",
    "Some code used with permission from: Douglas McIlwraith, Haralambos Marmanis, and Dmitry Babenko. 2016. Algorithms of the Intelligent Web (2nd. ed.). Manning Publications Co., USA."
   ]
  },
  {
   "cell_type": "code",
   "execution_count": 2,
   "id": "4b9bf290",
   "metadata": {},
   "outputs": [
    {
     "name": "stdout",
     "output_type": "stream",
     "text": [
      "Requirement already satisfied: layer in /Users/douglas.mcilwraith/.pyenv/versions/3.8.10/lib/python3.8/site-packages (0.9.356767)\n",
      "Collecting layer\n",
      "  Downloading layer-0.9.357766-py3-none-any.whl (438 kB)\n",
      "\u001b[2K     \u001b[90m━━━━━━━━━━━━━━━━━━━━━━━━━━━━━━━━━━━━━━━\u001b[0m \u001b[32m438.3/438.3 KB\u001b[0m \u001b[31m1.9 MB/s\u001b[0m eta \u001b[36m0:00:00\u001b[0m00:01\u001b[0m00:01\u001b[0m\n",
      "\u001b[?25hRequirement already satisfied: pandas>=1.1.2 in /Users/douglas.mcilwraith/.pyenv/versions/3.8.10/lib/python3.8/site-packages (from layer) (1.3.4)\n",
      "Requirement already satisfied: aiohttp<3.8.0,>=3.7.3 in /Users/douglas.mcilwraith/.pyenv/versions/3.8.10/lib/python3.8/site-packages (from layer) (3.7.4.post0)\n",
      "Requirement already satisfied: networkx>=2.5 in /Users/douglas.mcilwraith/.pyenv/versions/3.8.10/lib/python3.8/site-packages (from layer) (2.6.3)\n",
      "Requirement already satisfied: grpcio==1.45.0 in /Users/douglas.mcilwraith/.pyenv/versions/3.8.10/lib/python3.8/site-packages (from layer) (1.45.0)\n",
      "Requirement already satisfied: pyarrow==7.0.0 in /Users/douglas.mcilwraith/.pyenv/versions/3.8.10/lib/python3.8/site-packages (from layer) (7.0.0)\n",
      "Requirement already satisfied: rich~=10.12.0 in /Users/douglas.mcilwraith/.pyenv/versions/3.8.10/lib/python3.8/site-packages (from layer) (10.12.0)\n",
      "Requirement already satisfied: Pillow>=9.1.0 in /Users/douglas.mcilwraith/.pyenv/versions/3.8.10/lib/python3.8/site-packages (from layer) (9.1.0)\n",
      "Requirement already satisfied: protobuf>=3.12.0 in /Users/douglas.mcilwraith/.pyenv/versions/3.8.10/lib/python3.8/site-packages (from layer) (3.19.1)\n",
      "Requirement already satisfied: idna<3 in /Users/douglas.mcilwraith/.pyenv/versions/3.8.10/lib/python3.8/site-packages (from layer) (2.10)\n",
      "Requirement already satisfied: cloudpickle>=2.0.0 in /Users/douglas.mcilwraith/.pyenv/versions/3.8.10/lib/python3.8/site-packages (from layer) (2.0.0)\n",
      "Requirement already satisfied: typing-extensions<4.0.0 in /Users/douglas.mcilwraith/.pyenv/versions/3.8.10/lib/python3.8/site-packages (from layer) (3.10.0.2)\n",
      "Requirement already satisfied: humanize>=3.11.0 in /Users/douglas.mcilwraith/.pyenv/versions/3.8.10/lib/python3.8/site-packages (from layer) (3.13.1)\n",
      "Requirement already satisfied: polling>=0.3.1 in /Users/douglas.mcilwraith/.pyenv/versions/3.8.10/lib/python3.8/site-packages (from layer) (0.3.2)\n",
      "Requirement already satisfied: validate-email==1.3 in /Users/douglas.mcilwraith/.pyenv/versions/3.8.10/lib/python3.8/site-packages (from layer) (1.3)\n",
      "Requirement already satisfied: wrapt>=1.13.3 in /Users/douglas.mcilwraith/.pyenv/versions/3.8.10/lib/python3.8/site-packages (from layer) (1.13.3)\n",
      "Requirement already satisfied: pyjwt<2.0.0,>=1.7.1 in /Users/douglas.mcilwraith/.pyenv/versions/3.8.10/lib/python3.8/site-packages (from layer) (1.7.1)\n",
      "Requirement already satisfied: prompt-toolkit>=3.0.8 in /Users/douglas.mcilwraith/.pyenv/versions/3.8.10/lib/python3.8/site-packages (from layer) (3.0.23)\n",
      "Requirement already satisfied: boto3>=1.16.24 in /Users/douglas.mcilwraith/.pyenv/versions/3.8.10/lib/python3.8/site-packages (from layer) (1.20.16)\n",
      "Requirement already satisfied: grpcio-tools==1.45.0 in /Users/douglas.mcilwraith/.pyenv/versions/3.8.10/lib/python3.8/site-packages (from layer) (1.45.0)\n",
      "Requirement already satisfied: transformers in /Users/douglas.mcilwraith/.pyenv/versions/3.8.10/lib/python3.8/site-packages (from layer) (4.12.5)\n",
      "Requirement already satisfied: jsonschema==3.1.1 in /Users/douglas.mcilwraith/.pyenv/versions/3.8.10/lib/python3.8/site-packages (from layer) (3.1.1)\n",
      "Requirement already satisfied: packaging<=21.0 in /Users/douglas.mcilwraith/.pyenv/versions/3.8.10/lib/python3.8/site-packages (from layer) (21.0)\n",
      "Requirement already satisfied: mlflow>=1.25.0 in /Users/douglas.mcilwraith/.pyenv/versions/3.8.10/lib/python3.8/site-packages (from layer) (1.25.1)\n",
      "Requirement already satisfied: yarl>=1.6.3 in /Users/douglas.mcilwraith/.pyenv/versions/3.8.10/lib/python3.8/site-packages (from layer) (1.7.2)\n",
      "Requirement already satisfied: Jinja2>=2.11.3 in /Users/douglas.mcilwraith/.pyenv/versions/3.8.10/lib/python3.8/site-packages (from layer) (3.0.3)\n",
      "Requirement already satisfied: cryptography>=3.4.7 in /Users/douglas.mcilwraith/.pyenv/versions/3.8.10/lib/python3.8/site-packages (from layer) (36.0.0)\n",
      "Requirement already satisfied: six>=1.5.2 in /Users/douglas.mcilwraith/.pyenv/versions/3.8.10/lib/python3.8/site-packages (from grpcio==1.45.0->layer) (1.16.0)\n",
      "Requirement already satisfied: setuptools in /Users/douglas.mcilwraith/.pyenv/versions/3.8.10/lib/python3.8/site-packages (from grpcio-tools==1.45.0->layer) (56.0.0)\n",
      "Requirement already satisfied: importlib-metadata in /Users/douglas.mcilwraith/.pyenv/versions/3.8.10/lib/python3.8/site-packages (from jsonschema==3.1.1->layer) (4.8.2)\n",
      "Requirement already satisfied: attrs>=17.4.0 in /Users/douglas.mcilwraith/.pyenv/versions/3.8.10/lib/python3.8/site-packages (from jsonschema==3.1.1->layer) (21.2.0)\n",
      "Requirement already satisfied: pyrsistent>=0.14.0 in /Users/douglas.mcilwraith/.pyenv/versions/3.8.10/lib/python3.8/site-packages (from jsonschema==3.1.1->layer) (0.18.0)\n",
      "Requirement already satisfied: numpy>=1.16.6 in /Users/douglas.mcilwraith/.pyenv/versions/3.8.10/lib/python3.8/site-packages (from pyarrow==7.0.0->layer) (1.18.5)\n",
      "Requirement already satisfied: chardet<5.0,>=2.0 in /Users/douglas.mcilwraith/.pyenv/versions/3.8.10/lib/python3.8/site-packages (from aiohttp<3.8.0,>=3.7.3->layer) (4.0.0)\n",
      "Requirement already satisfied: async-timeout<4.0,>=3.0 in /Users/douglas.mcilwraith/.pyenv/versions/3.8.10/lib/python3.8/site-packages (from aiohttp<3.8.0,>=3.7.3->layer) (3.0.1)\n",
      "Requirement already satisfied: multidict<7.0,>=4.5 in /Users/douglas.mcilwraith/.pyenv/versions/3.8.10/lib/python3.8/site-packages (from aiohttp<3.8.0,>=3.7.3->layer) (5.2.0)\n",
      "Requirement already satisfied: jmespath<1.0.0,>=0.7.1 in /Users/douglas.mcilwraith/.pyenv/versions/3.8.10/lib/python3.8/site-packages (from boto3>=1.16.24->layer) (0.10.0)\n",
      "Requirement already satisfied: botocore<1.24.0,>=1.23.16 in /Users/douglas.mcilwraith/.pyenv/versions/3.8.10/lib/python3.8/site-packages (from boto3>=1.16.24->layer) (1.23.16)\n",
      "Requirement already satisfied: s3transfer<0.6.0,>=0.5.0 in /Users/douglas.mcilwraith/.pyenv/versions/3.8.10/lib/python3.8/site-packages (from boto3>=1.16.24->layer) (0.5.0)\n",
      "Requirement already satisfied: cffi>=1.12 in /Users/douglas.mcilwraith/.pyenv/versions/3.8.10/lib/python3.8/site-packages (from cryptography>=3.4.7->layer) (1.15.0)\n",
      "Requirement already satisfied: MarkupSafe>=2.0 in /Users/douglas.mcilwraith/.pyenv/versions/3.8.10/lib/python3.8/site-packages (from Jinja2>=2.11.3->layer) (2.0.1)\n",
      "Requirement already satisfied: gunicorn in /Users/douglas.mcilwraith/.pyenv/versions/3.8.10/lib/python3.8/site-packages (from mlflow>=1.25.0->layer) (20.1.0)\n",
      "Requirement already satisfied: querystring-parser in /Users/douglas.mcilwraith/.pyenv/versions/3.8.10/lib/python3.8/site-packages (from mlflow>=1.25.0->layer) (1.2.4)\n",
      "Requirement already satisfied: pyyaml>=5.1 in /Users/douglas.mcilwraith/.pyenv/versions/3.8.10/lib/python3.8/site-packages (from mlflow>=1.25.0->layer) (6.0)\n",
      "Requirement already satisfied: pytz in /Users/douglas.mcilwraith/.pyenv/versions/3.8.10/lib/python3.8/site-packages (from mlflow>=1.25.0->layer) (2021.3)\n",
      "Requirement already satisfied: prometheus-flask-exporter in /Users/douglas.mcilwraith/.pyenv/versions/3.8.10/lib/python3.8/site-packages (from mlflow>=1.25.0->layer) (0.18.6)\n",
      "Requirement already satisfied: databricks-cli>=0.8.7 in /Users/douglas.mcilwraith/.pyenv/versions/3.8.10/lib/python3.8/site-packages (from mlflow>=1.25.0->layer) (0.16.2)\n",
      "Requirement already satisfied: Flask in /Users/douglas.mcilwraith/.pyenv/versions/3.8.10/lib/python3.8/site-packages (from mlflow>=1.25.0->layer) (2.0.2)\n",
      "Requirement already satisfied: docker>=4.0.0 in /Users/douglas.mcilwraith/.pyenv/versions/3.8.10/lib/python3.8/site-packages (from mlflow>=1.25.0->layer) (5.0.3)\n",
      "Requirement already satisfied: click>=7.0 in /Users/douglas.mcilwraith/.pyenv/versions/3.8.10/lib/python3.8/site-packages (from mlflow>=1.25.0->layer) (8.0.3)\n",
      "Requirement already satisfied: sqlalchemy in /Users/douglas.mcilwraith/.pyenv/versions/3.8.10/lib/python3.8/site-packages (from mlflow>=1.25.0->layer) (1.4.27)\n",
      "Requirement already satisfied: scipy in /Users/douglas.mcilwraith/.pyenv/versions/3.8.10/lib/python3.8/site-packages (from mlflow>=1.25.0->layer) (1.8.0)\n",
      "Requirement already satisfied: entrypoints in /Users/douglas.mcilwraith/.pyenv/versions/3.8.10/lib/python3.8/site-packages (from mlflow>=1.25.0->layer) (0.3)\n",
      "Requirement already satisfied: requests>=2.17.3 in /Users/douglas.mcilwraith/.pyenv/versions/3.8.10/lib/python3.8/site-packages (from mlflow>=1.25.0->layer) (2.26.0)\n",
      "Requirement already satisfied: sqlparse>=0.3.1 in /Users/douglas.mcilwraith/.pyenv/versions/3.8.10/lib/python3.8/site-packages (from mlflow>=1.25.0->layer) (0.4.2)\n",
      "Requirement already satisfied: gitpython>=2.1.0 in /Users/douglas.mcilwraith/.pyenv/versions/3.8.10/lib/python3.8/site-packages (from mlflow>=1.25.0->layer) (3.1.14)\n",
      "Requirement already satisfied: alembic in /Users/douglas.mcilwraith/.pyenv/versions/3.8.10/lib/python3.8/site-packages (from mlflow>=1.25.0->layer) (1.4.1)\n"
     ]
    },
    {
     "name": "stdout",
     "output_type": "stream",
     "text": [
      "Requirement already satisfied: pyparsing>=2.0.2 in /Users/douglas.mcilwraith/.pyenv/versions/3.8.10/lib/python3.8/site-packages (from packaging<=21.0->layer) (3.0.6)\n",
      "Requirement already satisfied: python-dateutil>=2.7.3 in /Users/douglas.mcilwraith/.pyenv/versions/3.8.10/lib/python3.8/site-packages (from pandas>=1.1.2->layer) (2.8.2)\n",
      "Requirement already satisfied: wcwidth in /Users/douglas.mcilwraith/.pyenv/versions/3.8.10/lib/python3.8/site-packages (from prompt-toolkit>=3.0.8->layer) (0.2.5)\n",
      "Requirement already satisfied: pygments<3.0.0,>=2.6.0 in /Users/douglas.mcilwraith/.pyenv/versions/3.8.10/lib/python3.8/site-packages (from rich~=10.12.0->layer) (2.10.0)\n",
      "Requirement already satisfied: commonmark<0.10.0,>=0.9.0 in /Users/douglas.mcilwraith/.pyenv/versions/3.8.10/lib/python3.8/site-packages (from rich~=10.12.0->layer) (0.9.1)\n",
      "Requirement already satisfied: colorama<0.5.0,>=0.4.0 in /Users/douglas.mcilwraith/.pyenv/versions/3.8.10/lib/python3.8/site-packages (from rich~=10.12.0->layer) (0.4.4)\n",
      "Requirement already satisfied: tqdm>=4.27 in /Users/douglas.mcilwraith/.pyenv/versions/3.8.10/lib/python3.8/site-packages (from transformers->layer) (4.62.3)\n",
      "Requirement already satisfied: tokenizers<0.11,>=0.10.1 in /Users/douglas.mcilwraith/.pyenv/versions/3.8.10/lib/python3.8/site-packages (from transformers->layer) (0.10.3)\n",
      "Requirement already satisfied: sacremoses in /Users/douglas.mcilwraith/.pyenv/versions/3.8.10/lib/python3.8/site-packages (from transformers->layer) (0.0.46)\n",
      "Requirement already satisfied: filelock in /Users/douglas.mcilwraith/.pyenv/versions/3.8.10/lib/python3.8/site-packages (from transformers->layer) (3.4.0)\n",
      "Requirement already satisfied: regex!=2019.12.17 in /Users/douglas.mcilwraith/.pyenv/versions/3.8.10/lib/python3.8/site-packages (from transformers->layer) (2021.11.10)\n",
      "Requirement already satisfied: huggingface-hub<1.0,>=0.1.0 in /Users/douglas.mcilwraith/.pyenv/versions/3.8.10/lib/python3.8/site-packages (from transformers->layer) (0.1.2)\n",
      "Requirement already satisfied: urllib3<1.27,>=1.25.4 in /Users/douglas.mcilwraith/.pyenv/versions/3.8.10/lib/python3.8/site-packages (from botocore<1.24.0,>=1.23.16->boto3>=1.16.24->layer) (1.26.7)\n",
      "Requirement already satisfied: pycparser in /Users/douglas.mcilwraith/.pyenv/versions/3.8.10/lib/python3.8/site-packages (from cffi>=1.12->cryptography>=3.4.7->layer) (2.21)\n",
      "Requirement already satisfied: tabulate>=0.7.7 in /Users/douglas.mcilwraith/.pyenv/versions/3.8.10/lib/python3.8/site-packages (from databricks-cli>=0.8.7->mlflow>=1.25.0->layer) (0.8.9)\n",
      "Requirement already satisfied: websocket-client>=0.32.0 in /Users/douglas.mcilwraith/.pyenv/versions/3.8.10/lib/python3.8/site-packages (from docker>=4.0.0->mlflow>=1.25.0->layer) (1.2.1)\n",
      "Requirement already satisfied: gitdb<5,>=4.0.1 in /Users/douglas.mcilwraith/.pyenv/versions/3.8.10/lib/python3.8/site-packages (from gitpython>=2.1.0->mlflow>=1.25.0->layer) (4.0.9)\n",
      "Requirement already satisfied: zipp>=0.5 in /Users/douglas.mcilwraith/.pyenv/versions/3.8.10/lib/python3.8/site-packages (from importlib-metadata->jsonschema==3.1.1->layer) (3.6.0)\n",
      "Requirement already satisfied: certifi>=2017.4.17 in /Users/douglas.mcilwraith/.pyenv/versions/3.8.10/lib/python3.8/site-packages (from requests>=2.17.3->mlflow>=1.25.0->layer) (2021.10.8)\n",
      "Requirement already satisfied: charset-normalizer~=2.0.0 in /Users/douglas.mcilwraith/.pyenv/versions/3.8.10/lib/python3.8/site-packages (from requests>=2.17.3->mlflow>=1.25.0->layer) (2.0.7)\n",
      "Requirement already satisfied: python-editor>=0.3 in /Users/douglas.mcilwraith/.pyenv/versions/3.8.10/lib/python3.8/site-packages (from alembic->mlflow>=1.25.0->layer) (1.0.4)\n",
      "Requirement already satisfied: Mako in /Users/douglas.mcilwraith/.pyenv/versions/3.8.10/lib/python3.8/site-packages (from alembic->mlflow>=1.25.0->layer) (1.1.6)\n",
      "Requirement already satisfied: greenlet!=0.4.17 in /Users/douglas.mcilwraith/.pyenv/versions/3.8.10/lib/python3.8/site-packages (from sqlalchemy->mlflow>=1.25.0->layer) (1.1.2)\n",
      "Requirement already satisfied: Werkzeug>=2.0 in /Users/douglas.mcilwraith/.pyenv/versions/3.8.10/lib/python3.8/site-packages (from Flask->mlflow>=1.25.0->layer) (2.0.2)\n",
      "Requirement already satisfied: itsdangerous>=2.0 in /Users/douglas.mcilwraith/.pyenv/versions/3.8.10/lib/python3.8/site-packages (from Flask->mlflow>=1.25.0->layer) (2.0.1)\n",
      "Requirement already satisfied: prometheus-client in /Users/douglas.mcilwraith/.pyenv/versions/3.8.10/lib/python3.8/site-packages (from prometheus-flask-exporter->mlflow>=1.25.0->layer) (0.12.0)\n",
      "Requirement already satisfied: joblib in /Users/douglas.mcilwraith/.pyenv/versions/3.8.10/lib/python3.8/site-packages (from sacremoses->transformers->layer) (1.1.0)\n",
      "Requirement already satisfied: smmap<6,>=3.0.1 in /Users/douglas.mcilwraith/.pyenv/versions/3.8.10/lib/python3.8/site-packages (from gitdb<5,>=4.0.1->gitpython>=2.1.0->mlflow>=1.25.0->layer) (5.0.0)\n",
      "Installing collected packages: layer\n",
      "  Attempting uninstall: layer\n",
      "    Found existing installation: layer 0.9.356767\n",
      "    Uninstalling layer-0.9.356767:\n",
      "      Successfully uninstalled layer-0.9.356767\n",
      "Successfully installed layer-0.9.357766\n",
      "\u001b[33mWARNING: You are using pip version 22.0.3; however, version 22.1 is available.\n",
      "You should consider upgrading via the '/Users/douglas.mcilwraith/.pyenv/versions/3.8.10/bin/python3.8 -m pip install --upgrade pip' command.\u001b[0m\u001b[33m\n",
      "\u001b[0m"
     ]
    }
   ],
   "source": [
    "!pip install layer -U"
   ]
  },
  {
   "cell_type": "code",
   "execution_count": 3,
   "id": "86c125db",
   "metadata": {},
   "outputs": [],
   "source": [
    "import layer\n",
    "layer.login()"
   ]
  },
  {
   "cell_type": "code",
   "execution_count": 4,
   "id": "2f82d9d6",
   "metadata": {},
   "outputs": [
    {
     "data": {
      "text/plain": [
       "Project(name='iris-pca', raw_datasets=[], derived_datasets=[], models=[], path=PosixPath('.'), project_files_hash='', readme='', account=Account(id=UUID('93bceff2-c8d2-484c-99cb-8bc5c8b6962a'), name='douglas_mcilwraith'), _id=UUID('72ba452e-f9c4-4ce3-8d48-80a996832f10'), functions=[])"
      ]
     },
     "execution_count": 4,
     "metadata": {},
     "output_type": "execute_result"
    }
   ],
   "source": [
    "layer.init(\"iris-pca\")"
   ]
  },
  {
   "cell_type": "code",
   "execution_count": 5,
   "id": "300fa849",
   "metadata": {},
   "outputs": [],
   "source": [
    "import numpy as np\n",
    "import pandas as pd\n",
    "\n",
    "from layer.decorators import model, dataset\n",
    "\n",
    "from sklearn import decomposition\n",
    "from sklearn import datasets\n",
    "\n",
    "from itertools import cycle\n",
    "import matplotlib.pyplot as pl"
   ]
  },
  {
   "cell_type": "code",
   "execution_count": 6,
   "id": "a06eed13",
   "metadata": {},
   "outputs": [
    {
     "data": {
      "application/vnd.jupyter.widget-view+json": {
       "model_id": "8d23b99949194b89836a97cedcf9bdf6",
       "version_major": 2,
       "version_minor": 0
      },
      "text/plain": [
       "Output()"
      ]
     },
     "metadata": {},
     "output_type": "display_data"
    },
    {
     "data": {
      "application/javascript": [
       "\n",
       "document.querySelectorAll(\"#output-area a\").forEach(function(a){\n",
       "    a.setAttribute('target', '_blank');\n",
       "})\n",
       "        "
      ],
      "text/plain": [
       "<IPython.core.display.Javascript object>"
      ]
     },
     "metadata": {},
     "output_type": "display_data"
    },
    {
     "data": {
      "application/javascript": [
       "\n",
       "document.querySelectorAll(\".output a\").forEach(function(a){\n",
       "    a.setAttribute('target', '_blank');\n",
       "})\n",
       "        "
      ],
      "text/plain": [
       "<IPython.core.display.Javascript object>"
      ]
     },
     "metadata": {},
     "output_type": "display_data"
    },
    {
     "data": {
      "text/plain": [
       "Run(project_name='iris-pca')"
      ]
     },
     "execution_count": 6,
     "metadata": {},
     "output_type": "execute_result"
    }
   ],
   "source": [
    "iris = datasets.load_iris()\n",
    "iris_df = pd.DataFrame(data= np.c_[iris['data'], iris['target']], columns= iris['feature_names'] + ['target'])    \n",
    "\n",
    "@dataset(\"iris-data\")\n",
    "def build():\n",
    "    return iris_df\n",
    "\n",
    "layer.run([build])"
   ]
  },
  {
   "cell_type": "code",
   "execution_count": 7,
   "id": "23183ae1",
   "metadata": {},
   "outputs": [],
   "source": [
    "df_iris = layer.get_dataset(\"iris-data\").to_pandas()\n",
    "df_iris_X = df_iris.drop(columns=['target'])\n",
    "df_iris_Y = df_iris['target']"
   ]
  },
  {
   "cell_type": "code",
   "execution_count": 8,
   "id": "895c9c6e",
   "metadata": {},
   "outputs": [
    {
     "data": {
      "application/vnd.jupyter.widget-view+json": {
       "model_id": "76765cf91b114217b4f09663e16f9b30",
       "version_major": 2,
       "version_minor": 0
      },
      "text/plain": [
       "Output()"
      ]
     },
     "metadata": {},
     "output_type": "display_data"
    },
    {
     "data": {
      "application/javascript": [
       "\n",
       "document.querySelectorAll(\"#output-area a\").forEach(function(a){\n",
       "    a.setAttribute('target', '_blank');\n",
       "})\n",
       "        "
      ],
      "text/plain": [
       "<IPython.core.display.Javascript object>"
      ]
     },
     "metadata": {},
     "output_type": "display_data"
    },
    {
     "data": {
      "application/javascript": [
       "\n",
       "document.querySelectorAll(\".output a\").forEach(function(a){\n",
       "    a.setAttribute('target', '_blank');\n",
       "})\n",
       "        "
      ],
      "text/plain": [
       "<IPython.core.display.Javascript object>"
      ]
     },
     "metadata": {},
     "output_type": "display_data"
    },
    {
     "data": {
      "text/plain": [
       "Run(project_name='iris-pca')"
      ]
     },
     "execution_count": 8,
     "metadata": {},
     "output_type": "execute_result"
    }
   ],
   "source": [
    "@model(\"iris-pca\")\n",
    "def train():\n",
    "    pca = decomposition.PCA(n_components=2)\n",
    "    pca.fit(df_iris_X)\n",
    "    \n",
    "    targets = range(len(list(df_iris_Y.unique())))\n",
    "    colors = cycle('rgb')\n",
    "    markers = cycle('^+o')\n",
    "\n",
    "    X = pca.transform(df_iris_X)\n",
    "\n",
    "    for target,color,marker in zip(targets,colors,markers):\n",
    "        pl.scatter(X[df_iris_Y==target,0],X[df_iris_Y==target,1],label=targets[target],c=color,marker=marker)\n",
    "        pl.legend()\n",
    "        \n",
    "    layer.log({\"PCA on iris\":pl})\n",
    "    \n",
    "    return pca\n",
    "\n",
    "layer.run([train])"
   ]
  },
  {
   "cell_type": "code",
   "execution_count": null,
   "id": "06581af4",
   "metadata": {},
   "outputs": [],
   "source": []
  }
 ],
 "metadata": {
  "kernelspec": {
   "display_name": "Python 3 (ipykernel)",
   "language": "python",
   "name": "python3"
  },
  "language_info": {
   "codemirror_mode": {
    "name": "ipython",
    "version": 3
   },
   "file_extension": ".py",
   "mimetype": "text/x-python",
   "name": "python",
   "nbconvert_exporter": "python",
   "pygments_lexer": "ipython3",
   "version": "3.8.10"
  }
 },
 "nbformat": 4,
 "nbformat_minor": 5
}
